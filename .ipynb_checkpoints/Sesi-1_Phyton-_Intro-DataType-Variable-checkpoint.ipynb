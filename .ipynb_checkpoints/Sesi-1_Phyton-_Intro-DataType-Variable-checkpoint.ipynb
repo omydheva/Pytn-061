{
 "cells": [
  {
   "cell_type": "markdown",
   "id": "6ac57ff2-e562-449a-887c-5d9359f1da71",
   "metadata": {},
   "source": [
    "## Pengenalan Phyton, tipe data, variable\n",
    "## tipe data\n",
    "- INTEGER (class INT) --> Angka bulat\n",
    "- DECIMAL (class FLOAT) --> Angka bilangan koma\n",
    "- STRING (class STR) --> Text\n",
    "- BOOLEAN (class BOOL) --> true or false"
   ]
  },
  {
   "cell_type": "code",
   "execution_count": 13,
   "id": "a91bb744-121b-4ded-bf86-56b377f9b16d",
   "metadata": {},
   "outputs": [
    {
     "name": "stdout",
     "output_type": "stream",
     "text": [
      "123456\n",
      "981264\n",
      "<class 'int'>\n",
      "23.4546\n",
      "0.0062342\n",
      "0.087436\n",
      "<class 'float'>\n",
      "hai kamu\n",
      "halo halo halo\n",
      "<class 'str'>\n",
      "\n",
      "\n",
      "<class 'bool'>\n"
     ]
    }
   ],
   "source": [
    "print(123456)\n",
    "print(981264)\n",
    "print(type(123456))\n",
    "print(23.4546)\n",
    "print(6.2342e-3)\n",
    "print(.087436)\n",
    "print(type(.087436))\n",
    "print('hai kamu')\n",
    "print(\"halo halo halo\")\n",
    "print(type('halo halo halo'))\n",
    "print('') # <-- text kosong\n",
    "print(\"\") # <-- text kosong\n",
    "print(type(True)) # <-- boolean must be capitalized in first letter"
   ]
  },
  {
   "cell_type": "markdown",
   "id": "05941a68-3fd3-438e-a2ab-a61134dc7533",
   "metadata": {},
   "source": [
    "## Variable\n",
    "- number\n",
    "- string"
   ]
  },
  {
   "cell_type": "code",
   "execution_count": 14,
   "id": "38db743d-948a-4b6a-82a6-0489a6778ea1",
   "metadata": {},
   "outputs": [
    {
     "name": "stdout",
     "output_type": "stream",
     "text": [
      "300 150 150\n"
     ]
    }
   ],
   "source": [
    "n = 300\n",
    "a = b = c = 150\n",
    "\n",
    "print(n, a , b)"
   ]
  },
  {
   "cell_type": "code",
   "execution_count": 15,
   "id": "8f89d2f3-328d-4d0b-a036-26624a4325fa",
   "metadata": {},
   "outputs": [
    {
     "name": "stdout",
     "output_type": "stream",
     "text": [
      "hello Hactiv8 joko 23\n"
     ]
    }
   ],
   "source": [
    "Nama = 'joko'\n",
    "kalimat = \"hello Hactiv8\"\n",
    "umur = 23\n",
    "\n",
    "print (kalimat, Nama, umur)"
   ]
  },
  {
   "cell_type": "markdown",
   "id": "112b5c6f-9a88-402a-8541-cb4808ddd1d0",
   "metadata": {},
   "source": [
    "### Operator dan expression\n",
    "- aritmatika\n",
    "- comparison\n",
    "- manipulasi text"
   ]
  },
  {
   "cell_type": "code",
   "execution_count": 19,
   "id": "4e0b6a8d-f7f8-431e-9763-159a3355af40",
   "metadata": {},
   "outputs": [
    {
     "name": "stdout",
     "output_type": "stream",
     "text": [
      "30\n",
      "27\n",
      "-10\n",
      "2.0\n",
      "<class 'float'>\n",
      "195\n",
      "100\n",
      "0\n",
      "1\n",
      "True\n",
      "False\n",
      "True\n",
      "True\n",
      "True\n"
     ]
    }
   ],
   "source": [
    "a = 10\n",
    "b = 20\n",
    "\n",
    "print (a+b)\n",
    "print (a+b-3)\n",
    "print (a-b)\n",
    "print (b/a) # hasil dari pembagian ini adalah 'float'\n",
    "print(type(b/a))\n",
    "print (a * b - 5)\n",
    "print (a ** 2) # ** adalah pangkat\n",
    "print (b % a) # % adalah modulo --> mengambil sisa dari pembagian\n",
    "print (7 % 2) # % adalah modulo --> mengambil sisa dari pembagian\n",
    "\n",
    "c = 10\n",
    "print(a == c)\n",
    "print(a >= b)\n",
    "print(b > a)\n",
    "print(b != a)\n",
    "print(c <= b)"
   ]
  },
  {
   "cell_type": "code",
   "execution_count": 20,
   "id": "bbad2664-eace-4c67-b8a9-35ba3944f51a",
   "metadata": {},
   "outputs": [],
   "source": [
    "halo = 'halo'\n",
    "bandung = \"bandung\""
   ]
  },
  {
   "cell_type": "code",
   "execution_count": 24,
   "id": "b6c53376-749f-488a-a4c2-db23dc27ffa5",
   "metadata": {},
   "outputs": [
    {
     "name": "stdout",
     "output_type": "stream",
     "text": [
      "halohalobandung\n"
     ]
    }
   ],
   "source": [
    "pesan = halo * 2 + bandung\n",
    "print(pesan)"
   ]
  },
  {
   "cell_type": "code",
   "execution_count": 28,
   "id": "5f1526c0-c8a5-4c4c-9201-ab51206fbea1",
   "metadata": {},
   "outputs": [
    {
     "name": "stdout",
     "output_type": "stream",
     "text": [
      "True\n"
     ]
    }
   ],
   "source": [
    "a = 'a'\n",
    "hotel = 'HoteL ManDARIn'\n",
    "print (a in pesan) # 'in' menunjukkan bahwa apakah ada didalam text dan hasilnya adalah 'boolean'"
   ]
  },
  {
   "cell_type": "code",
   "execution_count": 32,
   "id": "c01fc2b7-5162-472f-a0e5-2ee92d2d061e",
   "metadata": {},
   "outputs": [
    {
     "ename": "NameError",
     "evalue": "name 'hotel' is not defined",
     "output_type": "error",
     "traceback": [
      "\u001b[1;31m---------------------------------------------------------------------------\u001b[0m",
      "\u001b[1;31mNameError\u001b[0m                                 Traceback (most recent call last)",
      "\u001b[1;32m<ipython-input-32-6ff438e9952f>\u001b[0m in \u001b[0;36m<module>\u001b[1;34m\u001b[0m\n\u001b[1;32m----> 1\u001b[1;33m \u001b[0mprint\u001b[0m\u001b[1;33m(\u001b[0m\u001b[0mhotel\u001b[0m\u001b[1;33m.\u001b[0m\u001b[0mcapitalized\u001b[0m\u001b[1;33m(\u001b[0m\u001b[1;33m)\u001b[0m\u001b[1;33m)\u001b[0m\u001b[1;33m\u001b[0m\u001b[1;33m\u001b[0m\u001b[0m\n\u001b[0m\u001b[0;32m      2\u001b[0m \u001b[0mprint\u001b[0m\u001b[1;33m(\u001b[0m\u001b[0mhotel\u001b[0m\u001b[1;33m.\u001b[0m\u001b[0mlower\u001b[0m\u001b[1;33m(\u001b[0m\u001b[1;33m)\u001b[0m\u001b[1;33m)\u001b[0m\u001b[1;33m\u001b[0m\u001b[1;33m\u001b[0m\u001b[0m\n\u001b[0;32m      3\u001b[0m \u001b[0mprint\u001b[0m\u001b[1;33m(\u001b[0m\u001b[0mhotel\u001b[0m\u001b[1;33m.\u001b[0m\u001b[0mupper\u001b[0m\u001b[1;33m(\u001b[0m\u001b[1;33m)\u001b[0m\u001b[1;33m)\u001b[0m\u001b[1;33m\u001b[0m\u001b[1;33m\u001b[0m\u001b[0m\n\u001b[0;32m      4\u001b[0m \u001b[0mprint\u001b[0m\u001b[1;33m(\u001b[0m\u001b[0mhotel\u001b[0m\u001b[1;33m.\u001b[0m\u001b[0mswapcase\u001b[0m\u001b[1;33m(\u001b[0m\u001b[1;33m)\u001b[0m\u001b[1;33m)\u001b[0m\u001b[1;33m\u001b[0m\u001b[1;33m\u001b[0m\u001b[0m\n\u001b[0;32m      5\u001b[0m \u001b[0mprint\u001b[0m\u001b[1;33m(\u001b[0m\u001b[0mhotel\u001b[0m\u001b[1;33m.\u001b[0m\u001b[0mtitle\u001b[0m\u001b[1;33m(\u001b[0m\u001b[1;33m)\u001b[0m\u001b[1;33m)\u001b[0m\u001b[1;33m\u001b[0m\u001b[1;33m\u001b[0m\u001b[0m\n",
      "\u001b[1;31mNameError\u001b[0m: name 'hotel' is not defined"
     ]
    }
   ],
   "source": [
    "print(hotel.capitalized())\n",
    "print(hotel.lower())\n",
    "print(hotel.upper())\n",
    "print(hotel.swapcase())\n",
    "print(hotel.title())"
   ]
  },
  {
   "cell_type": "markdown",
   "id": "66d9360b-1f34-43b5-bfd9-459c4b28669d",
   "metadata": {},
   "source": [
    "## LIST\n",
    "-element can be change\n",
    "\n",
    "-pake [...]\n",
    "\n",
    "- can be nested\n",
    "\n",
    "+ <-- concatenate\n",
    "* <-- replication\n",
    "\n",
    "\n",
    "- len() <-- jumlah elemet didalam list\n",
    "- max() <-- nilai terbesar dalam list\n",
    "- min() <-- nilai terkecil dalam list\n",
    "- modifying list value"
   ]
  },
  {
   "cell_type": "code",
   "execution_count": 33,
   "id": "b48382db-26b1-45ae-8275-501e97b28432",
   "metadata": {},
   "outputs": [
    {
     "name": "stdout",
     "output_type": "stream",
     "text": [
      "amin\n",
      "mina\n",
      "nami\n",
      "['iman', 'mina', 'mana', 'maan']\n"
     ]
    }
   ],
   "source": [
    "sejati = ['amin', \"iman\", 'mina', 'mana', \"maan\", \"nami\", 'mina']\n",
    "list_number = [1,3,2,5,7,5,9]\n",
    "print(sejati[0])\n",
    "print(sejati[2])\n",
    "print(sejati[-2])\n",
    "print(sejati[1:5])"
   ]
  },
  {
   "cell_type": "code",
   "execution_count": 34,
   "id": "604f285e-9466-45b2-953b-e5284b3e44cf",
   "metadata": {},
   "outputs": [
    {
     "name": "stdout",
     "output_type": "stream",
     "text": [
      "['amin', 'iman', 'mina', 'mana', 'maan', 'nami', 'mina']\n"
     ]
    }
   ],
   "source": [
    "print(sejati)"
   ]
  },
  {
   "cell_type": "code",
   "execution_count": 35,
   "id": "f7cdfef7-73a9-4e53-ac49-20c57720c690",
   "metadata": {},
   "outputs": [
    {
     "name": "stdout",
     "output_type": "stream",
     "text": [
      "['amin', 'iman', 'mina', 'mana', 'maan', 'nami', 'mina', 'niam', 'mani']\n"
     ]
    }
   ],
   "source": [
    "print(sejati + ['niam', \"mani\"])\n"
   ]
  },
  {
   "cell_type": "code",
   "execution_count": 39,
   "id": "6332b3ef-0a66-4a0d-8992-f32492a5a331",
   "metadata": {},
   "outputs": [
    {
     "name": "stdout",
     "output_type": "stream",
     "text": [
      "7\n",
      "nami\n"
     ]
    },
    {
     "ename": "NameError",
     "evalue": "name 'list_number' is not defined",
     "output_type": "error",
     "traceback": [
      "\u001b[1;31m---------------------------------------------------------------------------\u001b[0m",
      "\u001b[1;31mNameError\u001b[0m                                 Traceback (most recent call last)",
      "\u001b[1;32m<ipython-input-39-c653fdb33cf6>\u001b[0m in \u001b[0;36m<module>\u001b[1;34m\u001b[0m\n\u001b[0;32m      1\u001b[0m \u001b[0mprint\u001b[0m\u001b[1;33m(\u001b[0m\u001b[0mlen\u001b[0m\u001b[1;33m(\u001b[0m\u001b[0msejati\u001b[0m\u001b[1;33m)\u001b[0m\u001b[1;33m)\u001b[0m\u001b[1;33m\u001b[0m\u001b[1;33m\u001b[0m\u001b[0m\n\u001b[0;32m      2\u001b[0m \u001b[0mprint\u001b[0m\u001b[1;33m(\u001b[0m\u001b[0mmax\u001b[0m\u001b[1;33m(\u001b[0m\u001b[0msejati\u001b[0m\u001b[1;33m)\u001b[0m\u001b[1;33m)\u001b[0m\u001b[1;33m\u001b[0m\u001b[1;33m\u001b[0m\u001b[0m\n\u001b[1;32m----> 3\u001b[1;33m \u001b[0mprint\u001b[0m\u001b[1;33m(\u001b[0m\u001b[0mmax\u001b[0m\u001b[1;33m(\u001b[0m\u001b[0mlist_number\u001b[0m\u001b[1;33m)\u001b[0m\u001b[1;33m)\u001b[0m\u001b[1;33m\u001b[0m\u001b[1;33m\u001b[0m\u001b[0m\n\u001b[0m",
      "\u001b[1;31mNameError\u001b[0m: name 'list_number' is not defined"
     ]
    }
   ],
   "source": [
    "print(len(sejati))\n",
    "print(max(sejati))\n",
    "print(max(list_number))"
   ]
  },
  {
   "cell_type": "code",
   "execution_count": 44,
   "id": "0e179f60-5c80-417a-8823-e9e27fbeb51b",
   "metadata": {},
   "outputs": [
    {
     "name": "stdout",
     "output_type": "stream",
     "text": [
      "['amin', 'iman', 'kiko', 'koki', 'kaka', 'kaka', 'koki', 'kaka', 'kaka', 'maan', 'nami', 'mina']\n",
      "['amin', 'koko', 'kaka', 'koki', 'koki', 'kaka', 'kaka', 'koki', 'kaka', 'kaka', 'maan', 'nami', 'mina']\n"
     ]
    }
   ],
   "source": [
    "print(sejati)\n",
    "sejati [1:3] = ['koko',\"kaka\",\"koki\"]\n",
    "print (sejati)"
   ]
  },
  {
   "cell_type": "code",
   "execution_count": 48,
   "id": "42efe497-5568-4c5d-9734-bef65ab9c1e7",
   "metadata": {},
   "outputs": [],
   "source": [
    "del(sejati[1:10])"
   ]
  },
  {
   "cell_type": "code",
   "execution_count": 49,
   "id": "c35ecc98-ca28-4ee8-afb3-1032d71a471c",
   "metadata": {},
   "outputs": [
    {
     "name": "stdout",
     "output_type": "stream",
     "text": [
      "['amin']\n"
     ]
    }
   ],
   "source": [
    "print(sejati)"
   ]
  },
  {
   "cell_type": "code",
   "execution_count": 56,
   "id": "4e06ee29-c61c-4abe-835b-6571a0d45f9b",
   "metadata": {},
   "outputs": [
    {
     "name": "stdout",
     "output_type": "stream",
     "text": [
      "['mina', 'mana', 'maan']\n",
      "['amin', 'iman', 'koko', 'kiki', 'kaka', 'nami', 'mina']\n",
      "mina\n",
      "['amin', 'iman', 'koko', 'kiki', 'kaka', 'nami']\n"
     ]
    }
   ],
   "source": [
    "sejati = ['amin', \"iman\", 'mina', 'mana', \"maan\", \"nami\", 'mina']\n",
    "print(sejati[2:5])\n",
    "sejati [2:5] = ['koko',\"kiki\",'kaka']\n",
    "print(sejati)\n",
    "print(sejati[6])\n",
    "del sejati[6]\n",
    "print(sejati)"
   ]
  },
  {
   "cell_type": "markdown",
   "id": "93f9107a-e581-4e52-b9b5-ffed950251dd",
   "metadata": {},
   "source": [
    "## TUPPLE\n",
    "- element cant be changed\n",
    "\n",
    "- pake (...)\n",
    "\n",
    "- mirip dengan list\n",
    "\n",
    "- can be nested"
   ]
  },
  {
   "cell_type": "markdown",
   "id": "614f1d6e-b894-4df6-851b-c566c48356d1",
   "metadata": {},
   "source": [
    "## DICTIONARY --> mirip dengan array\n",
    "- menggunakan ' key-value pair '"
   ]
  },
  {
   "cell_type": "code",
   "execution_count": 62,
   "id": "4f349e33-6c0e-4049-aa19-5dd9cbfbf139",
   "metadata": {},
   "outputs": [
    {
     "data": {
      "text/plain": [
       "dict"
      ]
     },
     "execution_count": 62,
     "metadata": {},
     "output_type": "execute_result"
    }
   ],
   "source": [
    "Orang = {}\n",
    "type(Orang)"
   ]
  },
  {
   "cell_type": "code",
   "execution_count": 63,
   "id": "62c16e66-c26c-41c1-a367-66f431454bda",
   "metadata": {},
   "outputs": [],
   "source": [
    "Orang['first_name'] = 'joko'"
   ]
  },
  {
   "cell_type": "code",
   "execution_count": 64,
   "id": "3a00a6c8-ff89-4885-883c-5e0310f097b9",
   "metadata": {},
   "outputs": [
    {
     "name": "stdout",
     "output_type": "stream",
     "text": [
      "{'first_name': 'joko'}\n"
     ]
    }
   ],
   "source": [
    "print(Orang)"
   ]
  },
  {
   "cell_type": "code",
   "execution_count": 69,
   "id": "437e3319-9156-4c59-ab20-e872762e9382",
   "metadata": {},
   "outputs": [],
   "source": [
    "Orang['second_name'] = 'widodo'\n",
    "Orang['mobil'] = 'avansa'\n",
    "#    'nama_ayah' = 'mahmud',\n",
    "#  'nama_ibu' = 'juminten'}"
   ]
  },
  {
   "cell_type": "code",
   "execution_count": 70,
   "id": "e9ac6954-2a32-4cdd-bfde-641eb68a80f6",
   "metadata": {},
   "outputs": [
    {
     "name": "stdout",
     "output_type": "stream",
     "text": [
      "{'first_name': 'joko', 'second_name': 'widodo', 'mobil': 'avansa'}\n"
     ]
    }
   ],
   "source": [
    "print(Orang)"
   ]
  },
  {
   "cell_type": "code",
   "execution_count": 71,
   "id": "0743865e-7872-4901-b8ef-c3f6d9b567c1",
   "metadata": {},
   "outputs": [
    {
     "name": "stdout",
     "output_type": "stream",
     "text": [
      "{'first_name': 'sigit', 'second_name': 'Ubed', 'mobil': 'avansa'}\n"
     ]
    }
   ],
   "source": [
    "Orang['first_name'] = 'sigit'\n",
    "Orang['second_name'] = 'Ubed'\n",
    "print(Orang)"
   ]
  },
  {
   "cell_type": "markdown",
   "id": "c62e07ec-4cd3-46cf-8d1a-8c31923d6b01",
   "metadata": {},
   "source": [
    "## cara menambahkan dictionary ???"
   ]
  },
  {
   "cell_type": "code",
   "execution_count": null,
   "id": "7808b4f7-7625-4397-811d-cf666b9de55d",
   "metadata": {},
   "outputs": [],
   "source": []
  }
 ],
 "metadata": {
  "kernelspec": {
   "display_name": "Python 3",
   "language": "python",
   "name": "python3"
  },
  "language_info": {
   "codemirror_mode": {
    "name": "ipython",
    "version": 3
   },
   "file_extension": ".py",
   "mimetype": "text/x-python",
   "name": "python",
   "nbconvert_exporter": "python",
   "pygments_lexer": "ipython3",
   "version": "3.8.8"
  }
 },
 "nbformat": 4,
 "nbformat_minor": 5
}
