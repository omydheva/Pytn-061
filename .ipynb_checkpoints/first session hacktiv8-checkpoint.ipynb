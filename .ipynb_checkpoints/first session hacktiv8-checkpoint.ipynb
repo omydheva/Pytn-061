{
 "cells": [
  {
   "cell_type": "code",
   "execution_count": 8,
   "id": "ae25bc2a-be50-4a79-9be9-e4003a4eace2",
   "metadata": {},
   "outputs": [
    {
     "name": "stdout",
     "output_type": "stream",
     "text": [
      "HALLO\n"
     ]
    }
   ],
   "source": [
    "print (\"HALLO\")"
   ]
  },
  {
   "cell_type": "markdown",
   "id": "ff87d6f2-5141-4660-ba7f-791a54243017",
   "metadata": {},
   "source": [
    "#tipe tipe data\n",
    "1. integer (int)\n",
    "2. floating point number (float)\n",
    "3. character (string)\n",
    "4. true or false (boolean)\n",
    "5. variable"
   ]
  },
  {
   "cell_type": "code",
   "execution_count": 2,
   "id": "824d4ace-ee11-4705-8508-efff04da9ad5",
   "metadata": {},
   "outputs": [
    {
     "name": "stdout",
     "output_type": "stream",
     "text": [
      "123456\n"
     ]
    }
   ],
   "source": [
    "print (123456)"
   ]
  },
  {
   "cell_type": "code",
   "execution_count": 3,
   "id": "f512746d-c5a9-437f-8eda-5804f3fd332c",
   "metadata": {},
   "outputs": [
    {
     "name": "stdout",
     "output_type": "stream",
     "text": [
      "<class 'int'>\n"
     ]
    }
   ],
   "source": [
    "print(type(123456))"
   ]
  },
  {
   "cell_type": "code",
   "execution_count": 7,
   "id": "084335d8-7234-4222-8b06-8c72d424d520",
   "metadata": {},
   "outputs": [
    {
     "name": "stdout",
     "output_type": "stream",
     "text": [
      "asfrdh\n",
      "<class 'str'>\n"
     ]
    }
   ],
   "source": [
    "print (\"asfrdh\")\n",
    "print(type(\"asfddf\"))"
   ]
  },
  {
   "cell_type": "code",
   "execution_count": 9,
   "id": "a8d5bd2b-e314-45a8-abaf-c6c36456aabc",
   "metadata": {},
   "outputs": [],
   "source": [
    "message = \"phyton first class ...\"\n",
    "sesi = 1"
   ]
  },
  {
   "cell_type": "code",
   "execution_count": 15,
   "id": "9fae1bc9-42d6-4dfd-81ba-d2a98694770d",
   "metadata": {},
   "outputs": [
    {
     "name": "stdout",
     "output_type": "stream",
     "text": [
      "6\n"
     ]
    }
   ],
   "source": [
    "print (sesi+1)"
   ]
  },
  {
   "cell_type": "code",
   "execution_count": null,
   "id": "d18992e6-23c8-46bb-ba0c-b401c3e86196",
   "metadata": {},
   "outputs": [],
   "source": []
  }
 ],
 "metadata": {
  "kernelspec": {
   "display_name": "Python 3",
   "language": "python",
   "name": "python3"
  },
  "language_info": {
   "codemirror_mode": {
    "name": "ipython",
    "version": 3
   },
   "file_extension": ".py",
   "mimetype": "text/x-python",
   "name": "python",
   "nbconvert_exporter": "python",
   "pygments_lexer": "ipython3",
   "version": "3.8.8"
  }
 },
 "nbformat": 4,
 "nbformat_minor": 5
}
