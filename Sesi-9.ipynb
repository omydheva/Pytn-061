{
 "cells": [
  {
   "cell_type": "markdown",
   "id": "66393a4a-fc90-41a4-8c1e-fbc13300c22e",
   "metadata": {},
   "source": [
    "# Descriptive Statistic"
   ]
  },
  {
   "cell_type": "markdown",
   "id": "bdef525c-6c22-41a6-9e12-6c7b3dec0d1a",
   "metadata": {},
   "source": [
    "deskriptive statistic ==> meringkas, mengatur data supaya lebih mudah dipahami tanpa membuat kesimpulan dari keseluruhan populasi sample\n",
    "Type :\n",
    "- measure of central tendency\n",
    "- measure of variabillity (spread)"
   ]
  },
  {
   "cell_type": "markdown",
   "id": "321eeee8-4a24-4253-80d0-8f386efb6388",
   "metadata": {},
   "source": [
    "Populasi adalah sekumpulan data yang akan diobservasi\n",
    "\n",
    "Sample\n",
    "- sekumpulan kecil dari populasi"
   ]
  },
  {
   "cell_type": "markdown",
   "id": "84be36f0-db33-4080-9c8f-6966921ddd3a",
   "metadata": {},
   "source": [
    "Outlier (Pencilan)\n",
    "- titik data yang berbeda secara significant dari sebagian besar sample/populasi\n",
    "\n",
    "\n",
    "Penyebab Outlier :\n",
    "- Natural variation of data\n",
    "- Change in the behaviour of the observed system\n",
    "- data collection errors"
   ]
  },
  {
   "cell_type": "markdown",
   "id": "54471d03-2cff-420d-9d1f-983018ba2264",
   "metadata": {},
   "source": [
    "Measure of central tendency \n",
    "- MEAN (nilai rata rata)\n",
    "- MODUS (nilai yang sering muncul)\n",
    "- MEDIAN (equal dengan percentile 50% setelah diurutkan)\n",
    "\n",
    "Measure of spread ==> mencari kesimpulan terhadap sebaran data\n",
    "- Standard deviation\n",
    "- Mean (absolute) deviation\n",
    "- Variance (kuadrat dari Standard deviation)\n",
    "- Range (jarak nilai tertinggi dan terendah)\n",
    "- Percentile (see quartile, data harus diurutkan)\n",
    "- Quartile (Q1 = Percentile 25%, Q2 = Percentile 50% = Median, Q3 = Percentile 75% ==> data harus diurutkan)\n",
    "- Skewness (2 type : skewness positive (ekor ke kanan) dan skewness negatif (ekor ke kiri))\n",
    "- Kurtosis\n",
    "- Correlation (simbol adalah 'r'.. jika mendekati 1 atau -1 adalah semakin bagus)"
   ]
  },
  {
   "cell_type": "markdown",
   "id": "ec3282ff-2318-4a58-9be0-cf435df4c63b",
   "metadata": {},
   "source": [
    "# Statistic in Phyton"
   ]
  },
  {
   "cell_type": "code",
   "execution_count": 6,
   "id": "04ccc0c1-70f0-43f7-aada-75059c588a09",
   "metadata": {},
   "outputs": [],
   "source": [
    "import pandas as pd\n",
    "import numpy as np\n",
    "import math\n",
    "import statistics\n",
    "import matplotlib as mpl\n",
    "import scipy.stats\n",
    "%matplotlib inline"
   ]
  },
  {
   "cell_type": "code",
   "execution_count": 9,
   "id": "b7d60c6d-47e3-413b-a530-202db2903a8d",
   "metadata": {},
   "outputs": [
    {
     "name": "stdout",
     "output_type": "stream",
     "text": [
      "[8.0, 1, 2.5, 4, 28.0]\n",
      "[8.0, 1, 2.5, nan, 4, 28.0]\n"
     ]
    }
   ],
   "source": [
    "x = [8.0, 1, 2.5, 4, 28.0]\n",
    "x_with_nan = [8.0, 1, 2.5, math.nan, 4, 28.0]\n",
    "print(x)\n",
    "print(x_with_nan)"
   ]
  },
  {
   "cell_type": "code",
   "execution_count": 10,
   "id": "1a119e10-a998-4f73-ac1f-4943d6b7e1e2",
   "metadata": {},
   "outputs": [],
   "source": [
    "y, y_with_nan = np.array(x), np.array(x_with_nan)\n",
    "z, z_with_nan = pd.Series(x), pd.Series(x_with_nan)"
   ]
  },
  {
   "cell_type": "code",
   "execution_count": 11,
   "id": "b17ad4ff-e2a5-4c17-bac4-8eee1c306256",
   "metadata": {},
   "outputs": [
    {
     "name": "stdout",
     "output_type": "stream",
     "text": [
      "[ 8.   1.   2.5  4.  28. ]\n"
     ]
    }
   ],
   "source": [
    "print(y)"
   ]
  },
  {
   "cell_type": "code",
   "execution_count": 12,
   "id": "32cefdf6-d9ca-479d-ab36-c549663d2aa2",
   "metadata": {},
   "outputs": [
    {
     "name": "stdout",
     "output_type": "stream",
     "text": [
      "[ 8.   1.   2.5  nan  4.  28. ]\n"
     ]
    }
   ],
   "source": [
    "print(y_with_nan)"
   ]
  },
  {
   "cell_type": "code",
   "execution_count": 13,
   "id": "9e5eb932-0007-449f-9c48-8f7eeebed2a5",
   "metadata": {},
   "outputs": [
    {
     "name": "stdout",
     "output_type": "stream",
     "text": [
      "0     8.0\n",
      "1     1.0\n",
      "2     2.5\n",
      "3     4.0\n",
      "4    28.0\n",
      "dtype: float64\n"
     ]
    }
   ],
   "source": [
    "print(z)"
   ]
  },
  {
   "cell_type": "code",
   "execution_count": 14,
   "id": "bef93449-8064-4c2b-832c-723d40fceda7",
   "metadata": {},
   "outputs": [
    {
     "name": "stdout",
     "output_type": "stream",
     "text": [
      "0     8.0\n",
      "1     1.0\n",
      "2     2.5\n",
      "3     NaN\n",
      "4     4.0\n",
      "5    28.0\n",
      "dtype: float64\n"
     ]
    }
   ],
   "source": [
    "print(z_with_nan)"
   ]
  },
  {
   "cell_type": "markdown",
   "id": "b75a4c57-4bea-40ce-96e4-6a794e11c8a4",
   "metadata": {},
   "source": [
    "# measure central tendency\n",
    "\n",
    "- MEAN\n",
    "- WEIGHTED MEAN\n",
    "- GEOMETRIC MEAN\n",
    "- HARMONIC MEAN\n",
    "- MODUS\n",
    "- MEDIAN"
   ]
  },
  {
   "cell_type": "markdown",
   "id": "4aea7851-1710-4f52-9bfa-006e8a1925d3",
   "metadata": {},
   "source": [
    "## Mean"
   ]
  },
  {
   "cell_type": "code",
   "execution_count": 15,
   "id": "5fd0ec5e-ce79-42e8-9f5e-125b1ce8d300",
   "metadata": {},
   "outputs": [
    {
     "data": {
      "text/plain": [
       "8.7"
      ]
     },
     "execution_count": 15,
     "metadata": {},
     "output_type": "execute_result"
    }
   ],
   "source": [
    "Mean_ = sum(x)/len(x)\n",
    "Mean_"
   ]
  },
  {
   "cell_type": "code",
   "execution_count": 21,
   "id": "9a011842-e85a-411d-8836-eed03104623e",
   "metadata": {},
   "outputs": [
    {
     "name": "stdout",
     "output_type": "stream",
     "text": [
      "8.7\n",
      "8.7\n",
      "8.7\n"
     ]
    }
   ],
   "source": [
    "#another way to find mean\n",
    "print(z.mean()) #pandas\n",
    "print(np.mean(x)) #numpy\n",
    "print(statistics.mean(x)) #package statistics"
   ]
  },
  {
   "cell_type": "code",
   "execution_count": 23,
   "id": "6813fa06-dc8e-4fe5-a335-0cd76d7e4d6a",
   "metadata": {},
   "outputs": [
    {
     "name": "stdout",
     "output_type": "stream",
     "text": [
      "nan\n"
     ]
    }
   ],
   "source": [
    "#mean with nan\n",
    "print(sum(x_with_nan) / len(x_with_nan)) # python"
   ]
  },
  {
   "cell_type": "code",
   "execution_count": 24,
   "id": "448f8842-f64c-40f1-bc89-5a740309462b",
   "metadata": {},
   "outputs": [
    {
     "name": "stdout",
     "output_type": "stream",
     "text": [
      "nan\n"
     ]
    }
   ],
   "source": [
    "print(statistics.mean(x_with_nan)) # package statistics"
   ]
  },
  {
   "cell_type": "code",
   "execution_count": 25,
   "id": "cfed34bf-70d1-4906-9794-43a92f6845e1",
   "metadata": {},
   "outputs": [
    {
     "name": "stdout",
     "output_type": "stream",
     "text": [
      "nan\n"
     ]
    }
   ],
   "source": [
    "print(np.mean(y_with_nan)) # numpy"
   ]
  },
  {
   "cell_type": "code",
   "execution_count": 26,
   "id": "e44e2687-6a4c-4291-9b46-4b236ca78f9b",
   "metadata": {},
   "outputs": [
    {
     "name": "stdout",
     "output_type": "stream",
     "text": [
      "8.7\n"
     ]
    }
   ],
   "source": [
    "print(np.nanmean(y_with_nan)) # numpy juga, bisa handle data nan"
   ]
  },
  {
   "cell_type": "code",
   "execution_count": 27,
   "id": "26bb9d5f-78d9-4dd7-9bb4-2154b5e03b51",
   "metadata": {},
   "outputs": [
    {
     "name": "stdout",
     "output_type": "stream",
     "text": [
      "8.7\n"
     ]
    }
   ],
   "source": [
    "print(z_with_nan.mean()) # pandas"
   ]
  },
  {
   "cell_type": "markdown",
   "id": "339f9b2d-e5b8-4506-9f05-bae66d683409",
   "metadata": {},
   "source": [
    "## Weighted Mean\n",
    "Rata rata dengan bobot tertentu"
   ]
  },
  {
   "cell_type": "code",
   "execution_count": 36,
   "id": "ad10c565-0634-498b-8270-e4a80822c2f5",
   "metadata": {},
   "outputs": [],
   "source": [
    "x = [8.0, 1, 2.5, 4, 28.0]\n",
    "Weighted = [0.1, 0.2, 0.3, 0.25, 0.15]  # <-- bobot ratio, bacanya 10%, 20%, 30%, and so on"
   ]
  },
  {
   "cell_type": "code",
   "execution_count": 37,
   "id": "e39af44b-40c3-4fe2-b654-2813306f8c4e",
   "metadata": {},
   "outputs": [],
   "source": [
    "WMean = sum(Weighted[i] * x[i] for i in range(len(x))) / sum(Weighted)"
   ]
  },
  {
   "cell_type": "code",
   "execution_count": 38,
   "id": "3a98f5aa-99c6-4e27-b3d6-eb23508b3f43",
   "metadata": {},
   "outputs": [
    {
     "name": "stdout",
     "output_type": "stream",
     "text": [
      "6.95\n"
     ]
    }
   ],
   "source": [
    "print(WMean)"
   ]
  },
  {
   "cell_type": "code",
   "execution_count": 40,
   "id": "1188f6c1-4a3f-44fb-8a61-970219fd60ed",
   "metadata": {},
   "outputs": [],
   "source": [
    "#another way\n",
    "\n",
    "total = 0\n",
    "for i in range(len(x)):\n",
    "    total += Weighted[i] * x[i]\n",
    "\n",
    "WMean = total * sum(Weighted)\n",
    "    "
   ]
  },
  {
   "cell_type": "code",
   "execution_count": 41,
   "id": "5d7baee8-5c03-4e7c-9f5d-39b1b8c002e8",
   "metadata": {},
   "outputs": [
    {
     "data": {
      "text/plain": [
       "6.95"
      ]
     },
     "execution_count": 41,
     "metadata": {},
     "output_type": "execute_result"
    }
   ],
   "source": [
    "WMean"
   ]
  },
  {
   "cell_type": "code",
   "execution_count": 43,
   "id": "0554b493-1c8e-48d5-a760-abeb035bf18c",
   "metadata": {},
   "outputs": [
    {
     "data": {
      "text/plain": [
       "6.95"
      ]
     },
     "execution_count": 43,
     "metadata": {},
     "output_type": "execute_result"
    }
   ],
   "source": [
    "#another wy dengan menggunakan numpy dan pandas series\n",
    "y = np.array(x)\n",
    "z = pd.Series(x)\n",
    "w = np.array(Weighted)\n",
    "\n",
    "WMean = np.average(y, weights = w) # <-- numpy\n",
    "WMean"
   ]
  },
  {
   "cell_type": "code",
   "execution_count": 45,
   "id": "a4c6f48e-afe0-4ce1-b2b4-25b9f7eccf75",
   "metadata": {},
   "outputs": [
    {
     "data": {
      "text/plain": [
       "6.95"
      ]
     },
     "execution_count": 45,
     "metadata": {},
     "output_type": "execute_result"
    }
   ],
   "source": [
    "WMean = np.average(z, weights = w) # <-- pandas Series yang di numpy kan\n",
    "WMean"
   ]
  },
  {
   "cell_type": "markdown",
   "id": "60234b8f-8260-4858-b13e-f7eb72954a02",
   "metadata": {},
   "source": [
    "## Harmonic Mean\n",
    "Reciprocal dari rata rata dari semua item dalam dataset. Reciprocal = 1 per value\n",
    "\n",
    "\n",
    "jumlah data / ((1 / data1) + (1 / data2) + ...)"
   ]
  },
  {
   "cell_type": "code",
   "execution_count": 46,
   "id": "557da52b-b3d1-47a5-a6ed-4853987cd4a2",
   "metadata": {},
   "outputs": [
    {
     "data": {
      "text/plain": [
       "[8.0, 1, 2.5, 4, 28.0]"
      ]
     },
     "execution_count": 46,
     "metadata": {},
     "output_type": "execute_result"
    }
   ],
   "source": [
    "x"
   ]
  },
  {
   "cell_type": "code",
   "execution_count": 48,
   "id": "431c344a-5203-4f7c-95e4-d18d11562aa7",
   "metadata": {},
   "outputs": [
    {
     "data": {
      "text/plain": [
       "2.7613412228796843"
      ]
     },
     "execution_count": 48,
     "metadata": {},
     "output_type": "execute_result"
    }
   ],
   "source": [
    "#cara biasa\n",
    "HMean = len(x)/sum(1/item for item in x)\n",
    "HMean"
   ]
  },
  {
   "cell_type": "code",
   "execution_count": 53,
   "id": "2e330c28-61dc-4a9e-9c23-e35cf67a6ff6",
   "metadata": {},
   "outputs": [
    {
     "data": {
      "text/plain": [
       "2.7613412228796843"
      ]
     },
     "execution_count": 53,
     "metadata": {},
     "output_type": "execute_result"
    }
   ],
   "source": [
    "#cara package statistics\n",
    "HMean = statistics.harmonic_mean(x)\n",
    "HMean"
   ]
  },
  {
   "cell_type": "code",
   "execution_count": 55,
   "id": "4563296d-3e09-4c7c-b617-8b5839533aa2",
   "metadata": {},
   "outputs": [
    {
     "data": {
      "text/plain": [
       "array([ 8. ,  1. ,  2.5,  4. , 28. ])"
      ]
     },
     "execution_count": 55,
     "metadata": {},
     "output_type": "execute_result"
    }
   ],
   "source": [
    "y"
   ]
  },
  {
   "cell_type": "code",
   "execution_count": 57,
   "id": "0f7e2b29-5696-4cd0-8c6b-84e6aea03195",
   "metadata": {},
   "outputs": [
    {
     "data": {
      "text/plain": [
       "2.7613412228796843"
      ]
     },
     "execution_count": 57,
     "metadata": {},
     "output_type": "execute_result"
    }
   ],
   "source": [
    "#cara package scipy\n",
    "HMean = scipy.stats.hmean(y) #np array\n",
    "HMean"
   ]
  },
  {
   "cell_type": "code",
   "execution_count": 59,
   "id": "bca87ee9-9f4f-45cf-9469-cafb004d18c7",
   "metadata": {},
   "outputs": [
    {
     "data": {
      "text/plain": [
       "2.7613412228796843"
      ]
     },
     "execution_count": 59,
     "metadata": {},
     "output_type": "execute_result"
    }
   ],
   "source": [
    "HMean = scipy.stats.hmean(z) #pandas Series\n",
    "HMean"
   ]
  },
  {
   "cell_type": "markdown",
   "id": "e38f9236-e24b-4328-8eee-fe5c1b957d41",
   "metadata": {},
   "source": [
    "## Geometric Mean\n",
    "Membandingkan berbagai hal dengan properti yang sangat berbeda\n",
    "\n",
    "\n",
    "Mencari rata rata disaat ada angka dengan skala yang berbeda"
   ]
  },
  {
   "cell_type": "code",
   "execution_count": 60,
   "id": "134860ec-492f-46e3-ba84-6af4ebf01108",
   "metadata": {},
   "outputs": [
    {
     "name": "stdout",
     "output_type": "stream",
     "text": [
      "4.677885674856041\n"
     ]
    }
   ],
   "source": [
    "# cara biasa\n",
    "gmean = 1\n",
    "\n",
    "for i in x:\n",
    "    gmean *= i\n",
    "    \n",
    "gmean **= 1/len(x)\n",
    "\n",
    "print(gmean)"
   ]
  },
  {
   "cell_type": "code",
   "execution_count": 61,
   "id": "f75c16f2-4309-4e02-b9a6-f051b08f57c7",
   "metadata": {},
   "outputs": [
    {
     "name": "stdout",
     "output_type": "stream",
     "text": [
      "4.67788567485604\n"
     ]
    }
   ],
   "source": [
    "# scipy stats\n",
    "print(scipy.stats.gmean(y)) # pakai numpy array"
   ]
  },
  {
   "cell_type": "code",
   "execution_count": 62,
   "id": "ecde15ea-7c86-4681-aa14-263266f3d6d5",
   "metadata": {},
   "outputs": [
    {
     "name": "stdout",
     "output_type": "stream",
     "text": [
      "4.67788567485604\n"
     ]
    }
   ],
   "source": [
    "print(scipy.stats.gmean(z)) # pakai pandas series"
   ]
  },
  {
   "cell_type": "markdown",
   "id": "4b6497f5-0cd2-4aba-bd6c-98ee2f245430",
   "metadata": {},
   "source": [
    "## Median\n",
    "Median adalah nilai tengah dari kumpulan data yang sudah diurutkan"
   ]
  },
  {
   "cell_type": "code",
   "execution_count": 63,
   "id": "96c68340-99d5-4a8a-abf1-e91fb6a345fd",
   "metadata": {},
   "outputs": [
    {
     "data": {
      "text/plain": [
       "[8.0, 1, 2.5, 4, 28.0]"
      ]
     },
     "execution_count": 63,
     "metadata": {},
     "output_type": "execute_result"
    }
   ],
   "source": [
    "x"
   ]
  },
  {
   "cell_type": "code",
   "execution_count": 64,
   "id": "eefc4982-bdc3-40a8-82e0-fbf56d15161a",
   "metadata": {},
   "outputs": [
    {
     "data": {
      "text/plain": [
       "[1, 2.5, 4, 8.0, 28.0]"
      ]
     },
     "execution_count": 64,
     "metadata": {},
     "output_type": "execute_result"
    }
   ],
   "source": [
    "sorted(x)"
   ]
  },
  {
   "cell_type": "code",
   "execution_count": 66,
   "id": "7b9015b8-ad2c-4271-a398-c5394d680890",
   "metadata": {},
   "outputs": [
    {
     "data": {
      "text/plain": [
       "5"
      ]
     },
     "execution_count": 66,
     "metadata": {},
     "output_type": "execute_result"
    }
   ],
   "source": [
    "len(x)"
   ]
  },
  {
   "cell_type": "code",
   "execution_count": 70,
   "id": "727b768e-1c15-4ab6-89c8-12e5663ef452",
   "metadata": {},
   "outputs": [
    {
     "data": {
      "text/plain": [
       "4"
      ]
     },
     "execution_count": 70,
     "metadata": {},
     "output_type": "execute_result"
    }
   ],
   "source": [
    "#cara manual, sort dulu baru cari nilai median\n",
    "n = len(x)\n",
    "if n%2:\n",
    "    # jumlah angka ganjil\n",
    "    # angka tengah cuma 1, langsung ambil aja\n",
    "    med = sorted(x)[round((n-1)/2)] # <-- sort dulu, cari dari data ke-2 dari kiri... ingat... klo dari kiri data pertama adalah index ke-0\n",
    "else:    \n",
    "    # jumlah angka genap\n",
    "    # angka tengah nya ada 2, ditambah lalu dibagi 2\n",
    "    xs = sorted(x)\n",
    "    index1 = round(n/2)\n",
    "    index2 = index1 - 1\n",
    "    med = (xs[index1] + xs[index2]) / 2\n",
    "\n",
    "med"
   ]
  },
  {
   "cell_type": "markdown",
   "id": "431d40dc-17ae-4043-8a5a-753d77728e60",
   "metadata": {},
   "source": [
    "median_low() --> mengembalikan nilai median yang lebih rendah\n",
    "\n",
    "median_high() --> mengembalikan nili median yang lebih tinggi\n",
    "\n",
    "keduanya bisa bekerja dengan syarat datanya adalah ganjil"
   ]
  },
  {
   "cell_type": "code",
   "execution_count": 71,
   "id": "639be319-17e0-449b-a2a2-74f912d167f8",
   "metadata": {},
   "outputs": [
    {
     "data": {
      "text/plain": [
       "[8.0, 1, 2.5, 4, 28.0]"
      ]
     },
     "execution_count": 71,
     "metadata": {},
     "output_type": "execute_result"
    }
   ],
   "source": [
    "x"
   ]
  },
  {
   "cell_type": "code",
   "execution_count": 74,
   "id": "090de3ba-43f4-4b01-909e-21b6ac65e152",
   "metadata": {},
   "outputs": [
    {
     "data": {
      "text/plain": [
       "2.5"
      ]
     },
     "execution_count": 74,
     "metadata": {},
     "output_type": "execute_result"
    }
   ],
   "source": [
    "statistics.median_low(x[:-1]) # --> karena ada index -1 maka data paling kanan akan dibuang dulu, sehingga data hanya punya 4 data item, lalu diurutkan"
   ]
  },
  {
   "cell_type": "code",
   "execution_count": 75,
   "id": "abcbd621-7580-4479-b3c6-639fefc4399e",
   "metadata": {},
   "outputs": [
    {
     "data": {
      "text/plain": [
       "4"
      ]
     },
     "execution_count": 75,
     "metadata": {},
     "output_type": "execute_result"
    }
   ],
   "source": [
    "statistics.median_high(x[:-1])"
   ]
  },
  {
   "cell_type": "code",
   "execution_count": 76,
   "id": "8b1c4eed-1450-4417-b9a1-36ccd40b854e",
   "metadata": {},
   "outputs": [
    {
     "data": {
      "text/plain": [
       "[8.0, 1, 2.5, nan, 4, 28.0]"
      ]
     },
     "execution_count": 76,
     "metadata": {},
     "output_type": "execute_result"
    }
   ],
   "source": [
    "x_with_nan"
   ]
  },
  {
   "cell_type": "code",
   "execution_count": 77,
   "id": "35f55e09-eb4e-4f47-abe2-0feb9ed85008",
   "metadata": {},
   "outputs": [
    {
     "data": {
      "text/plain": [
       "[1, 2.5, 4, 8.0, nan, 28.0]"
      ]
     },
     "execution_count": 77,
     "metadata": {},
     "output_type": "execute_result"
    }
   ],
   "source": [
    "sorted(x_with_nan)"
   ]
  },
  {
   "cell_type": "code",
   "execution_count": 79,
   "id": "4f68765a-8189-468a-b045-42ad99a04b87",
   "metadata": {},
   "outputs": [
    {
     "data": {
      "text/plain": [
       "6.0"
      ]
     },
     "execution_count": 79,
     "metadata": {},
     "output_type": "execute_result"
    }
   ],
   "source": [
    "statistics.median(x_with_nan) # --> median adalah 4 & 8"
   ]
  },
  {
   "cell_type": "code",
   "execution_count": 81,
   "id": "a08e750a-6bce-4a65-b216-ab256eb0c4e8",
   "metadata": {},
   "outputs": [
    {
     "data": {
      "text/plain": [
       "4"
      ]
     },
     "execution_count": 81,
     "metadata": {},
     "output_type": "execute_result"
    }
   ],
   "source": [
    "statistics.median_low(x_with_nan[:-1])"
   ]
  },
  {
   "cell_type": "code",
   "execution_count": 82,
   "id": "aa02ad49-ed35-4fdf-9024-5a25f3529236",
   "metadata": {},
   "outputs": [
    {
     "data": {
      "text/plain": [
       "4"
      ]
     },
     "execution_count": 82,
     "metadata": {},
     "output_type": "execute_result"
    }
   ],
   "source": [
    "statistics.median_high(x_with_nan[:-1])"
   ]
  },
  {
   "cell_type": "code",
   "execution_count": 84,
   "id": "1666dbb2-d9e1-4989-ab62-c87bcd0932f5",
   "metadata": {},
   "outputs": [
    {
     "data": {
      "text/plain": [
       "4"
      ]
     },
     "execution_count": 84,
     "metadata": {},
     "output_type": "execute_result"
    }
   ],
   "source": [
    "statistics.median_low(x_with_nan) # --> median adalah 4 & 8"
   ]
  },
  {
   "cell_type": "code",
   "execution_count": 85,
   "id": "102aa3de-24b3-4932-a1c3-48b95b6dba72",
   "metadata": {},
   "outputs": [
    {
     "data": {
      "text/plain": [
       "8.0"
      ]
     },
     "execution_count": 85,
     "metadata": {},
     "output_type": "execute_result"
    }
   ],
   "source": [
    "statistics.median_high(x_with_nan) # --> median adalah 4 & 8"
   ]
  },
  {
   "cell_type": "code",
   "execution_count": 86,
   "id": "7eee14c8-8155-40e5-b0c9-0e146698fcd6",
   "metadata": {},
   "outputs": [
    {
     "data": {
      "text/plain": [
       "array([ 8. ,  1. ,  2.5,  4. , 28. ])"
      ]
     },
     "execution_count": 86,
     "metadata": {},
     "output_type": "execute_result"
    }
   ],
   "source": [
    "y"
   ]
  },
  {
   "cell_type": "code",
   "execution_count": 87,
   "id": "81152467-5997-4d54-a750-91f90cb95c07",
   "metadata": {},
   "outputs": [
    {
     "data": {
      "text/plain": [
       "[1.0, 2.5, 4.0, 8.0, 28.0]"
      ]
     },
     "execution_count": 87,
     "metadata": {},
     "output_type": "execute_result"
    }
   ],
   "source": [
    "sorted(y)"
   ]
  },
  {
   "cell_type": "code",
   "execution_count": 88,
   "id": "7940ce00-fe91-4e7a-b189-35532379128b",
   "metadata": {},
   "outputs": [
    {
     "data": {
      "text/plain": [
       "4.0"
      ]
     },
     "execution_count": 88,
     "metadata": {},
     "output_type": "execute_result"
    }
   ],
   "source": [
    "np.median(y)"
   ]
  },
  {
   "cell_type": "code",
   "execution_count": 90,
   "id": "b890f3c5-bf7f-47a9-9b37-893821451661",
   "metadata": {},
   "outputs": [
    {
     "data": {
      "text/plain": [
       "3.25"
      ]
     },
     "execution_count": 90,
     "metadata": {},
     "output_type": "execute_result"
    }
   ],
   "source": [
    "np.median(y[:-1]) # ---> median adalah 2.5 & 4"
   ]
  },
  {
   "cell_type": "markdown",
   "id": "e470bbd5-7df9-40de-a735-f51d39b2a746",
   "metadata": {},
   "source": [
    "# Mode (Modus)\n",
    "kumpulan daata yang sering muncul"
   ]
  },
  {
   "cell_type": "code",
   "execution_count": 92,
   "id": "928eec12-e509-41b1-af22-c3c0f370da59",
   "metadata": {},
   "outputs": [],
   "source": [
    "u = [2, 3, 2, 8, 12, 2]\n",
    "v = [12, 15, 12, 15, 21, 15, 12]"
   ]
  },
  {
   "cell_type": "code",
   "execution_count": 94,
   "id": "bd104259-d0aa-45c5-bfe0-1a44a4d5f333",
   "metadata": {},
   "outputs": [
    {
     "data": {
      "text/plain": [
       "(3, 2)"
      ]
     },
     "execution_count": 94,
     "metadata": {},
     "output_type": "execute_result"
    }
   ],
   "source": [
    "# cara manual\n",
    "mod = max((u.count(i), i) for i in set(u))\n",
    "mod"
   ]
  },
  {
   "cell_type": "code",
   "execution_count": 96,
   "id": "5bf5de9d-77ac-4bab-bd7d-52a0bcbf9c5a",
   "metadata": {},
   "outputs": [
    {
     "data": {
      "text/plain": [
       "2"
      ]
     },
     "execution_count": 96,
     "metadata": {},
     "output_type": "execute_result"
    }
   ],
   "source": [
    "mod[1] # <-- angka modus nya"
   ]
  },
  {
   "cell_type": "code",
   "execution_count": 97,
   "id": "31e3e21f-3394-4b28-9ec3-497950f9a90c",
   "metadata": {},
   "outputs": [
    {
     "data": {
      "text/plain": [
       "3"
      ]
     },
     "execution_count": 97,
     "metadata": {},
     "output_type": "execute_result"
    }
   ],
   "source": [
    "mod[0] # <-- berapa kali frekuensi nya"
   ]
  },
  {
   "cell_type": "code",
   "execution_count": 99,
   "id": "7c79f584-8db1-4c42-98ce-c697c90794f8",
   "metadata": {},
   "outputs": [
    {
     "name": "stdout",
     "output_type": "stream",
     "text": [
      "12\n"
     ]
    }
   ],
   "source": [
    "print(statistics.mode(v)) # package statistics"
   ]
  },
  {
   "cell_type": "code",
   "execution_count": 100,
   "id": "3a89a427-7bfa-498c-85e5-e40582e635fe",
   "metadata": {},
   "outputs": [
    {
     "name": "stdout",
     "output_type": "stream",
     "text": [
      "0    2\n",
      "dtype: int64\n"
     ]
    }
   ],
   "source": [
    "# pandas punya .mode()\n",
    "print((pd.Series(u)).mode())"
   ]
  },
  {
   "cell_type": "code",
   "execution_count": 102,
   "id": "1d9087eb-7482-48ad-93db-c5ab1bd90f9c",
   "metadata": {},
   "outputs": [
    {
     "name": "stdout",
     "output_type": "stream",
     "text": [
      "ModeResult(mode=array([2]), count=array([3]))\n"
     ]
    }
   ],
   "source": [
    "print(scipy.stats.mode(u)) #package scipy stats # mode array adalah modusnya, count array adalah frekuensi keluar nya"
   ]
  },
  {
   "cell_type": "markdown",
   "id": "3e65f01e-98b9-4513-821b-8ad8809f4361",
   "metadata": {},
   "source": [
    "# Measure od Variability\n",
    "- Variance\n",
    "- Standard Deviation\n",
    "- Skewness\n",
    "- Percentile\n",
    "- Range"
   ]
  },
  {
   "cell_type": "markdown",
   "id": "6eb57fb1-2282-47f4-b2ba-6d233371f127",
   "metadata": {},
   "source": [
    "## Variance\n",
    "menunjukkan seberapa jauh dataset dengan mean nya\n",
    "\n",
    "ddof --> delta degrees of freedom (derajat kebebasan dalam mmilih)\n",
    "\n",
    "(banyaknya pengamatan bebas dari total pengamatan n)\n",
    "\n",
    "(total pengamatan n dikurangi dengan banyaknya parameter yang ditaksir)\n",
    "\n",
    "(df - n - banyaknya parameter (k) )"
   ]
  },
  {
   "cell_type": "code",
   "execution_count": 103,
   "id": "8bbeba44-b0b1-4bfc-84ad-9c6d46672d6a",
   "metadata": {},
   "outputs": [
    {
     "data": {
      "text/plain": [
       "[8.0, 1, 2.5, 4, 28.0]"
      ]
     },
     "execution_count": 103,
     "metadata": {},
     "output_type": "execute_result"
    }
   ],
   "source": [
    "x"
   ]
  },
  {
   "cell_type": "code",
   "execution_count": 104,
   "id": "11c13048-4ed5-494a-b09b-3dc39f14ddad",
   "metadata": {},
   "outputs": [
    {
     "data": {
      "text/plain": [
       "[1, 2.5, 4, 8.0, 28.0]"
      ]
     },
     "execution_count": 104,
     "metadata": {},
     "output_type": "execute_result"
    }
   ],
   "source": [
    "sorted(x)"
   ]
  },
  {
   "cell_type": "code",
   "execution_count": 105,
   "id": "69c0a19c-c864-4f22-bfa3-ed3ded4b27c1",
   "metadata": {},
   "outputs": [],
   "source": [
    "n=len(x)\n",
    "Mean = sum(x)/n\n",
    "Var_ = sum((item - Mean)**2 for item in x) / (n-1)"
   ]
  },
  {
   "cell_type": "code",
   "execution_count": 106,
   "id": "044ec423-53ae-4584-abb2-4292da7fd20e",
   "metadata": {},
   "outputs": [
    {
     "data": {
      "text/plain": [
       "123.19999999999999"
      ]
     },
     "execution_count": 106,
     "metadata": {},
     "output_type": "execute_result"
    }
   ],
   "source": [
    "Var_"
   ]
  },
  {
   "cell_type": "code",
   "execution_count": 107,
   "id": "ca4a8d0d-812f-4ebc-bca8-9f55a44d1dff",
   "metadata": {},
   "outputs": [
    {
     "data": {
      "text/plain": [
       "123.2"
      ]
     },
     "execution_count": 107,
     "metadata": {},
     "output_type": "execute_result"
    }
   ],
   "source": [
    "#cara dengan package statistics\n",
    "Var_ = statistics.variance(x)\n",
    "Var_"
   ]
  },
  {
   "cell_type": "code",
   "execution_count": 110,
   "id": "bc431d2a-f491-4ad9-a14b-03937f0ca442",
   "metadata": {},
   "outputs": [
    {
     "data": {
      "text/plain": [
       "123.19999999999999"
      ]
     },
     "execution_count": 110,
     "metadata": {},
     "output_type": "execute_result"
    }
   ],
   "source": [
    "#numpy\n",
    "Var_ = np.var(x, ddof=1)\n",
    "Var_"
   ]
  },
  {
   "cell_type": "code",
   "execution_count": 113,
   "id": "2b8e392e-27e4-434f-a8f7-3b5855ee5537",
   "metadata": {},
   "outputs": [
    {
     "data": {
      "text/plain": [
       "123.19999999999999"
      ]
     },
     "execution_count": 113,
     "metadata": {},
     "output_type": "execute_result"
    }
   ],
   "source": [
    "#pandas series\n",
    "Var_ = y.var(ddof=1)\n",
    "Var_"
   ]
  },
  {
   "cell_type": "markdown",
   "id": "ee5a0663-8a73-438e-bf8f-d193fae1edf4",
   "metadata": {},
   "source": [
    "## Standard Deviation\n",
    "adalah positive square root dari Variance"
   ]
  },
  {
   "cell_type": "code",
   "execution_count": 114,
   "id": "963e21f6-ef7a-4bf3-8e93-87aa7c7814c2",
   "metadata": {},
   "outputs": [],
   "source": [
    "#cara manual\n",
    "stddev = Var_ ** 0.5"
   ]
  },
  {
   "cell_type": "code",
   "execution_count": 115,
   "id": "3e99fff6-b860-470c-9e95-dea2b3304743",
   "metadata": {},
   "outputs": [
    {
     "data": {
      "text/plain": [
       "11.099549540409285"
      ]
     },
     "execution_count": 115,
     "metadata": {},
     "output_type": "execute_result"
    }
   ],
   "source": [
    "stddev"
   ]
  },
  {
   "cell_type": "code",
   "execution_count": 116,
   "id": "51d138f7-4a33-4883-a5ca-75bdec62cfec",
   "metadata": {},
   "outputs": [
    {
     "data": {
      "text/plain": [
       "11.099549540409285"
      ]
     },
     "execution_count": 116,
     "metadata": {},
     "output_type": "execute_result"
    }
   ],
   "source": [
    "#numpy\n",
    "stddev = np.std(x, ddof=1)\n",
    "stddev"
   ]
  },
  {
   "cell_type": "code",
   "execution_count": 119,
   "id": "a7bdd0dd-6d40-4362-ace7-2869b02bbd66",
   "metadata": {},
   "outputs": [
    {
     "data": {
      "text/plain": [
       "11.099549540409285"
      ]
     },
     "execution_count": 119,
     "metadata": {},
     "output_type": "execute_result"
    }
   ],
   "source": [
    "#numpy with nan\n",
    "stddev = np.nanstd(x_with_nan, ddof=1)\n",
    "stddev"
   ]
  },
  {
   "cell_type": "code",
   "execution_count": 121,
   "id": "5045b50a-3051-4482-8bac-75f9115883ed",
   "metadata": {},
   "outputs": [
    {
     "data": {
      "text/plain": [
       "0     8.0\n",
       "1     1.0\n",
       "2     2.5\n",
       "3     4.0\n",
       "4    28.0\n",
       "dtype: float64"
      ]
     },
     "execution_count": 121,
     "metadata": {},
     "output_type": "execute_result"
    }
   ],
   "source": [
    "#pandas series\n",
    "z"
   ]
  },
  {
   "cell_type": "code",
   "execution_count": 122,
   "id": "487cd7a7-9b35-425e-9294-c3dd1b7bfe5a",
   "metadata": {},
   "outputs": [
    {
     "data": {
      "text/plain": [
       "11.099549540409285"
      ]
     },
     "execution_count": 122,
     "metadata": {},
     "output_type": "execute_result"
    }
   ],
   "source": [
    "z.std(ddof=1)"
   ]
  },
  {
   "cell_type": "markdown",
   "id": "6482692e-df22-477d-a664-2411d5c43e52",
   "metadata": {},
   "source": [
    "## Skewness\n",
    "mengukur asimetris sample data\n",
    "\n",
    "kalau nilai skewness negatif maka akan ada ekor di sebelah kiri\n",
    "\n",
    "kalau nilai skewness positid maka akan ada ekor di sebelah kanan"
   ]
  },
  {
   "cell_type": "code",
   "execution_count": 126,
   "id": "a8b61bd0-2743-474f-8754-2133e176f623",
   "metadata": {},
   "outputs": [
    {
     "data": {
      "text/plain": [
       "[8.0, 1, 2.5, 4, 28.0]"
      ]
     },
     "execution_count": 126,
     "metadata": {},
     "output_type": "execute_result"
    }
   ],
   "source": [
    "x"
   ]
  },
  {
   "cell_type": "code",
   "execution_count": 127,
   "id": "3f4b9ec2-c5fe-4eca-86d5-71a5d7dc79b5",
   "metadata": {},
   "outputs": [
    {
     "data": {
      "text/plain": [
       "[1, 2.5, 4, 8.0, 28.0]"
      ]
     },
     "execution_count": 127,
     "metadata": {},
     "output_type": "execute_result"
    }
   ],
   "source": [
    "sorted(x)"
   ]
  },
  {
   "cell_type": "code",
   "execution_count": 130,
   "id": "939e346a-af0d-4f8a-8434-1c50bebb9959",
   "metadata": {},
   "outputs": [],
   "source": [
    "# cara manual\n",
    "\n",
    "n = len(x)\n",
    "\n",
    "Mean_ = sum(x) / n\n",
    "Var_ = sum((item - Mean_)**2 for item in x) / (n-1)\n",
    "Stddev = Var_ ** 0.5"
   ]
  },
  {
   "cell_type": "code",
   "execution_count": 132,
   "id": "d6f8a950-b6e1-4bc4-996d-f6c0ae0b644b",
   "metadata": {},
   "outputs": [],
   "source": [
    "Skew_ = (sum((item - Mean_)**3 for item in x) * n / ((n-1)*(n-2)*Stddev**3))"
   ]
  },
  {
   "cell_type": "code",
   "execution_count": 133,
   "id": "3354c707-fc0a-4919-abc6-51b4332ca925",
   "metadata": {},
   "outputs": [
    {
     "data": {
      "text/plain": [
       "1.9470432273905929"
      ]
     },
     "execution_count": 133,
     "metadata": {},
     "output_type": "execute_result"
    }
   ],
   "source": [
    "Skew_"
   ]
  },
  {
   "cell_type": "code",
   "execution_count": 134,
   "id": "3cfc0405-fd03-4418-9aa3-3c43c76db369",
   "metadata": {},
   "outputs": [],
   "source": [
    "#skew menghasilkan nilai positif, sehingga mempunyai ekor ke kanan"
   ]
  },
  {
   "cell_type": "code",
   "execution_count": 135,
   "id": "8b9766de-daca-4a6d-a5ab-96f4990fbbef",
   "metadata": {},
   "outputs": [
    {
     "data": {
      "text/plain": [
       "1.9470432273905927"
      ]
     },
     "execution_count": 135,
     "metadata": {},
     "output_type": "execute_result"
    }
   ],
   "source": [
    "#menggunakan scipy\n",
    "Skew_ = scipy.stats.skew(y, bias=False)\n",
    "Skew_"
   ]
  },
  {
   "cell_type": "code",
   "execution_count": 138,
   "id": "d865a418-0616-463a-8ea9-c76d3a5a1660",
   "metadata": {},
   "outputs": [
    {
     "data": {
      "text/plain": [
       "1.9470432273905924"
      ]
     },
     "execution_count": 138,
     "metadata": {},
     "output_type": "execute_result"
    }
   ],
   "source": [
    "#menggunakan pandas series\n",
    "z_with_nan = pd.Series(x_with_nan)\n",
    "z_with_nan.skew() # <-- pandas series with nan"
   ]
  },
  {
   "cell_type": "code",
   "execution_count": 139,
   "id": "0e07d879-e0aa-4e36-a1c1-940b57e3a9ba",
   "metadata": {},
   "outputs": [
    {
     "data": {
      "text/plain": [
       "1.9470432273905924"
      ]
     },
     "execution_count": 139,
     "metadata": {},
     "output_type": "execute_result"
    }
   ],
   "source": [
    "z.skew()"
   ]
  },
  {
   "cell_type": "markdown",
   "id": "69031d52-977f-487c-9add-32c7b6a48e01",
   "metadata": {},
   "source": [
    "## Percentile\n",
    "sample p percentile adalah kumpulan element data sehingga p% element dalam kumpulan data itu kurang dari atau sama dengan nilai p% tersebut"
   ]
  },
  {
   "cell_type": "code",
   "execution_count": 141,
   "id": "bf3f5408-487d-4175-952d-88e384652894",
   "metadata": {},
   "outputs": [
    {
     "name": "stdout",
     "output_type": "stream",
     "text": [
      "[2.5, 4.0, 8.0]\n"
     ]
    }
   ],
   "source": [
    "# hitung pakai package statistics\n",
    "print(statistics.quantiles(x, n=4, method='inclusive'))\n",
    "\n",
    "# n adalah yang menentukan datanya dibagi berapa quantile\n",
    "# kalau 4, dibagi 4, berarti kita dapat % ke 25,50,75\n",
    "# kalau 2, dibagi 2, berarti kita dapat % ke 50\n",
    "\n",
    "# method 'exclusive' default nya meng-exclude data outlier\n",
    "# kalau 'inclusive' maka semua data di include"
   ]
  },
  {
   "cell_type": "code",
   "execution_count": 142,
   "id": "bec9a341-4a90-4d75-8ba5-c8d22bd12d94",
   "metadata": {},
   "outputs": [
    {
     "data": {
      "text/plain": [
       "array([2.5, 4. , 8. ])"
      ]
     },
     "execution_count": 142,
     "metadata": {},
     "output_type": "execute_result"
    }
   ],
   "source": [
    "#numpy\n",
    "np.percentile(y, [25, 50, 75])"
   ]
  },
  {
   "cell_type": "code",
   "execution_count": 144,
   "id": "9f28b4fd-3e27-458b-9aac-94e9f51b21d0",
   "metadata": {},
   "outputs": [
    {
     "data": {
      "text/plain": [
       "0.25    2.5\n",
       "0.50    4.0\n",
       "0.75    8.0\n",
       "dtype: float64"
      ]
     },
     "execution_count": 144,
     "metadata": {},
     "output_type": "execute_result"
    }
   ],
   "source": [
    "#pandas Series\n",
    "z.quantile([0.25, 0.50, 0.75])"
   ]
  },
  {
   "cell_type": "markdown",
   "id": "cf7faab5-8b6b-4417-b35a-3b03317736eb",
   "metadata": {},
   "source": [
    "## Range\n",
    "jarak antara nilai data maksimum dan data minimum"
   ]
  },
  {
   "cell_type": "code",
   "execution_count": 146,
   "id": "97255c8c-b4ce-461e-b904-24dc3aa74120",
   "metadata": {},
   "outputs": [
    {
     "data": {
      "text/plain": [
       "[8.0, 1, 2.5, 4, 28.0]"
      ]
     },
     "execution_count": 146,
     "metadata": {},
     "output_type": "execute_result"
    }
   ],
   "source": [
    "x"
   ]
  },
  {
   "cell_type": "code",
   "execution_count": 147,
   "id": "c67ff68a-3cf3-477e-aa24-d12e202fc17c",
   "metadata": {},
   "outputs": [
    {
     "data": {
      "text/plain": [
       "28.0"
      ]
     },
     "execution_count": 147,
     "metadata": {},
     "output_type": "execute_result"
    }
   ],
   "source": [
    "np.max(x)"
   ]
  },
  {
   "cell_type": "code",
   "execution_count": 148,
   "id": "9a648880-2b5f-4e23-86f4-41851a1ba50d",
   "metadata": {},
   "outputs": [
    {
     "data": {
      "text/plain": [
       "1.0"
      ]
     },
     "execution_count": 148,
     "metadata": {},
     "output_type": "execute_result"
    }
   ],
   "source": [
    "np.min(x)"
   ]
  },
  {
   "cell_type": "code",
   "execution_count": 149,
   "id": "1f3d7812-860c-4362-b10b-e7e72a569364",
   "metadata": {},
   "outputs": [
    {
     "data": {
      "text/plain": [
       "27.0"
      ]
     },
     "execution_count": 149,
     "metadata": {},
     "output_type": "execute_result"
    }
   ],
   "source": [
    "np.ptp(x)"
   ]
  },
  {
   "cell_type": "code",
   "execution_count": 150,
   "id": "ab9db059-d59c-4605-9588-1408c28e10f7",
   "metadata": {},
   "outputs": [
    {
     "data": {
      "text/plain": [
       "nan"
      ]
     },
     "execution_count": 150,
     "metadata": {},
     "output_type": "execute_result"
    }
   ],
   "source": [
    "np.ptp(x_with_nan)"
   ]
  },
  {
   "cell_type": "code",
   "execution_count": 151,
   "id": "7303b5a3-5719-4097-88e9-baab09e05c93",
   "metadata": {},
   "outputs": [
    {
     "data": {
      "text/plain": [
       "0     8.0\n",
       "1     1.0\n",
       "2     2.5\n",
       "3     4.0\n",
       "4    28.0\n",
       "dtype: float64"
      ]
     },
     "execution_count": 151,
     "metadata": {},
     "output_type": "execute_result"
    }
   ],
   "source": [
    "z"
   ]
  },
  {
   "cell_type": "code",
   "execution_count": 152,
   "id": "acf1bb87-da5c-455c-8723-1fc19e529f7a",
   "metadata": {},
   "outputs": [
    {
     "data": {
      "text/plain": [
       "27.0"
      ]
     },
     "execution_count": 152,
     "metadata": {},
     "output_type": "execute_result"
    }
   ],
   "source": [
    "np.ptp(z)"
   ]
  },
  {
   "cell_type": "markdown",
   "id": "4c6941e8-6f3a-4f38-9956-074792fcb6f6",
   "metadata": {},
   "source": [
    "## Interquartile\n",
    "perbedaan antara quartile 1 dan quartile 3"
   ]
  },
  {
   "cell_type": "code",
   "execution_count": 153,
   "id": "bc348fc7-5201-4f59-861d-ce557668f7b3",
   "metadata": {},
   "outputs": [
    {
     "name": "stdout",
     "output_type": "stream",
     "text": [
      "5.5\n"
     ]
    }
   ],
   "source": [
    "#numpy\n",
    "np.percentile(y,75) - np.percentile(y,25)"
   ]
  },
  {
   "cell_type": "code",
   "execution_count": 154,
   "id": "a6343ce4-a0e1-481b-b71a-f0df2e77fd31",
   "metadata": {},
   "outputs": [
    {
     "data": {
      "text/plain": [
       "5.5"
      ]
     },
     "execution_count": 154,
     "metadata": {},
     "output_type": "execute_result"
    }
   ],
   "source": [
    "#pandas Series\n",
    "z.quantile(0.75) - z.quantile(0.25)"
   ]
  },
  {
   "cell_type": "markdown",
   "id": "fe6da31b-0215-43c3-8c4e-17a8fec7f4f9",
   "metadata": {},
   "source": [
    "## Desctriptive Statistics"
   ]
  },
  {
   "cell_type": "code",
   "execution_count": 155,
   "id": "f3b12e20-9aa9-4b95-b145-bd94cd26adc6",
   "metadata": {},
   "outputs": [
    {
     "data": {
      "text/plain": [
       "DescribeResult(nobs=5, minmax=(1.0, 28.0), mean=8.7, variance=123.19999999999999, skewness=1.9470432273905927, kurtosis=3.878019618875446)"
      ]
     },
     "execution_count": 155,
     "metadata": {},
     "output_type": "execute_result"
    }
   ],
   "source": [
    "scipy.stats.describe(y, ddof=1, bias=False)"
   ]
  },
  {
   "cell_type": "markdown",
   "id": "9e27ac16-e876-4144-8900-bac2b0726a09",
   "metadata": {},
   "source": [
    "- nobs --> jumlah data yang diobservasi\n",
    "- minmax --> data tertinggi dan terendah\n",
    "- mean --> nilai rata rata\n",
    "- variance --> nilai variance\n",
    "- skewness --> nilai skew\n",
    "- kurtosis --> nilai kurtosis"
   ]
  },
  {
   "cell_type": "code",
   "execution_count": 156,
   "id": "6e0e4e64-e44a-4ecb-af2b-18ce4676b76a",
   "metadata": {},
   "outputs": [
    {
     "data": {
      "text/plain": [
       "count     5.00000\n",
       "mean      8.70000\n",
       "std      11.09955\n",
       "min       1.00000\n",
       "25%       2.50000\n",
       "50%       4.00000\n",
       "75%       8.00000\n",
       "max      28.00000\n",
       "dtype: float64"
      ]
     },
     "execution_count": 156,
     "metadata": {},
     "output_type": "execute_result"
    }
   ],
   "source": [
    "#pandas series\n",
    "z.describe()"
   ]
  },
  {
   "cell_type": "markdown",
   "id": "793a604c-a80d-4460-bdd5-27a6926c2fb7",
   "metadata": {},
   "source": [
    "## Correllation\n",
    "3 tipe :\n",
    "\n",
    "    - Correllation positive\n",
    "    - Correllation negative\n",
    "    - No / Weak Correllation\n",
    "\n",
    "2 alat mengukur korelasi :\n",
    "\n",
    "- Covariance\n",
    "- Correllation Coefficient"
   ]
  },
  {
   "cell_type": "code",
   "execution_count": 157,
   "id": "33d6714a-267a-4c69-823e-04bb9f10b746",
   "metadata": {},
   "outputs": [],
   "source": [
    "x = list(range(-10,11))\n",
    "y = [0,2,2,2,2,3,3,6,7,4,7,6,6,9,4,5,5,10,11,12,14]"
   ]
  },
  {
   "cell_type": "code",
   "execution_count": 158,
   "id": "daca35f1-ed68-4498-b9b6-f4b9e3c00afd",
   "metadata": {},
   "outputs": [],
   "source": [
    "x1 = np.array(x)\n",
    "y1 = np.array(y)\n",
    "\n",
    "x2 = pd.Series(x1)\n",
    "y2 = pd.Series(y1)"
   ]
  },
  {
   "cell_type": "markdown",
   "id": "eb5ed23a-bf5a-410f-8031-9eadf4856ac4",
   "metadata": {},
   "source": [
    "## Covariance\n",
    "ukuran yang mengukur arah kekuatan dan arah hubungan antara sepasang variable"
   ]
  },
  {
   "cell_type": "code",
   "execution_count": 160,
   "id": "45b05e1a-689d-4ca6-a8c7-d92602a1e112",
   "metadata": {},
   "outputs": [
    {
     "data": {
      "text/plain": [
       "[-10, -9, -8, -7, -6, -5, -4, -3, -2, -1, 0, 1, 2, 3, 4, 5, 6, 7, 8, 9, 10]"
      ]
     },
     "execution_count": 160,
     "metadata": {},
     "output_type": "execute_result"
    }
   ],
   "source": [
    "x"
   ]
  },
  {
   "cell_type": "code",
   "execution_count": 168,
   "id": "3b7d53d9-6e82-484e-ac87-3d0a1235e099",
   "metadata": {},
   "outputs": [
    {
     "data": {
      "text/plain": [
       "range(0, 21)"
      ]
     },
     "execution_count": 168,
     "metadata": {},
     "output_type": "execute_result"
    }
   ],
   "source": [
    "range(n)"
   ]
  },
  {
   "cell_type": "code",
   "execution_count": 164,
   "id": "e55f865e-355d-4918-b39d-faef5354e810",
   "metadata": {},
   "outputs": [],
   "source": [
    "n = len(x)\n",
    "Mean_x = sum(x) / n\n",
    "Mean_y = sum(y) / n"
   ]
  },
  {
   "cell_type": "code",
   "execution_count": 165,
   "id": "b2e7b47b-8653-49e2-8aac-b4bf5a25d47e",
   "metadata": {},
   "outputs": [
    {
     "data": {
      "text/plain": [
       "0.0"
      ]
     },
     "execution_count": 165,
     "metadata": {},
     "output_type": "execute_result"
    }
   ],
   "source": [
    "Mean_x"
   ]
  },
  {
   "cell_type": "code",
   "execution_count": 166,
   "id": "aac389a3-5879-43c1-99eb-9305cfe439cf",
   "metadata": {},
   "outputs": [
    {
     "data": {
      "text/plain": [
       "5.714285714285714"
      ]
     },
     "execution_count": 166,
     "metadata": {},
     "output_type": "execute_result"
    }
   ],
   "source": [
    "Mean_y"
   ]
  },
  {
   "cell_type": "code",
   "execution_count": 170,
   "id": "ca028925-dea0-4454-bbf6-4076b5f31bf8",
   "metadata": {},
   "outputs": [
    {
     "data": {
      "text/plain": [
       "19.95"
      ]
     },
     "execution_count": 170,
     "metadata": {},
     "output_type": "execute_result"
    }
   ],
   "source": [
    "cov_xy = sum((x[i] - Mean_x) * (y[i]-Mean_y) for i in range(n)) / (n-1)\n",
    "cov_xy"
   ]
  },
  {
   "cell_type": "code",
   "execution_count": 171,
   "id": "46afb45b-e712-4af3-ad77-54449836d1d9",
   "metadata": {},
   "outputs": [
    {
     "data": {
      "text/plain": [
       "array([[38.5       , 19.95      ],\n",
       "       [19.95      , 13.91428571]])"
      ]
     },
     "execution_count": 171,
     "metadata": {},
     "output_type": "execute_result"
    }
   ],
   "source": [
    "#numpy\n",
    "np.cov(x1, y1)"
   ]
  },
  {
   "cell_type": "code",
   "execution_count": 174,
   "id": "73a09511-84ab-46cc-95a3-24f761c16f56",
   "metadata": {},
   "outputs": [
    {
     "data": {
      "text/plain": [
       "38.5"
      ]
     },
     "execution_count": 174,
     "metadata": {},
     "output_type": "execute_result"
    }
   ],
   "source": [
    "x1.var(ddof=1)"
   ]
  },
  {
   "cell_type": "code",
   "execution_count": 175,
   "id": "d68a5795-610c-4b3b-92bc-8fbad949396a",
   "metadata": {},
   "outputs": [
    {
     "data": {
      "text/plain": [
       "13.914285714285711"
      ]
     },
     "execution_count": 175,
     "metadata": {},
     "output_type": "execute_result"
    }
   ],
   "source": [
    "y1.var(ddof=1)"
   ]
  },
  {
   "cell_type": "code",
   "execution_count": 177,
   "id": "7824becf-123c-4a1d-8e59-cd6110bccbe1",
   "metadata": {},
   "outputs": [
    {
     "data": {
      "text/plain": [
       "19.95"
      ]
     },
     "execution_count": 177,
     "metadata": {},
     "output_type": "execute_result"
    }
   ],
   "source": [
    "cov_xy = np.cov(x1, y1)[0, 1]\n",
    "cov_xy"
   ]
  },
  {
   "cell_type": "code",
   "execution_count": 178,
   "id": "a207295d-ce4e-4c3a-8b05-56894c32c2c9",
   "metadata": {},
   "outputs": [
    {
     "data": {
      "text/plain": [
       "19.95"
      ]
     },
     "execution_count": 178,
     "metadata": {},
     "output_type": "execute_result"
    }
   ],
   "source": [
    "#Pandas Series\n",
    "x2.cov(y2)"
   ]
  },
  {
   "cell_type": "markdown",
   "id": "874cbf00-4971-4151-96dd-d1c799dc22a3",
   "metadata": {},
   "source": [
    "## Correllation Coefficient\n",
    "- Coefficient > 0 --> korelasi positif\n",
    "- Coefficient = 1 --> korelasi positif sempurna\n",
    "- Coefficient < 0 --> korelasi negatif\n",
    "- Coefficient = -1 --> korelasi negatif sempurna\n",
    "- Coefficient = 0 --> No / Weak Correllation"
   ]
  },
  {
   "cell_type": "markdown",
   "id": "d193c0d2-6def-4d7f-adfc-8f883e2d6036",
   "metadata": {},
   "source": [
    "Data yang diperlukan :\n",
    "- Variance x & y\n",
    "- Std Dev x & y\n",
    "- Covariance xy"
   ]
  },
  {
   "cell_type": "code",
   "execution_count": 182,
   "id": "2413fec5-d748-47a0-9e92-7dafc982e18b",
   "metadata": {},
   "outputs": [
    {
     "data": {
      "text/plain": [
       "([-10, -9, -8, -7, -6, -5, -4, -3, -2, -1, 0, 1, 2, 3, 4, 5, 6, 7, 8, 9, 10],\n",
       " [0, 2, 2, 2, 2, 3, 3, 6, 7, 4, 7, 6, 6, 9, 4, 5, 5, 10, 11, 12, 14])"
      ]
     },
     "execution_count": 182,
     "metadata": {},
     "output_type": "execute_result"
    }
   ],
   "source": [
    "x, y"
   ]
  },
  {
   "cell_type": "code",
   "execution_count": 184,
   "id": "4146db20-ee6d-4de6-9249-14b9cceac512",
   "metadata": {},
   "outputs": [
    {
     "data": {
      "text/plain": [
       "(38.5, 13.914285714285711)"
      ]
     },
     "execution_count": 184,
     "metadata": {},
     "output_type": "execute_result"
    }
   ],
   "source": [
    "Var_x, Var_y"
   ]
  },
  {
   "cell_type": "code",
   "execution_count": 185,
   "id": "47437174-89af-4919-903e-ee89c9ec26cb",
   "metadata": {},
   "outputs": [
    {
     "data": {
      "text/plain": [
       "(0.0, 5.714285714285714)"
      ]
     },
     "execution_count": 185,
     "metadata": {},
     "output_type": "execute_result"
    }
   ],
   "source": [
    "Mean_x, Mean_y"
   ]
  },
  {
   "cell_type": "code",
   "execution_count": 187,
   "id": "65c50719-5165-449f-ba14-73890149c18c",
   "metadata": {},
   "outputs": [
    {
     "data": {
      "text/plain": [
       "0.861950005631606"
      ]
     },
     "execution_count": 187,
     "metadata": {},
     "output_type": "execute_result"
    }
   ],
   "source": [
    "# cara manual\n",
    "# covariance tadi dibagi std_x * std_y\n",
    "Var_x = sum((i - Mean_x)**2 for i in x) / (len(x)-1)\n",
    "Var_y = sum((i - Mean_y)**2 for i in y) / (len(y)-1)\n",
    "Std_x, Std_y = Var_x ** 0.5, Var_y ** 0.5\n",
    "r = cov_xy / (Std_x * Std_y)# cara manual\n",
    "\n",
    "r"
   ]
  },
  {
   "cell_type": "markdown",
   "id": "73111440-f5ff-418b-902b-b5a42fab8018",
   "metadata": {},
   "source": [
    "Kesimpulan : Coefficient dengan Correlation Positive"
   ]
  },
  {
   "cell_type": "code",
   "execution_count": 190,
   "id": "3bdf0f07-5124-48dd-8f56-3cb0563a3b83",
   "metadata": {},
   "outputs": [
    {
     "data": {
      "text/plain": [
       "(0.861950005631606, 5.122760847201171e-07)"
      ]
     },
     "execution_count": 190,
     "metadata": {},
     "output_type": "execute_result"
    }
   ],
   "source": [
    "#scipy\n",
    "r, p = scipy.stats.pearsonr(x1, y1)\n",
    "r,p"
   ]
  },
  {
   "cell_type": "code",
   "execution_count": 192,
   "id": "a6fe7190-a623-42c5-b516-9fa812f3301d",
   "metadata": {},
   "outputs": [
    {
     "data": {
      "text/plain": [
       "0.8619500056316061"
      ]
     },
     "execution_count": 192,
     "metadata": {},
     "output_type": "execute_result"
    }
   ],
   "source": [
    "#Pandas Series\n",
    "r = x2.corr(y2)\n",
    "r # <-- x terhadap y"
   ]
  },
  {
   "cell_type": "code",
   "execution_count": 194,
   "id": "81b3ac61-84ec-4ef2-a8ab-1e709da5b29e",
   "metadata": {},
   "outputs": [
    {
     "data": {
      "text/plain": [
       "0.861950005631606"
      ]
     },
     "execution_count": 194,
     "metadata": {},
     "output_type": "execute_result"
    }
   ],
   "source": [
    "r = y2.corr(x2)\n",
    "r # <-- y terhadap r"
   ]
  },
  {
   "cell_type": "code",
   "execution_count": 196,
   "id": "5c82d38a-5a8c-4314-9bae-1c6567730bcb",
   "metadata": {},
   "outputs": [
    {
     "name": "stdout",
     "output_type": "stream",
     "text": [
      "0.8619500056316061\n"
     ]
    }
   ],
   "source": [
    "#numpy\n",
    "print(np.corrcoef(x1, y1)[0,1])"
   ]
  },
  {
   "cell_type": "markdown",
   "id": "b84d5bc3-0ca7-4fba-8c17-7043d87d5df0",
   "metadata": {},
   "source": [
    "## Descriptive Statistics dengan data 2D\n",
    "\n",
    "Database table, csv, google spreadsheet, excel file and so on\n",
    "\n",
    "\n",
    "bisa dengan numpy, scipy, Pandas Dataframe"
   ]
  },
  {
   "cell_type": "code",
   "execution_count": 197,
   "id": "879674e5-94fe-45c2-864d-a387d0ae4889",
   "metadata": {},
   "outputs": [
    {
     "data": {
      "text/plain": [
       "array([[ 1,  1,  1],\n",
       "       [ 2,  3,  1],\n",
       "       [ 4,  9,  2],\n",
       "       [ 8, 27,  4],\n",
       "       [16,  1,  1]])"
      ]
     },
     "execution_count": 197,
     "metadata": {},
     "output_type": "execute_result"
    }
   ],
   "source": [
    "a = np.array([[1,1,1],\n",
    "              [2,3,1],\n",
    "              [4,9,2],\n",
    "              [8,27,4],\n",
    "              [16,1,1]\n",
    "             ])\n",
    "a"
   ]
  },
  {
   "cell_type": "code",
   "execution_count": 199,
   "id": "0f4035f3-3e5c-41d1-8d63-9b6c6cc329f7",
   "metadata": {},
   "outputs": [
    {
     "data": {
      "text/plain": [
       "5.4"
      ]
     },
     "execution_count": 199,
     "metadata": {},
     "output_type": "execute_result"
    }
   ],
   "source": [
    "np.mean(a)"
   ]
  },
  {
   "cell_type": "code",
   "execution_count": 200,
   "id": "70e8ea0a-da4a-4f36-8966-295dd682c273",
   "metadata": {},
   "outputs": [
    {
     "data": {
      "text/plain": [
       "27"
      ]
     },
     "execution_count": 200,
     "metadata": {},
     "output_type": "execute_result"
    }
   ],
   "source": [
    "np.max(a)"
   ]
  },
  {
   "cell_type": "code",
   "execution_count": 201,
   "id": "ef106821-8e5b-4b2d-822a-184595c1f28a",
   "metadata": {},
   "outputs": [
    {
     "data": {
      "text/plain": [
       "1"
      ]
     },
     "execution_count": 201,
     "metadata": {},
     "output_type": "execute_result"
    }
   ],
   "source": [
    "np.min(a)"
   ]
  },
  {
   "cell_type": "code",
   "execution_count": 202,
   "id": "e68a93bd-d783-4d51-98a0-106f6d7f800f",
   "metadata": {},
   "outputs": [
    {
     "data": {
      "text/plain": [
       "2.0"
      ]
     },
     "execution_count": 202,
     "metadata": {},
     "output_type": "execute_result"
    }
   ],
   "source": [
    "np.median(a)"
   ]
  },
  {
   "cell_type": "code",
   "execution_count": 203,
   "id": "73415d90-2f59-4638-8511-0d50a9bde1e3",
   "metadata": {},
   "outputs": [
    {
     "data": {
      "text/plain": [
       "53.40000000000001"
      ]
     },
     "execution_count": 203,
     "metadata": {},
     "output_type": "execute_result"
    }
   ],
   "source": [
    "a.var(ddof=1)"
   ]
  },
  {
   "cell_type": "code",
   "execution_count": 211,
   "id": "8858e706-7a8f-40d4-8c49-ad2750d5f7ea",
   "metadata": {},
   "outputs": [
    {
     "data": {
      "text/plain": [
       "array([16, 27,  4])"
      ]
     },
     "execution_count": 211,
     "metadata": {},
     "output_type": "execute_result"
    }
   ],
   "source": [
    "np.max(a, axis=0)"
   ]
  },
  {
   "cell_type": "code",
   "execution_count": 212,
   "id": "92519b6e-ca03-4dc5-a2b8-8ca57eead17f",
   "metadata": {},
   "outputs": [
    {
     "data": {
      "text/plain": [
       "array([ 1,  3,  9, 27, 16])"
      ]
     },
     "execution_count": 212,
     "metadata": {},
     "output_type": "execute_result"
    }
   ],
   "source": [
    "np.max(a, axis=1)"
   ]
  },
  {
   "cell_type": "code",
   "execution_count": 213,
   "id": "6a0aba6b-6d26-4ab9-847c-39a77ff49e20",
   "metadata": {},
   "outputs": [
    {
     "data": {
      "text/plain": [
       "array([6.2, 8.2, 1.8])"
      ]
     },
     "execution_count": 213,
     "metadata": {},
     "output_type": "execute_result"
    }
   ],
   "source": [
    "np.mean(a, axis=0)"
   ]
  },
  {
   "cell_type": "code",
   "execution_count": 214,
   "id": "da453c1a-f40a-45a7-8290-a92c0b333698",
   "metadata": {},
   "outputs": [
    {
     "data": {
      "text/plain": [
       "array([31, 41,  9])"
      ]
     },
     "execution_count": 214,
     "metadata": {},
     "output_type": "execute_result"
    }
   ],
   "source": [
    "np.sum(a, axis=0)"
   ]
  },
  {
   "cell_type": "code",
   "execution_count": 215,
   "id": "f57181df-4769-4315-9a5e-aab14e312472",
   "metadata": {},
   "outputs": [
    {
     "data": {
      "text/plain": [
       "array([ 37.2, 121.2,   1.7])"
      ]
     },
     "execution_count": 215,
     "metadata": {},
     "output_type": "execute_result"
    }
   ],
   "source": [
    "a.var(ddof=1, axis=0)"
   ]
  },
  {
   "cell_type": "code",
   "execution_count": 216,
   "id": "e39c665e-c206-49fc-9617-45e66618ca98",
   "metadata": {},
   "outputs": [
    {
     "data": {
      "text/plain": [
       "array([  0.,   1.,  13., 151.,  75.])"
      ]
     },
     "execution_count": 216,
     "metadata": {},
     "output_type": "execute_result"
    }
   ],
   "source": [
    "a.var(ddof=1, axis=1)"
   ]
  },
  {
   "cell_type": "code",
   "execution_count": 219,
   "id": "ca2ef0fd-1667-46fd-87b6-8e11f3982800",
   "metadata": {},
   "outputs": [
    {
     "data": {
      "text/plain": [
       "array([4.        , 3.73719282, 1.51571657])"
      ]
     },
     "execution_count": 219,
     "metadata": {},
     "output_type": "execute_result"
    }
   ],
   "source": [
    "#geometric mean\n",
    "scipy.stats.gmean(a) # <-- default adalah axis=0"
   ]
  },
  {
   "cell_type": "code",
   "execution_count": 220,
   "id": "f431a437-7f77-4628-bf89-d4e346401c2e",
   "metadata": {},
   "outputs": [
    {
     "data": {
      "text/plain": [
       "array([4.        , 3.73719282, 1.51571657])"
      ]
     },
     "execution_count": 220,
     "metadata": {},
     "output_type": "execute_result"
    }
   ],
   "source": [
    "scipy.stats.gmean(a, axis=0)"
   ]
  },
  {
   "cell_type": "code",
   "execution_count": 221,
   "id": "9aecd43b-78d8-4349-b903-018c40597f88",
   "metadata": {},
   "outputs": [
    {
     "data": {
      "text/plain": [
       "array([1.        , 1.81712059, 4.16016765, 9.52440631, 2.5198421 ])"
      ]
     },
     "execution_count": 221,
     "metadata": {},
     "output_type": "execute_result"
    }
   ],
   "source": [
    "scipy.stats.gmean(a, axis=1)"
   ]
  },
  {
   "cell_type": "code",
   "execution_count": 222,
   "id": "71dd0d9f-6e00-4f3d-8d49-18e21942a4eb",
   "metadata": {},
   "outputs": [
    {
     "data": {
      "text/plain": [
       "2.829705017016332"
      ]
     },
     "execution_count": 222,
     "metadata": {},
     "output_type": "execute_result"
    }
   ],
   "source": [
    "scipy.stats.gmean(a, axis=None)"
   ]
  },
  {
   "cell_type": "code",
   "execution_count": 224,
   "id": "9a19ec64-c15b-4524-b1f3-e3ce5a433575",
   "metadata": {},
   "outputs": [
    {
     "data": {
      "text/plain": [
       "DescribeResult(nobs=15, minmax=(1, 27), mean=5.4, variance=53.40000000000001, skewness=2.264965290423389, kurtosis=5.212690982795767)"
      ]
     },
     "execution_count": 224,
     "metadata": {},
     "output_type": "execute_result"
    }
   ],
   "source": [
    "scipy.stats.describe(a, axis=None, ddof=1, bias=False)"
   ]
  },
  {
   "cell_type": "code",
   "execution_count": 225,
   "id": "a9f453d9-1508-4f58-b04c-d8b78231ce53",
   "metadata": {},
   "outputs": [
    {
     "data": {
      "text/plain": [
       "DescribeResult(nobs=5, minmax=(array([1, 1, 1]), array([16, 27,  4])), mean=array([6.2, 8.2, 1.8]), variance=array([ 37.2, 121.2,   1.7]), skewness=array([1.32531471, 1.79809454, 1.71439233]), kurtosis=array([1.30376344, 3.14969121, 2.66435986]))"
      ]
     },
     "execution_count": 225,
     "metadata": {},
     "output_type": "execute_result"
    }
   ],
   "source": [
    "scipy.stats.describe(a, ddof=1, bias=False) # <-- default = axis=0"
   ]
  },
  {
   "cell_type": "code",
   "execution_count": 226,
   "id": "4cbe3eab-5b0d-4095-8dd3-595c504399b5",
   "metadata": {},
   "outputs": [
    {
     "data": {
      "text/plain": [
       "DescribeResult(nobs=3, minmax=(array([1, 1, 2, 4, 1]), array([ 1,  3,  9, 27, 16])), mean=array([ 1.,  2.,  5., 13.,  6.]), variance=array([  0.,   1.,  13., 151.,  75.]), skewness=array([0.        , 0.        , 1.15206964, 1.52787436, 1.73205081]), kurtosis=array([-3. , -1.5, -1.5, -1.5, -1.5]))"
      ]
     },
     "execution_count": 226,
     "metadata": {},
     "output_type": "execute_result"
    }
   ],
   "source": [
    "scipy.stats.describe(a, axis=1, ddof=1, bias=False)"
   ]
  },
  {
   "cell_type": "markdown",
   "id": "7ae930f0-da37-4a76-bc89-269ca09a8409",
   "metadata": {},
   "source": [
    "## scipy.stats.describe punya:\n",
    "- nobs\n",
    "- minmax\n",
    "- mean\n",
    "- variance\n",
    "- skewness\n",
    "- kurtosis"
   ]
  },
  {
   "cell_type": "code",
   "execution_count": 228,
   "id": "67320346-c158-404d-b640-aec40a17a60a",
   "metadata": {},
   "outputs": [
    {
     "data": {
      "text/plain": [
       "53.40000000000001"
      ]
     },
     "execution_count": 228,
     "metadata": {},
     "output_type": "execute_result"
    }
   ],
   "source": [
    "scipy.stats.describe(a, axis=None, ddof=1, bias=False).variance"
   ]
  },
  {
   "cell_type": "markdown",
   "id": "0db4ef6e-1ce4-4978-a95a-7c066f0eefac",
   "metadata": {},
   "source": [
    "## DataFrame"
   ]
  },
  {
   "cell_type": "code",
   "execution_count": 231,
   "id": "cf07ff9d-a8fe-4e04-868a-51bee5bf37fe",
   "metadata": {},
   "outputs": [
    {
     "data": {
      "text/html": [
       "<div>\n",
       "<style scoped>\n",
       "    .dataframe tbody tr th:only-of-type {\n",
       "        vertical-align: middle;\n",
       "    }\n",
       "\n",
       "    .dataframe tbody tr th {\n",
       "        vertical-align: top;\n",
       "    }\n",
       "\n",
       "    .dataframe thead th {\n",
       "        text-align: right;\n",
       "    }\n",
       "</style>\n",
       "<table border=\"1\" class=\"dataframe\">\n",
       "  <thead>\n",
       "    <tr style=\"text-align: right;\">\n",
       "      <th></th>\n",
       "      <th>A</th>\n",
       "      <th>B</th>\n",
       "      <th>C</th>\n",
       "    </tr>\n",
       "  </thead>\n",
       "  <tbody>\n",
       "    <tr>\n",
       "      <th>first</th>\n",
       "      <td>1</td>\n",
       "      <td>1</td>\n",
       "      <td>1</td>\n",
       "    </tr>\n",
       "    <tr>\n",
       "      <th>second</th>\n",
       "      <td>2</td>\n",
       "      <td>3</td>\n",
       "      <td>1</td>\n",
       "    </tr>\n",
       "    <tr>\n",
       "      <th>third</th>\n",
       "      <td>4</td>\n",
       "      <td>9</td>\n",
       "      <td>2</td>\n",
       "    </tr>\n",
       "    <tr>\n",
       "      <th>fourth</th>\n",
       "      <td>8</td>\n",
       "      <td>27</td>\n",
       "      <td>4</td>\n",
       "    </tr>\n",
       "    <tr>\n",
       "      <th>fifth</th>\n",
       "      <td>16</td>\n",
       "      <td>1</td>\n",
       "      <td>1</td>\n",
       "    </tr>\n",
       "  </tbody>\n",
       "</table>\n",
       "</div>"
      ],
      "text/plain": [
       "         A   B  C\n",
       "first    1   1  1\n",
       "second   2   3  1\n",
       "third    4   9  2\n",
       "fourth   8  27  4\n",
       "fifth   16   1  1"
      ]
     },
     "execution_count": 231,
     "metadata": {},
     "output_type": "execute_result"
    }
   ],
   "source": [
    "row_names = [\"first\", \"second\", \"third\", \"fourth\", \"fifth\"]\n",
    "col_names = [\"A\", \"B\", \"C\"]\n",
    "df = pd.DataFrame(a, index=row_names, columns=col_names)\n",
    "df"
   ]
  },
  {
   "cell_type": "code",
   "execution_count": 232,
   "id": "064e03ac-9a92-40ca-94d1-94415c8f4266",
   "metadata": {},
   "outputs": [
    {
     "data": {
      "text/plain": [
       "A    16\n",
       "B    27\n",
       "C     4\n",
       "dtype: int32"
      ]
     },
     "execution_count": 232,
     "metadata": {},
     "output_type": "execute_result"
    }
   ],
   "source": [
    "df.max()"
   ]
  },
  {
   "cell_type": "code",
   "execution_count": 233,
   "id": "99a32abb-be7d-44b4-a352-f861cea18b5c",
   "metadata": {},
   "outputs": [
    {
     "data": {
      "text/plain": [
       "A    6.2\n",
       "B    8.2\n",
       "C    1.8\n",
       "dtype: float64"
      ]
     },
     "execution_count": 233,
     "metadata": {},
     "output_type": "execute_result"
    }
   ],
   "source": [
    "df.mean()"
   ]
  },
  {
   "cell_type": "code",
   "execution_count": 234,
   "id": "259f50c4-f3ab-4c1b-bd06-4f702b31c745",
   "metadata": {},
   "outputs": [
    {
     "data": {
      "text/plain": [
       "A     37.2\n",
       "B    121.2\n",
       "C      1.7\n",
       "dtype: float64"
      ]
     },
     "execution_count": 234,
     "metadata": {},
     "output_type": "execute_result"
    }
   ],
   "source": [
    "df.var()"
   ]
  },
  {
   "cell_type": "code",
   "execution_count": 235,
   "id": "abc209a7-83a2-43d6-aafc-e90e8901dea9",
   "metadata": {},
   "outputs": [
    {
     "data": {
      "text/plain": [
       "A    1.325315\n",
       "B    1.798095\n",
       "C    1.714392\n",
       "dtype: float64"
      ]
     },
     "execution_count": 235,
     "metadata": {},
     "output_type": "execute_result"
    }
   ],
   "source": [
    "df.skew()"
   ]
  },
  {
   "cell_type": "code",
   "execution_count": 236,
   "id": "c1ec022a-1ced-4326-87f2-882dd0692452",
   "metadata": {},
   "outputs": [
    {
     "data": {
      "text/plain": [
       "first      1.0\n",
       "second     2.0\n",
       "third      5.0\n",
       "fourth    13.0\n",
       "fifth      6.0\n",
       "dtype: float64"
      ]
     },
     "execution_count": 236,
     "metadata": {},
     "output_type": "execute_result"
    }
   ],
   "source": [
    "df.mean(axis=1)"
   ]
  },
  {
   "cell_type": "code",
   "execution_count": 237,
   "id": "6b4cef6a-5b72-4cd4-af04-04f133c6aaef",
   "metadata": {},
   "outputs": [
    {
     "data": {
      "text/plain": [
       "first      1\n",
       "second     3\n",
       "third      9\n",
       "fourth    27\n",
       "fifth     16\n",
       "dtype: int32"
      ]
     },
     "execution_count": 237,
     "metadata": {},
     "output_type": "execute_result"
    }
   ],
   "source": [
    "df.max(axis=1)"
   ]
  },
  {
   "cell_type": "code",
   "execution_count": 238,
   "id": "eadd2bc5-6e49-455b-b5ed-54cedf9f51cd",
   "metadata": {},
   "outputs": [
    {
     "data": {
      "text/html": [
       "<div>\n",
       "<style scoped>\n",
       "    .dataframe tbody tr th:only-of-type {\n",
       "        vertical-align: middle;\n",
       "    }\n",
       "\n",
       "    .dataframe tbody tr th {\n",
       "        vertical-align: top;\n",
       "    }\n",
       "\n",
       "    .dataframe thead th {\n",
       "        text-align: right;\n",
       "    }\n",
       "</style>\n",
       "<table border=\"1\" class=\"dataframe\">\n",
       "  <thead>\n",
       "    <tr style=\"text-align: right;\">\n",
       "      <th></th>\n",
       "      <th>A</th>\n",
       "      <th>B</th>\n",
       "      <th>C</th>\n",
       "    </tr>\n",
       "  </thead>\n",
       "  <tbody>\n",
       "    <tr>\n",
       "      <th>count</th>\n",
       "      <td>5.00000</td>\n",
       "      <td>5.000000</td>\n",
       "      <td>5.00000</td>\n",
       "    </tr>\n",
       "    <tr>\n",
       "      <th>mean</th>\n",
       "      <td>6.20000</td>\n",
       "      <td>8.200000</td>\n",
       "      <td>1.80000</td>\n",
       "    </tr>\n",
       "    <tr>\n",
       "      <th>std</th>\n",
       "      <td>6.09918</td>\n",
       "      <td>11.009087</td>\n",
       "      <td>1.30384</td>\n",
       "    </tr>\n",
       "    <tr>\n",
       "      <th>min</th>\n",
       "      <td>1.00000</td>\n",
       "      <td>1.000000</td>\n",
       "      <td>1.00000</td>\n",
       "    </tr>\n",
       "    <tr>\n",
       "      <th>25%</th>\n",
       "      <td>2.00000</td>\n",
       "      <td>1.000000</td>\n",
       "      <td>1.00000</td>\n",
       "    </tr>\n",
       "    <tr>\n",
       "      <th>50%</th>\n",
       "      <td>4.00000</td>\n",
       "      <td>3.000000</td>\n",
       "      <td>1.00000</td>\n",
       "    </tr>\n",
       "    <tr>\n",
       "      <th>75%</th>\n",
       "      <td>8.00000</td>\n",
       "      <td>9.000000</td>\n",
       "      <td>2.00000</td>\n",
       "    </tr>\n",
       "    <tr>\n",
       "      <th>max</th>\n",
       "      <td>16.00000</td>\n",
       "      <td>27.000000</td>\n",
       "      <td>4.00000</td>\n",
       "    </tr>\n",
       "  </tbody>\n",
       "</table>\n",
       "</div>"
      ],
      "text/plain": [
       "              A          B        C\n",
       "count   5.00000   5.000000  5.00000\n",
       "mean    6.20000   8.200000  1.80000\n",
       "std     6.09918  11.009087  1.30384\n",
       "min     1.00000   1.000000  1.00000\n",
       "25%     2.00000   1.000000  1.00000\n",
       "50%     4.00000   3.000000  1.00000\n",
       "75%     8.00000   9.000000  2.00000\n",
       "max    16.00000  27.000000  4.00000"
      ]
     },
     "execution_count": 238,
     "metadata": {},
     "output_type": "execute_result"
    }
   ],
   "source": [
    "df.describe()"
   ]
  },
  {
   "cell_type": "code",
   "execution_count": 240,
   "id": "28d0a677-7d6b-4461-a284-7749bd8d1fa8",
   "metadata": {},
   "outputs": [
    {
     "data": {
      "text/plain": [
       "11.009087155618309"
      ]
     },
     "execution_count": 240,
     "metadata": {},
     "output_type": "execute_result"
    }
   ],
   "source": [
    "# ambil satu angka dari hasil describe pandas\n",
    "df.describe().at['std', 'B']"
   ]
  },
  {
   "cell_type": "markdown",
   "id": "89cbe12f-9b99-4926-84b2-b45f22b5c178",
   "metadata": {},
   "source": [
    "## Visualization"
   ]
  },
  {
   "cell_type": "code",
   "execution_count": 244,
   "id": "a813c70b-bd07-447f-88d5-98c24db5dcce",
   "metadata": {},
   "outputs": [],
   "source": [
    "import matplotlib.pyplot as plt\n",
    "plt.style.use(\"ggplot\")"
   ]
  },
  {
   "cell_type": "markdown",
   "id": "1857222c-b3f9-4406-b1d9-52589d3fff9c",
   "metadata": {},
   "source": [
    "## Boxplot"
   ]
  },
  {
   "cell_type": "code",
   "execution_count": 242,
   "id": "986174d8-7d31-44eb-85ba-70933d05355d",
   "metadata": {},
   "outputs": [],
   "source": [
    "np.random.seed(seed=0)\n",
    "x = np.random.randn(1000)\n",
    "y = np.random.randn(100)\n",
    "z = np.random.randn(10)"
   ]
  },
  {
   "cell_type": "code",
   "execution_count": 257,
   "id": "928c68a6-3880-4de1-8b71-7cedc9791769",
   "metadata": {},
   "outputs": [
    {
     "data": {
      "image/png": "[encoded data removed]",
      "text/plain": [
       "<Figure size 432x288 with 1 Axes>"
      ]
     },
     "metadata": {},
     "output_type": "display_data"
    }
   ],
   "source": [
    "fig, ax = plt.subplots()\n",
    "ax.boxplot(\n",
    "    (x, y, z),\n",
    "    labels = (\"x\",\"y\",\"z\"),\n",
    "    medianprops={'linewidth': 2, 'color': 'purple'},\n",
    "    meanprops={'linewidth': 2, 'color': 'red'},\n",
    "    vert=False,\n",
    "    showmeans=True,\n",
    "    meanline=True\n",
    "    \n",
    ")\n",
    "\n",
    "plt.show;"
   ]
  },
  {
   "cell_type": "markdown",
   "id": "4b2daceb-2bb2-4c6a-a1ef-fe8add350bfd",
   "metadata": {},
   "source": [
    "## Histogram"
   ]
  },
  {
   "cell_type": "code",
   "execution_count": 260,
   "id": "7ba339dd-fa04-47c3-a676-c90e1655a4cd",
   "metadata": {},
   "outputs": [
    {
     "data": {
      "text/plain": [
       "array([  9,  20,  70, 146, 217, 239, 160,  86,  38,  15], dtype=int64)"
      ]
     },
     "execution_count": 260,
     "metadata": {},
     "output_type": "execute_result"
    }
   ],
   "source": [
    "hist, bin_edges = np.histogram(x, bins=10)\n",
    "hist"
   ]
  },
  {
   "cell_type": "code",
   "execution_count": 261,
   "id": "69d6cc2e-e2a6-411d-9a1f-530f653204b5",
   "metadata": {},
   "outputs": [
    {
     "data": {
      "text/plain": [
       "array([-3.04614305, -2.46559324, -1.88504342, -1.3044936 , -0.72394379,\n",
       "       -0.14339397,  0.43715585,  1.01770566,  1.59825548,  2.1788053 ,\n",
       "        2.75935511])"
      ]
     },
     "execution_count": 261,
     "metadata": {},
     "output_type": "execute_result"
    }
   ],
   "source": [
    "bin_edges"
   ]
  },
  {
   "cell_type": "code",
   "execution_count": 267,
   "id": "638fc704-c9c7-4051-bb1c-2e596f07e6a9",
   "metadata": {},
   "outputs": [
    {
     "data": {
      "image/png": "[encoded data removed]",
      "text/plain": [
       "<Figure size 432x288 with 1 Axes>"
      ]
     },
     "metadata": {},
     "output_type": "display_data"
    }
   ],
   "source": [
    "fig, ax = plt.subplots()\n",
    "ax.hist(\n",
    "    x,\n",
    "    bin_edges,\n",
    "    cumulative = False\n",
    ")\n",
    "\n",
    "ax.set_xlabel(\"x\")\n",
    "ax.set_ylabel(\"frequency\")\n",
    "plt.show()"
   ]
  },
  {
   "cell_type": "code",
   "execution_count": 271,
   "id": "17182d54-5e9e-4b67-b0ce-46d2b68e534e",
   "metadata": {},
   "outputs": [
    {
     "data": {
      "image/png": "[encoded data removed]",
      "text/plain": [
       "<Figure size 432x288 with 1 Axes>"
      ]
     },
     "metadata": {},
     "output_type": "display_data"
    }
   ],
   "source": [
    "#kumulatif\n",
    "\n",
    "fig, ax = plt.subplots()\n",
    "ax.hist(\n",
    "    x,\n",
    "    bin_edges,\n",
    "    cumulative = True\n",
    ")\n",
    "\n",
    "ax.set_xlabel(\"x\")\n",
    "ax.set_ylabel(\"frequency\")\n",
    "plt.show()"
   ]
  },
  {
   "cell_type": "markdown",
   "id": "017af976-d288-4442-bd97-69bdeab6f49e",
   "metadata": {},
   "source": [
    "## Pie Chart"
   ]
  },
  {
   "cell_type": "code",
   "execution_count": 272,
   "id": "982ebec5-12f2-4f8a-bfdb-a346ac63cbd8",
   "metadata": {},
   "outputs": [],
   "source": [
    "x, y, z = 124, 256, 1024"
   ]
  },
  {
   "cell_type": "code",
   "execution_count": 279,
   "id": "866df0a8-5a27-4220-9584-04f212d67459",
   "metadata": {},
   "outputs": [
    {
     "data": {
      "image/png": "[encoded data removed]",
      "text/plain": [
       "<Figure size 432x288 with 1 Axes>"
      ]
     },
     "metadata": {},
     "output_type": "display_data"
    }
   ],
   "source": [
    "fig, ax = plt.subplots()\n",
    "ax.pie(\n",
    "    (x, y, z),\n",
    "    labels=(\"x\",\"y\",\"z\"),\n",
    "    autopct = '%1.1f%%'\n",
    "\n",
    ")\n",
    "\n",
    "plt.show()"
   ]
  },
  {
   "cell_type": "markdown",
   "id": "d1787611-f4d6-4c59-bd9a-76618451112a",
   "metadata": {},
   "source": [
    "## Bar Chart"
   ]
  },
  {
   "cell_type": "code",
   "execution_count": null,
   "id": "6e4042fd-e190-4148-a682-dbeff3937c13",
   "metadata": {},
   "outputs": [],
   "source": []
  }
 ],
 "metadata": {
  "kernelspec": {
   "display_name": "Python 3",
   "language": "python",
   "name": "python3"
  },
  "language_info": {
   "codemirror_mode": {
    "name": "ipython",
    "version": 3
   },
   "file_extension": ".py",
   "mimetype": "text/x-python",
   "name": "python",
   "nbconvert_exporter": "python",
   "pygments_lexer": "ipython3",
   "version": "3.8.8"
  }
 },
 "nbformat": 4,
 "nbformat_minor": 5
}
