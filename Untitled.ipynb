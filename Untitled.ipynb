{
 "cells": [
  {
   "cell_type": "markdown",
   "id": "6fe15731-0fd0-4502-8db1-d4d636933f53",
   "metadata": {},
   "source": [
    "## Conditional Statement"
   ]
  },
  {
   "cell_type": "code",
   "execution_count": 10,
   "id": "52ae12ad-ad6c-452b-81ef-64ac88933d08",
   "metadata": {},
   "outputs": [
    {
     "name": "stdout",
     "output_type": "stream",
     "text": [
      "a umurnya masih lebih muda dari 250 tahun tapi tetep aja tua\n"
     ]
    }
   ],
   "source": [
    "a = 200\n",
    "if a < 250:\n",
    "    print(\"a umurnya masih lebih muda dari 250 tahun tapi tetep aja tua\")\n",
    "    \n",
    "if a > 250:\n",
    "    print(\"salah\") # false statement ga akan di print\n",
    "    \n",
    "# statement hanya dijalankan jika kondisinya BENAR\n"
   ]
  },
  {
   "cell_type": "code",
   "execution_count": null,
   "id": "c28013a1-451d-4667-b98b-f3bca5d5bd04",
   "metadata": {},
   "outputs": [],
   "source": []
  }
 ],
 "metadata": {
  "kernelspec": {
   "display_name": "Python 3",
   "language": "python",
   "name": "python3"
  },
  "language_info": {
   "codemirror_mode": {
    "name": "ipython",
    "version": 3
   },
   "file_extension": ".py",
   "mimetype": "text/x-python",
   "name": "python",
   "nbconvert_exporter": "python",
   "pygments_lexer": "ipython3",
   "version": "3.8.8"
  }
 },
 "nbformat": 4,
 "nbformat_minor": 5
}
