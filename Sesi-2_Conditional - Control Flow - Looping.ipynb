{
 "cells": [
  {
   "cell_type": "markdown",
   "id": "6fe15731-0fd0-4502-8db1-d4d636933f53",
   "metadata": {},
   "source": [
    "## Conditional, Control FLow, Looping\n",
    "## Conditional\n",
    "- if --> 'if < expression > :\n",
    "              < statement >   # statement hanya dijalankan jika kondisinya BENAR\n",
    "\n",
    "- if... else\n",
    "                  "
   ]
  },
  {
   "cell_type": "code",
   "execution_count": 11,
   "id": "52ae12ad-ad6c-452b-81ef-64ac88933d08",
   "metadata": {},
   "outputs": [
    {
     "name": "stdout",
     "output_type": "stream",
     "text": [
      "a umurnya masih lebih muda dari 250 tahun tapi tetep aja tua\n"
     ]
    }
   ],
   "source": [
    "a = 200\n",
    "if a < 250:\n",
    "    print(\"a umurnya masih lebih muda dari 250 tahun tapi tetep aja tua\")\n",
    "    \n",
    "if a > 250:\n",
    "    print(\"salah\") # false statement ga akan di print\n",
    "    \n",
    "# statement hanya dijalankan jika kondisinya BENAR\n"
   ]
  },
  {
   "cell_type": "code",
   "execution_count": 3,
   "id": "c28013a1-451d-4667-b98b-f3bca5d5bd04",
   "metadata": {},
   "outputs": [
    {
     "name": "stdout",
     "output_type": "stream",
     "text": [
      "dirumah aja ndak cerah\n"
     ]
    }
   ],
   "source": [
    "cuaca_cerah = False\n",
    "if cuaca_cerah:\n",
    "    print ('jemur baju') # blok benar\n",
    "    print (\"keluar rumah\") # blok benar\n",
    "    print (\"pergi ke alfamart\")  # blok benar\n",
    "    print ('beli susu') # blok benar\n",
    "    \n",
    "# what if jika cuaca tidak cerah ?\n",
    "\n",
    "print ('dirumah aja', \"ndak cerah\") # blok salah"
   ]
  },
  {
   "cell_type": "markdown",
   "id": "4542817a-4385-4a83-8900-9248929abc94",
   "metadata": {},
   "source": [
    "## truthy falsy\n",
    "\n",
    "semua yang bukan falsy itu dianggap true.\n",
    "\n",
    "falsy adalah:\n",
    "\n",
    "- angka 0 (float, int)\n",
    "- string kosong \"\" (text tapi tidak ada karakternya sama sekali, length 0)\n",
    "- boolean False\n",
    "- list kosong []\n",
    "- tuple kosong ()\n",
    "- dictionary kosong {}"
   ]
  },
  {
   "cell_type": "code",
   "execution_count": 2,
   "id": "2813015c-4083-462e-a26a-1633a787eaf7",
   "metadata": {},
   "outputs": [
    {
     "name": "stdout",
     "output_type": "stream",
     "text": [
      "umur cukup\n",
      "Silahkan lanjut cek untuk vaksin pertama\n",
      "Tidak Sakit , silahkan lanjut\n",
      "selesai pengecekan\n"
     ]
    }
   ],
   "source": [
    "# Adi berumur 17 dan akan vaksin pertama, kondisinya Adi sehat\n",
    "\n",
    "Adi = 19\n",
    "Vaksin_1 = False\n",
    "Sakit = True\n",
    "\n",
    "if Adi > 12:\n",
    "    print(\"umur cukup\")\n",
    "    if Vaksin_1:\n",
    "        print(\"Silahkan lanjut cek untuk Vaksin kedua\")\n",
    "    else:\n",
    "        print('Silahkan lanjut cek untuk vaksin pertama')\n",
    "    \n",
    "    if Sakit:\n",
    "        print('Tidak Sakit', ', silahkan lanjut')\n",
    "    else:\n",
    "        print('Sedang sakit')\n",
    "else:\n",
    "    print(\"Adi belum cukup umur\")\n",
    "\n",
    "print('selesai pengecekan')"
   ]
  },
  {
   "cell_type": "code",
   "execution_count": 8,
   "id": "a24ad464-26ff-4131-88cd-1573ae188189",
   "metadata": {},
   "outputs": [
    {
     "name": "stdout",
     "output_type": "stream",
     "text": [
      "Hack ada di Hacktiv8\n",
      "b ada bagian di a\n"
     ]
    }
   ],
   "source": [
    "a = \"aul\"\n",
    "b = \"grault\"\n",
    "\n",
    "if \"Hack\" in \"Hacktiv8\":\n",
    "    print (\"Hack ada di Hacktiv8\")\n",
    "else:\n",
    "    print (\"Hack tidak ada\")\n",
    "    \n",
    "if b in a:\n",
    "    print (\"a ada di b\")\n",
    "else:\n",
    "    print (\"b ada bagian di a\")\n"
   ]
  },
  {
   "cell_type": "markdown",
   "id": "3fb1ed7c-3157-4270-8e92-765d7b5bf903",
   "metadata": {},
   "source": [
    "## if elif else\n",
    "\n",
    "- if\n",
    "- elif\n",
    "- elif\n",
    "- elif\n",
    "- ...\n",
    "- else\n"
   ]
  },
  {
   "cell_type": "code",
   "execution_count": 8,
   "id": "42d55292-d7b4-4eb6-a212-7e6a9a582918",
   "metadata": {},
   "outputs": [
    {
     "name": "stdout",
     "output_type": "stream",
     "text": [
      "salah input\n"
     ]
    }
   ],
   "source": [
    "nilai = 1000\n",
    "if nilai > 100:\n",
    "    print ('salah input')\n",
    "elif nilai > 80:\n",
    "    print ('Dapat nilai A')\n",
    "elif nilai > 60:\n",
    "    print ('Dapat nilai B')\n",
    "elif nilai > 50:\n",
    "    print ('Dapat nilai C')\n",
    "else:\n",
    "    print ('Gak lulus')"
   ]
  },
  {
   "cell_type": "markdown",
   "id": "87fd5248-c6a2-4aca-a325-4115b38927f9",
   "metadata": {},
   "source": [
    "## one line if - Phyton's Ternary Operator\n",
    "- < statemen_1 kalau true > if < kondisional ekspresi > else < statemen_2 kalau false >"
   ]
  },
  {
   "cell_type": "code",
   "execution_count": 10,
   "id": "30726a57-dc03-4a2f-bccf-368383e035e7",
   "metadata": {},
   "outputs": [
    {
     "name": "stdout",
     "output_type": "stream",
     "text": [
      "x lebih besar dari y\n",
      "y lebih besar dari x\n"
     ]
    }
   ],
   "source": [
    "x = 10\n",
    "y = 8\n",
    "\n",
    "print ('x lebih besar dari y' if x > y else 'y lebih besar dari x')\n",
    "print ('x lebih besar dari y' if y > x else 'y lebih besar dari x')"
   ]
  },
  {
   "cell_type": "markdown",
   "id": "e00cf914-4b39-4350-b8d4-a2935948c3c2",
   "metadata": {},
   "source": [
    "## pass statement"
   ]
  },
  {
   "cell_type": "code",
   "execution_count": 14,
   "id": "d187e38c-ac9a-4fc2-870a-22f396878fb5",
   "metadata": {},
   "outputs": [
    {
     "ename": "IndentationError",
     "evalue": "expected an indented block (<ipython-input-14-5ed2ac3dba61>, line 3)",
     "output_type": "error",
     "traceback": [
      "\u001b[1;36m  File \u001b[1;32m\"<ipython-input-14-5ed2ac3dba61>\"\u001b[1;36m, line \u001b[1;32m3\u001b[0m\n\u001b[1;33m    print ('foo')\u001b[0m\n\u001b[1;37m    ^\u001b[0m\n\u001b[1;31mIndentationError\u001b[0m\u001b[1;31m:\u001b[0m expected an indented block\n"
     ]
    }
   ],
   "source": [
    "if True:\n",
    "    \n",
    "print ('foo')"
   ]
  },
  {
   "cell_type": "code",
   "execution_count": 15,
   "id": "9a3a43cf-5978-4fe2-9a6b-dbff78b50443",
   "metadata": {},
   "outputs": [
    {
     "name": "stdout",
     "output_type": "stream",
     "text": [
      "foo\n"
     ]
    }
   ],
   "source": [
    "if True:\n",
    "    pass #solusinya\n",
    "print ('foo')"
   ]
  },
  {
   "cell_type": "markdown",
   "id": "33c8afac-387d-458e-a0d1-5b0146fd3213",
   "metadata": {},
   "source": [
    "## While Loop"
   ]
  },
  {
   "cell_type": "code",
   "execution_count": 19,
   "id": "7db3c086-92a6-4b9f-b800-5155c230000c",
   "metadata": {},
   "outputs": [
    {
     "name": "stdout",
     "output_type": "stream",
     "text": [
      "4\n",
      "3\n",
      "2\n",
      "1\n",
      "0\n"
     ]
    }
   ],
   "source": [
    "n = 5\n",
    "while n > 0:\n",
    "    n -= 1\n",
    "    print (n)"
   ]
  },
  {
   "cell_type": "code",
   "execution_count": 20,
   "id": "95b796c8-e4b7-4ecb-a965-ed62af17b9d8",
   "metadata": {},
   "outputs": [
    {
     "name": "stdout",
     "output_type": "stream",
     "text": [
      "2\n",
      "3\n",
      "4\n",
      "5\n",
      "6\n"
     ]
    }
   ],
   "source": [
    "n = 1\n",
    "while n < 6:\n",
    "    n += 1\n",
    "    print (n)"
   ]
  },
  {
   "cell_type": "code",
   "execution_count": 23,
   "id": "42977433-7ba1-4329-ae3c-fb336c4f2612",
   "metadata": {},
   "outputs": [
    {
     "name": "stdout",
     "output_type": "stream",
     "text": [
      "jemur baju\n",
      "jemur baju\n",
      "jemur baju\n",
      "jemur baju\n",
      "jemur baju\n"
     ]
    }
   ],
   "source": [
    "cuaca_cerah = True\n",
    "n = 5\n",
    "while (cuaca_cerah and n > 0):\n",
    "    n -= 1\n",
    "    print ('jemur baju')\n"
   ]
  },
  {
   "cell_type": "code",
   "execution_count": 12,
   "id": "73905b19-2bf7-4274-8bd9-22cd55b97e4d",
   "metadata": {},
   "outputs": [
    {
     "name": "stdout",
     "output_type": "stream",
     "text": [
      "Ikut Kelas ke 1\n",
      "Ikut Kelas ke 2\n",
      "Ikut Kelas ke 3\n",
      "Ikut Kelas ke 4\n",
      "Ikut Kelas ke 5\n",
      "Ikut Kelas ke 6\n",
      "Ikut Kelas ke 7\n",
      "Ikut Kelas ke 8\n",
      "Ikut Kelas ke 9\n",
      "Ikut Kelas ke 10\n",
      "Ikut Kelas ke 11\n",
      "Ikut Kelas ke 12\n",
      "Ikut Kelas ke 13\n",
      "Ikut Kelas ke 14\n",
      "Ikut Kelas ke 15\n",
      "Ikut Kelas ke 16\n",
      "Tidak ikut kelas lagi\n"
     ]
    }
   ],
   "source": [
    "Counter0 = 0\n",
    "while Counter0 < 16:\n",
    "    Counter0 += 1\n",
    "    print(\"Ikut Kelas ke\", Counter0)\n",
    "else:\n",
    "    print(\"Tidak ikut kelas lagi\")\n",
    "\n"
   ]
  },
  {
   "cell_type": "markdown",
   "id": "2ba259e2-9b2d-4171-aa61-6f5e95dba1f3",
   "metadata": {},
   "source": [
    "## Break and Continue"
   ]
  },
  {
   "cell_type": "code",
   "execution_count": 16,
   "id": "ad9c1fa8-60ca-41b4-8b6b-dffca6cff3c2",
   "metadata": {},
   "outputs": [
    {
     "name": "stdout",
     "output_type": "stream",
     "text": [
      "Ikut Kelas ke 1\n",
      "Ikut Kelas ke 2\n",
      "Ikut Kelas ke 3\n",
      "Ikut Kelas ke 4\n",
      "Ikut Kelas ke 5\n",
      "Ikut Kelas ke 6\n",
      "Ikut Kelas ke 7\n",
      "Tidak ikut kelas lagi\n"
     ]
    }
   ],
   "source": [
    "Counter0 = 0\n",
    "Cuti = 8\n",
    "while Counter0 < 16:\n",
    "    Counter0 += 1\n",
    "    if Counter0 == Cuti:\n",
    "        break\n",
    "    print(\"Ikut Kelas ke\", Counter0)\n",
    "else:\n",
    "    print(\"Tidak ikut kelas lagi\")\n",
    "print(\"Tidak ikut kelas lagi\")"
   ]
  },
  {
   "cell_type": "code",
   "execution_count": 17,
   "id": "3d38f0f1-c940-47d8-a9da-3ab411def7a5",
   "metadata": {},
   "outputs": [
    {
     "name": "stdout",
     "output_type": "stream",
     "text": [
      "Ikut Kelas ke 1\n",
      "Ikut Kelas ke 2\n",
      "Ikut Kelas ke 3\n",
      "Ikut Kelas ke 4\n",
      "Ikut Kelas ke 5\n",
      "Ikut Kelas ke 6\n",
      "Ikut Kelas ke 7\n",
      "Ikut Kelas ke 9\n",
      "Ikut Kelas ke 10\n",
      "Ikut Kelas ke 11\n",
      "Ikut Kelas ke 12\n",
      "Ikut Kelas ke 13\n",
      "Ikut Kelas ke 14\n",
      "Ikut Kelas ke 15\n",
      "Ikut Kelas ke 16\n",
      "Tidak ikut kelas lagi\n",
      "Tidak ikut kelas lagi\n"
     ]
    }
   ],
   "source": [
    "Counter0 = 0\n",
    "Cuti = 8\n",
    "while Counter0 < 16:\n",
    "    Counter0 += 1\n",
    "    if Counter0 == Cuti:\n",
    "        continue\n",
    "    print(\"Ikut Kelas ke\", Counter0)\n",
    "else:\n",
    "    print(\"Tidak ikut kelas lagi\")\n",
    "print(\"Tidak ikut kelas lagi\")"
   ]
  },
  {
   "cell_type": "markdown",
   "id": "e84677af-0c37-4d33-aa83-4672244717a9",
   "metadata": {},
   "source": [
    "## Nested While Loop"
   ]
  },
  {
   "cell_type": "code",
   "execution_count": 18,
   "id": "51810179-c52a-48be-ad38-7829bdf5d25f",
   "metadata": {},
   "outputs": [
    {
     "name": "stdout",
     "output_type": "stream",
     "text": [
      "0 counter0 < a 5\n",
      "1 c < b 3\n",
      "2 c < b 3\n",
      "1 counter0 < a 5\n",
      "1 c < b 3\n",
      "2 c < b 3\n",
      "2 counter0 < a 5\n",
      "1 c < b 3\n",
      "2 c < b 3\n",
      "3 counter0 < a 5\n",
      "1 c < b 3\n",
      "2 c < b 3\n",
      "4 counter0 < a 5\n",
      "1 c < b 3\n",
      "2 c < b 3\n"
     ]
    }
   ],
   "source": [
    "a = 5\n",
    "b = 3\n",
    "\n",
    "counter0 = 0\n",
    "while counter0 < a:\n",
    "    print(counter0, 'counter0 < a', a)\n",
    "    \n",
    "    c = 1\n",
    "    while c < b:\n",
    "        #break; #break ini hanya mengefek while ini saja, while yang luar gk kena\n",
    "        print(c, 'c < b', b)\n",
    "        c += 1\n",
    "    \n",
    "    counter0 += 1"
   ]
  },
  {
   "cell_type": "markdown",
   "id": "97d6132e-75a9-438f-9601-8885217d2256",
   "metadata": {},
   "source": [
    "## One-Line While Loop"
   ]
  },
  {
   "cell_type": "code",
   "execution_count": 21,
   "id": "a8b08a30-916c-40c6-9fd1-951fa8b55587",
   "metadata": {},
   "outputs": [
    {
     "name": "stdout",
     "output_type": "stream",
     "text": [
      "2\n",
      "3\n",
      "4\n",
      "5\n",
      "6\n",
      "7\n",
      "8\n",
      "9\n",
      "10\n",
      "11\n"
     ]
    }
   ],
   "source": [
    "n = 1\n",
    "while n <= 10: n += 1; print (n)"
   ]
  },
  {
   "cell_type": "markdown",
   "id": "951f10dc-a5ca-450c-ae60-ea55e289cdca",
   "metadata": {},
   "source": [
    "## Phyton for Loop\n",
    "- for < var > in < iterasi >:\n",
    "       < statement(s) >\n",
    "\n",
    "\n",
    "- < iterasi > ==> kumpulan obyek\n",
    "- \n",
    "\n",
    "\n",
    "for item in collection"
   ]
  },
  {
   "cell_type": "code",
   "execution_count": 22,
   "id": "c2660940-0859-4c5f-a6e2-b4085b522cf1",
   "metadata": {},
   "outputs": [
    {
     "name": "stdout",
     "output_type": "stream",
     "text": [
      "nama apel\n",
      "berat (gram) 200\n",
      "warna merah\n"
     ]
    }
   ],
   "source": [
    "#Loop melewati dictionary\n",
    "\n",
    "buah = {\n",
    "    \"nama\":\"apel\",\n",
    "    \"berat (gram)\":200,\n",
    "    \"warna\":\"merah\"\n",
    "}\n",
    "for deskripsi_buah in buah:\n",
    "    print (deskripsi_buah, buah[deskripsi_buah])"
   ]
  },
  {
   "cell_type": "code",
   "execution_count": 28,
   "id": "27eaa095-ec45-48a1-a462-c8ad144fd22a",
   "metadata": {},
   "outputs": [
    {
     "data": {
      "text/plain": [
       "dict_items([('nama', 'apel'), ('berat (gram)', 200), ('warna', 'merah')])"
      ]
     },
     "execution_count": 28,
     "metadata": {},
     "output_type": "execute_result"
    }
   ],
   "source": [
    "buah.items()"
   ]
  },
  {
   "cell_type": "code",
   "execution_count": 29,
   "id": "5811163e-15b3-4a02-a294-48e4394651da",
   "metadata": {},
   "outputs": [
    {
     "data": {
      "text/plain": [
       "dict_values(['apel', 200, 'merah'])"
      ]
     },
     "execution_count": 29,
     "metadata": {},
     "output_type": "execute_result"
    }
   ],
   "source": [
    "buah.values()"
   ]
  },
  {
   "cell_type": "code",
   "execution_count": 30,
   "id": "6623f230-bae5-4920-b709-6797bdcaff89",
   "metadata": {},
   "outputs": [
    {
     "data": {
      "text/plain": [
       "dict_keys(['nama', 'berat (gram)', 'warna'])"
      ]
     },
     "execution_count": 30,
     "metadata": {},
     "output_type": "execute_result"
    }
   ],
   "source": [
    "buah.keys()"
   ]
  },
  {
   "cell_type": "code",
   "execution_count": 34,
   "id": "6ebacbb9-eb23-4e4b-861c-28ad8eb8c673",
   "metadata": {},
   "outputs": [
    {
     "name": "stdout",
     "output_type": "stream",
     "text": [
      "nama apel\n",
      "berat (gram) 200\n",
      "warna merah\n"
     ]
    }
   ],
   "source": [
    "for key, value in buah.items():\n",
    "    print(key, value)"
   ]
  },
  {
   "cell_type": "code",
   "execution_count": 35,
   "id": "c77b4af8-fc1b-4567-9784-42d900203c8f",
   "metadata": {},
   "outputs": [
    {
     "name": "stdout",
     "output_type": "stream",
     "text": [
      "nama\n",
      "berat (gram)\n",
      "warna\n"
     ]
    }
   ],
   "source": [
    "for key in buah.keys():\n",
    "    print(key)"
   ]
  },
  {
   "cell_type": "code",
   "execution_count": 36,
   "id": "c400c75a-767f-4442-9271-d5ffcd74b13b",
   "metadata": {},
   "outputs": [
    {
     "name": "stdout",
     "output_type": "stream",
     "text": [
      "apel\n",
      "200\n",
      "merah\n"
     ]
    }
   ],
   "source": [
    "for value in buah.values():\n",
    "    print (value)"
   ]
  },
  {
   "cell_type": "markdown",
   "id": "16fec5b7-13b2-4d25-942b-e17f66b02fb1",
   "metadata": {},
   "source": [
    "## Fungsi range()\n",
    "- range(< start >, < end >, < tingkat kenaikan >)\n",
    "- if start tidak disebutkan, maka akan mulai dari 0"
   ]
  },
  {
   "cell_type": "code",
   "execution_count": 37,
   "id": "1ecf61bc-5a57-4671-81dc-fc0194b8c2a8",
   "metadata": {},
   "outputs": [
    {
     "name": "stdout",
     "output_type": "stream",
     "text": [
      "0\n",
      "1\n",
      "2\n",
      "3\n",
      "4\n",
      "5\n",
      "6\n",
      "7\n"
     ]
    }
   ],
   "source": [
    "for i in range(8):\n",
    "    print(i)"
   ]
  },
  {
   "cell_type": "code",
   "execution_count": 38,
   "id": "92bda4c7-1253-4ae4-8ca7-c92b63ffbe0e",
   "metadata": {},
   "outputs": [
    {
     "name": "stdout",
     "output_type": "stream",
     "text": [
      "25\n",
      "30\n",
      "35\n",
      "40\n",
      "45\n"
     ]
    }
   ],
   "source": [
    "for i in range(25,50,5):\n",
    "    print(i)"
   ]
  },
  {
   "cell_type": "markdown",
   "id": "b69fefbd-f3c1-408e-9d0c-b43b8a2664bd",
   "metadata": {},
   "source": [
    "## DEMO"
   ]
  },
  {
   "cell_type": "code",
   "execution_count": 39,
   "id": "4470d726-48fd-4630-a3a9-707a6dd15380",
   "metadata": {},
   "outputs": [
    {
     "name": "stdin",
     "output_type": "stream",
     "text": [
      "Ketik karakter : halo\n"
     ]
    },
    {
     "name": "stdout",
     "output_type": "stream",
     "text": [
      "halo\n"
     ]
    },
    {
     "name": "stdin",
     "output_type": "stream",
     "text": [
      "Ketik karakter : continue\n"
     ]
    },
    {
     "name": "stdout",
     "output_type": "stream",
     "text": [
      "continue\n"
     ]
    },
    {
     "name": "stdin",
     "output_type": "stream",
     "text": [
      "Ketik karakter : apa\n"
     ]
    },
    {
     "name": "stdout",
     "output_type": "stream",
     "text": [
      "apa\n"
     ]
    },
    {
     "name": "stdin",
     "output_type": "stream",
     "text": [
      "Ketik karakter : stop\n"
     ]
    },
    {
     "name": "stdout",
     "output_type": "stream",
     "text": [
      "stop\n"
     ]
    }
   ],
   "source": [
    "while True:\n",
    "    message = input(\"Ketik karakter :\").lower()\n",
    "    print(message)\n",
    "    if message == \"stop\":\n",
    "        break;"
   ]
  },
  {
   "cell_type": "code",
   "execution_count": null,
   "id": "f7984946-4990-48c2-afde-3d4f8cd61618",
   "metadata": {},
   "outputs": [],
   "source": []
  }
 ],
 "metadata": {
  "kernelspec": {
   "display_name": "Python 3",
   "language": "python",
   "name": "python3"
  },
  "language_info": {
   "codemirror_mode": {
    "name": "ipython",
    "version": 3
   },
   "file_extension": ".py",
   "mimetype": "text/x-python",
   "name": "python",
   "nbconvert_exporter": "python",
   "pygments_lexer": "ipython3",
   "version": "3.8.8"
  }
 },
 "nbformat": 4,
 "nbformat_minor": 5
}
