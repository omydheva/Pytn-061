{
 "cells": [
  {
   "cell_type": "markdown",
   "id": "c4a3db1a-7d37-40d6-890c-2a46efae3742",
   "metadata": {},
   "source": [
    "## NUMPY Package\n",
    "\n",
    "Numpy --> Pandas, scipy, Matplotlib, scikit-learn, scikit-image"
   ]
  },
  {
   "cell_type": "code",
   "execution_count": 6,
   "id": "527b85e3-6ab0-49d8-861a-2dc0bd7c1603",
   "metadata": {},
   "outputs": [
    {
     "name": "stdout",
     "output_type": "stream",
     "text": [
      "Requirement already satisfied: numpy in c:\\users\\febriana\\anaconda3\\lib\\site-packages (1.20.1)\n",
      "Note: you may need to restart the kernel to use updated packages.\n"
     ]
    }
   ],
   "source": [
    "pip install numpy"
   ]
  },
  {
   "cell_type": "code",
   "execution_count": 7,
   "id": "c36dc61f-813e-4a82-824f-b49683fc2eec",
   "metadata": {},
   "outputs": [],
   "source": [
    "import numpy as np"
   ]
  },
  {
   "cell_type": "markdown",
   "id": "06bc7322-06ab-48e5-870c-19d355543bab",
   "metadata": {},
   "source": [
    "# 1D, 2D, ndarray, vector, matrix\n",
    "\n",
    "- ndarray --> N Dimensional Array that represent vector and matrix\n",
    "- vector --> array with 1 column\n",
    "- matrix --> array witn many columns"
   ]
  },
  {
   "cell_type": "code",
   "execution_count": 7,
   "id": "c7b74bf5-3e11-4b73-8915-ca0a510a5307",
   "metadata": {},
   "outputs": [
    {
     "name": "stdout",
     "output_type": "stream",
     "text": [
      "[[ 1  2  3  4]\n",
      " [ 5  6  7  8]\n",
      " [ 9 10 11 12]]\n",
      "[1 2 3 4]\n"
     ]
    }
   ],
   "source": [
    "c = np.array([[1,2,3,4],[5,6,7,8],[9,10,11,12]])\n",
    "print(c) #<-- array 2 dimensi\n",
    "print(c[0]) #<--array index ke-0"
   ]
  },
  {
   "cell_type": "code",
   "execution_count": 9,
   "id": "f96dafb7-895e-47a7-ae96-68724e7be3ae",
   "metadata": {},
   "outputs": [
    {
     "name": "stdout",
     "output_type": "stream",
     "text": [
      "[[1, 2, 3, 4], [5, 6, 7, 8], [9, 10, 11, 12]]\n"
     ]
    }
   ],
   "source": [
    "d = [[1,2,3,4],[5,6,7,8],[9,10,11,12]] #<-- list\n",
    "print(d)"
   ]
  },
  {
   "cell_type": "markdown",
   "id": "2e5761b3-18f7-49ce-9f55-63749282eeca",
   "metadata": {},
   "source": [
    "## Array\n",
    "\n",
    "- np.array()\n",
    "- np.zeros() --> array dengan angka 0\n",
    "- np.ones() --> array dengan angka 1\n",
    "- np.empty()\n",
    "- np.arange() --> array dengan angka 'start', 'stop', 'step'\n",
    "- np.append() --> menambah data array\n",
    "- np.sort() --> mengurutkan data array\n",
    "- np.delete() --> menghapus sebagian atau data seluruh array\n",
    "- ndarray.ndim() --> mengetahui jumlah dimensi dari array\n",
    "- ndarray.shape() --> mengetahui struktur dimensi array\n",
    "- ndarray.size() --> mengetahui jumlah total element\n",
    "- reshape --> mengubah bentuk dimensi namun dengan jumlah element yang sama"
   ]
  },
  {
   "cell_type": "markdown",
   "id": "c5e817fa-e0f3-4af5-9f16-dc7c200c5465",
   "metadata": {},
   "source": [
    "np.zeros(5)"
   ]
  },
  {
   "cell_type": "code",
   "execution_count": 11,
   "id": "4c358e35-bb37-41d7-8c5b-e3543bc14db6",
   "metadata": {},
   "outputs": [
    {
     "data": {
      "text/plain": [
       "array([1., 1., 1., 1., 1.])"
      ]
     },
     "execution_count": 11,
     "metadata": {},
     "output_type": "execute_result"
    }
   ],
   "source": [
    "np.ones(5)"
   ]
  },
  {
   "cell_type": "code",
   "execution_count": 15,
   "id": "3a266fe6-fa98-4f48-ae1f-2c78b9d44b7b",
   "metadata": {},
   "outputs": [
    {
     "data": {
      "text/plain": [
       "array([0, 1, 2, 3, 4, 5, 6, 7])"
      ]
     },
     "execution_count": 15,
     "metadata": {},
     "output_type": "execute_result"
    }
   ],
   "source": [
    "np.arange(8)"
   ]
  },
  {
   "cell_type": "code",
   "execution_count": 16,
   "id": "32c22354-4e51-4b04-a719-088193b170bb",
   "metadata": {},
   "outputs": [
    {
     "data": {
      "text/plain": [
       "array([1, 4, 7])"
      ]
     },
     "execution_count": 16,
     "metadata": {},
     "output_type": "execute_result"
    }
   ],
   "source": [
    "np.arange(1,10,3)"
   ]
  },
  {
   "cell_type": "code",
   "execution_count": 24,
   "id": "e37cb898-a5d8-489b-b54a-2233678993e2",
   "metadata": {},
   "outputs": [
    {
     "data": {
      "text/plain": [
       "array([0., 0., 1., 1., 1.])"
      ]
     },
     "execution_count": 24,
     "metadata": {},
     "output_type": "execute_result"
    }
   ],
   "source": [
    "a = np.zeros(2)\n",
    "b = np.ones(3)\n",
    "\n",
    "np.append(a,b)"
   ]
  },
  {
   "cell_type": "code",
   "execution_count": 26,
   "id": "944e2531-4003-4dd3-9580-f351e6874806",
   "metadata": {},
   "outputs": [
    {
     "data": {
      "text/plain": [
       "array([0., 1., 1., 1.])"
      ]
     },
     "execution_count": 26,
     "metadata": {},
     "output_type": "execute_result"
    }
   ],
   "source": [
    "np.delete(np.append(a, b), 1) #<-- index ke-1 dihapus"
   ]
  },
  {
   "cell_type": "code",
   "execution_count": 27,
   "id": "23a9b4d3-5e7d-4c8f-9e14-e1b221ee9bae",
   "metadata": {},
   "outputs": [
    {
     "data": {
      "text/plain": [
       "array([ 1,  2,  3,  4,  5,  7,  8,  9, 10])"
      ]
     },
     "execution_count": 27,
     "metadata": {},
     "output_type": "execute_result"
    }
   ],
   "source": [
    "c = np.array([1,2,3,4,5,7,9,8,10])\n",
    "np.sort(c)"
   ]
  },
  {
   "cell_type": "code",
   "execution_count": 29,
   "id": "db6d1ab3-811f-4913-9748-635485fea9a2",
   "metadata": {},
   "outputs": [],
   "source": [
    "array3d = np.array([\n",
    "    [[1,2,1,2],[3,4,3,4]],\n",
    "    [[5,6,7,8],[9,10,9,11]],\n",
    "    [[9,0,3,5],[2,6,5,9]]\n",
    "])\n",
    "\n",
    "#level 1 ada 3 <-- ada 3 baris\n",
    "#level 2 ada 2 <-- ada 2 list dalam setiap baris\n",
    "#level 3 ada 4 <-- isi dari list"
   ]
  },
  {
   "cell_type": "code",
   "execution_count": 31,
   "id": "616b7c89-bfb5-4cfc-a8c0-5ec1f0c04dc9",
   "metadata": {},
   "outputs": [
    {
     "data": {
      "text/plain": [
       "3"
      ]
     },
     "execution_count": 31,
     "metadata": {},
     "output_type": "execute_result"
    }
   ],
   "source": [
    "array3d.ndim"
   ]
  },
  {
   "cell_type": "code",
   "execution_count": 32,
   "id": "3c359182-58e9-4990-8ee0-bd87ba70f8e9",
   "metadata": {},
   "outputs": [
    {
     "data": {
      "text/plain": [
       "(3, 2, 4)"
      ]
     },
     "execution_count": 32,
     "metadata": {},
     "output_type": "execute_result"
    }
   ],
   "source": [
    "array3d.shape"
   ]
  },
  {
   "cell_type": "code",
   "execution_count": 33,
   "id": "5599de96-4fc1-4974-ab08-5f6aef286b07",
   "metadata": {},
   "outputs": [
    {
     "data": {
      "text/plain": [
       "24"
      ]
     },
     "execution_count": 33,
     "metadata": {},
     "output_type": "execute_result"
    }
   ],
   "source": [
    "array3d.size"
   ]
  },
  {
   "cell_type": "markdown",
   "id": "9df8e876-1070-4d25-880a-0bd453598880",
   "metadata": {},
   "source": [
    "# reshape"
   ]
  },
  {
   "cell_type": "code",
   "execution_count": 38,
   "id": "fa011d98-ea4b-491b-ad1d-36a486a084e9",
   "metadata": {},
   "outputs": [
    {
     "data": {
      "text/plain": [
       "array([1, 2, 3, 4, 5, 6])"
      ]
     },
     "execution_count": 38,
     "metadata": {},
     "output_type": "execute_result"
    }
   ],
   "source": [
    "a = np.array([1,2,3,4,5,6])\n",
    "a"
   ]
  },
  {
   "cell_type": "code",
   "execution_count": 39,
   "id": "931f9310-1859-4282-8146-50c7cdaa2c37",
   "metadata": {},
   "outputs": [
    {
     "data": {
      "text/plain": [
       "array([[1],\n",
       "       [2],\n",
       "       [3],\n",
       "       [4],\n",
       "       [5],\n",
       "       [6]])"
      ]
     },
     "execution_count": 39,
     "metadata": {},
     "output_type": "execute_result"
    }
   ],
   "source": [
    "a.reshape(6, 1)"
   ]
  },
  {
   "cell_type": "code",
   "execution_count": 40,
   "id": "6ef71201-4c1e-4699-85a0-76451bae1cab",
   "metadata": {},
   "outputs": [
    {
     "data": {
      "text/plain": [
       "array([[1, 2, 3],\n",
       "       [4, 5, 6]])"
      ]
     },
     "execution_count": 40,
     "metadata": {},
     "output_type": "execute_result"
    }
   ],
   "source": [
    "a.reshape(2,3)"
   ]
  },
  {
   "cell_type": "code",
   "execution_count": 42,
   "id": "a49177fb-8882-404d-a16d-105faecdf9e1",
   "metadata": {},
   "outputs": [
    {
     "data": {
      "text/plain": [
       "array([[1, 2],\n",
       "       [3, 4],\n",
       "       [5, 6]])"
      ]
     },
     "execution_count": 42,
     "metadata": {},
     "output_type": "execute_result"
    }
   ],
   "source": [
    "a.reshape(3,2)"
   ]
  },
  {
   "cell_type": "code",
   "execution_count": 44,
   "id": "16c638f0-fb44-46e0-bc0c-b5e6157a1ca7",
   "metadata": {},
   "outputs": [
    {
     "ename": "ValueError",
     "evalue": "cannot reshape array of size 6 into shape (4,2)",
     "output_type": "error",
     "traceback": [
      "\u001b[1;31m---------------------------------------------------------------------------\u001b[0m",
      "\u001b[1;31mValueError\u001b[0m                                Traceback (most recent call last)",
      "\u001b[1;32m<ipython-input-44-b6c6833638fc>\u001b[0m in \u001b[0;36m<module>\u001b[1;34m\u001b[0m\n\u001b[1;32m----> 1\u001b[1;33m \u001b[0ma\u001b[0m\u001b[1;33m.\u001b[0m\u001b[0mreshape\u001b[0m\u001b[1;33m(\u001b[0m\u001b[1;36m4\u001b[0m\u001b[1;33m,\u001b[0m\u001b[1;36m2\u001b[0m\u001b[1;33m)\u001b[0m \u001b[1;31m# <-- jika di total estimasi element adalah 8 dan bukan original 6\u001b[0m\u001b[1;33m\u001b[0m\u001b[1;33m\u001b[0m\u001b[0m\n\u001b[0m",
      "\u001b[1;31mValueError\u001b[0m: cannot reshape array of size 6 into shape (4,2)"
     ]
    }
   ],
   "source": [
    "a.reshape(4,2) # <-- jika di total estimasi element adalah 8 dan bukan original 6"
   ]
  },
  {
   "cell_type": "markdown",
   "id": "512cc045-1ddf-4ad6-9262-2fed4cd3fa75",
   "metadata": {},
   "source": [
    "# menambah dimensi array \n",
    "\n",
    "- menggunakan np.newaxis\n",
    "- menggunakan np.expand.dims\n",
    "\n",
    "bedanya adalah axis mana yang akan ditambahkan dimensi baru\n",
    "np.newaxis --> menambahkan disisi axis 0 (row)\n",
    "np.expand_dims --> menambahkan disisi axis 1 (column)"
   ]
  },
  {
   "cell_type": "code",
   "execution_count": 49,
   "id": "76d78853-f311-4ac7-97ba-2896a47223f6",
   "metadata": {},
   "outputs": [
    {
     "data": {
      "text/plain": [
       "array([0, 1, 2, 3, 4, 5])"
      ]
     },
     "execution_count": 49,
     "metadata": {},
     "output_type": "execute_result"
    }
   ],
   "source": [
    "a = np.arange(6)\n",
    "a"
   ]
  },
  {
   "cell_type": "code",
   "execution_count": 51,
   "id": "935b78f8-6dd3-442f-9102-62f7396597ab",
   "metadata": {},
   "outputs": [
    {
     "data": {
      "text/plain": [
       "1"
      ]
     },
     "execution_count": 51,
     "metadata": {},
     "output_type": "execute_result"
    }
   ],
   "source": [
    "a.ndim # <--- jumlah dimensi"
   ]
  },
  {
   "cell_type": "code",
   "execution_count": 57,
   "id": "2480a4ce-889c-4a62-9561-9be3e27d1a33",
   "metadata": {},
   "outputs": [
    {
     "data": {
      "text/plain": [
       "array([[0, 1, 2, 3, 4, 5]])"
      ]
     },
     "execution_count": 57,
     "metadata": {},
     "output_type": "execute_result"
    }
   ],
   "source": [
    "b = a[np.newaxis, :]\n",
    "b"
   ]
  },
  {
   "cell_type": "code",
   "execution_count": 65,
   "id": "46f07be9-c551-4cc3-8a66-6b91dd6edf90",
   "metadata": {},
   "outputs": [
    {
     "data": {
      "text/plain": [
       "2"
      ]
     },
     "execution_count": 65,
     "metadata": {},
     "output_type": "execute_result"
    }
   ],
   "source": [
    "b.ndim"
   ]
  },
  {
   "cell_type": "code",
   "execution_count": 66,
   "id": "8e334d1e-6399-41cc-9544-38eb383d6380",
   "metadata": {},
   "outputs": [
    {
     "data": {
      "text/plain": [
       "(1, 6)"
      ]
     },
     "execution_count": 66,
     "metadata": {},
     "output_type": "execute_result"
    }
   ],
   "source": [
    "b.shape"
   ]
  },
  {
   "cell_type": "code",
   "execution_count": 68,
   "id": "a230d8ff-dd03-4b35-a3b1-653c036602ea",
   "metadata": {},
   "outputs": [
    {
     "data": {
      "text/plain": [
       "array([[0],\n",
       "       [1],\n",
       "       [2],\n",
       "       [3],\n",
       "       [4],\n",
       "       [5]])"
      ]
     },
     "execution_count": 68,
     "metadata": {},
     "output_type": "execute_result"
    }
   ],
   "source": [
    "b = a[:, np.newaxis]\n",
    "b"
   ]
  },
  {
   "cell_type": "code",
   "execution_count": 69,
   "id": "2431a5cf-1f67-4d52-a933-fc0abdcf2ab1",
   "metadata": {},
   "outputs": [
    {
     "data": {
      "text/plain": [
       "(6, 1)"
      ]
     },
     "execution_count": 69,
     "metadata": {},
     "output_type": "execute_result"
    }
   ],
   "source": [
    "b.shape"
   ]
  },
  {
   "cell_type": "code",
   "execution_count": 62,
   "id": "3c01865b-8d44-442e-8518-9c883cb8ed07",
   "metadata": {},
   "outputs": [
    {
     "data": {
      "text/plain": [
       "array([[0, 1, 2, 3, 4, 5]])"
      ]
     },
     "execution_count": 62,
     "metadata": {},
     "output_type": "execute_result"
    }
   ],
   "source": [
    "b = np.expand_dims(a, axis=0)\n",
    "b"
   ]
  },
  {
   "cell_type": "code",
   "execution_count": 71,
   "id": "bb570e8c-c1fe-4ead-be7d-92770b2cf5fc",
   "metadata": {},
   "outputs": [
    {
     "data": {
      "text/plain": [
       "(6, 1)"
      ]
     },
     "execution_count": 71,
     "metadata": {},
     "output_type": "execute_result"
    }
   ],
   "source": [
    "b.shape"
   ]
  },
  {
   "cell_type": "code",
   "execution_count": 70,
   "id": "e83f68a3-05a2-41ee-9d1e-82b1007441c5",
   "metadata": {},
   "outputs": [
    {
     "data": {
      "text/plain": [
       "array([[0],\n",
       "       [1],\n",
       "       [2],\n",
       "       [3],\n",
       "       [4],\n",
       "       [5]])"
      ]
     },
     "execution_count": 70,
     "metadata": {},
     "output_type": "execute_result"
    }
   ],
   "source": [
    "b = np.expand_dims(a, axis=1)\n",
    "b"
   ]
  },
  {
   "cell_type": "code",
   "execution_count": 63,
   "id": "b0ab889a-726c-407b-af7b-8e1d5766de97",
   "metadata": {},
   "outputs": [
    {
     "data": {
      "text/plain": [
       "(1, 6)"
      ]
     },
     "execution_count": 63,
     "metadata": {},
     "output_type": "execute_result"
    }
   ],
   "source": [
    "b.shape"
   ]
  },
  {
   "cell_type": "markdown",
   "id": "e0b12717-3969-46de-ad1b-5abb3a979449",
   "metadata": {},
   "source": [
    "## indexing & slicing"
   ]
  },
  {
   "cell_type": "code",
   "execution_count": 72,
   "id": "35af7428-7f26-4d9e-b8af-e88aecd10caf",
   "metadata": {},
   "outputs": [],
   "source": [
    "a = np.array([1,3,4,7,8,9,11,13])"
   ]
  },
  {
   "cell_type": "code",
   "execution_count": 83,
   "id": "9c61beb8-93f6-469d-becf-7dd129022735",
   "metadata": {},
   "outputs": [
    {
     "name": "stdout",
     "output_type": "stream",
     "text": [
      "[ 1  3  4  7  8  9 11 13]\n",
      "1\n",
      "4\n",
      "[1 3 4]\n",
      "[4 7 8 9]\n",
      "[ 4  7  8  9 11 13]\n",
      "[ 9 11 13]\n",
      "[1 3 4 7]\n",
      "[1 3 4]\n"
     ]
    }
   ],
   "source": [
    "print(a)\n",
    "print(a[0])\n",
    "print(a[2])\n",
    "print(a[0:3])\n",
    "print(a[2:6])\n",
    "print(a[2:])\n",
    "print(a[-3:])\n",
    "print(a[:4])\n",
    "print(a[:-5])"
   ]
  },
  {
   "cell_type": "code",
   "execution_count": 87,
   "id": "3a6433dd-586e-4884-8c58-0c316719a73f",
   "metadata": {},
   "outputs": [
    {
     "name": "stdout",
     "output_type": "stream",
     "text": [
      "[ 7  8  9 11 13]\n",
      "[1 3 4]\n",
      "[4 8]\n",
      "[ 3  4  7  8  9 11]\n"
     ]
    }
   ],
   "source": [
    "print(a[a>=5])\n",
    "print(a[a<7])\n",
    "print(a[a%2==0])\n",
    "print(a[(a>=3)&(a<=11)])"
   ]
  },
  {
   "cell_type": "markdown",
   "id": "1af66f4d-febb-428b-852c-cabd75fbec7e",
   "metadata": {},
   "source": [
    "# teknik lain membuat numpy array\n",
    "- vstack ==> vrtical stack\n",
    "- hstack ==> horizontal stack\n",
    "- hsplit ==> horizontal split\n",
    "\n"
   ]
  },
  {
   "cell_type": "code",
   "execution_count": 9,
   "id": "2928aba0-948d-45ad-a36b-a28cd7634732",
   "metadata": {},
   "outputs": [
    {
     "data": {
      "text/plain": [
       "array([[20, 21, 24, 23, 27, 28],\n",
       "       [11, 12, 13, 15, 17, 16]])"
      ]
     },
     "execution_count": 9,
     "metadata": {},
     "output_type": "execute_result"
    }
   ],
   "source": [
    "arr1 = np.array([20,21,24,23,27,28])\n",
    "arr2 = np.array([11,12,13,15,17,16])\n",
    "c = np.vstack((arr1, arr2))\n",
    "c"
   ]
  },
  {
   "cell_type": "code",
   "execution_count": 14,
   "id": "e7664e35-89da-473d-a4dd-90f7f95dd47b",
   "metadata": {},
   "outputs": [
    {
     "data": {
      "text/plain": [
       "array([[ 1,  2],\n",
       "       [ 1,  4],\n",
       "       [ 2,  7],\n",
       "       [11, 12],\n",
       "       [13, 15],\n",
       "       [11, 14]])"
      ]
     },
     "execution_count": 14,
     "metadata": {},
     "output_type": "execute_result"
    }
   ],
   "source": [
    "arr1 = np.stack([[1,2], [1,4], [2,7]])\n",
    "arr2 = np.stack([[11,12], [13,15], [11,14]])\n",
    "c = np.vstack((arr1, arr2))\n",
    "c\n"
   ]
  },
  {
   "cell_type": "code",
   "execution_count": 15,
   "id": "c9200938-8992-4419-b3b5-88e411fe63c5",
   "metadata": {},
   "outputs": [
    {
     "data": {
      "text/plain": [
       "array([[11, 12],\n",
       "       [13, 15],\n",
       "       [11, 14],\n",
       "       [ 1,  2],\n",
       "       [ 1,  4],\n",
       "       [ 2,  7]])"
      ]
     },
     "execution_count": 15,
     "metadata": {},
     "output_type": "execute_result"
    }
   ],
   "source": [
    "d = np.vstack((arr2,arr1))\n",
    "d"
   ]
  },
  {
   "cell_type": "code",
   "execution_count": 26,
   "id": "94288bde-18de-4e54-9d37-a783c1f91d3d",
   "metadata": {},
   "outputs": [
    {
     "data": {
      "text/plain": [
       "array([[ 1,  2, 11, 12],\n",
       "       [ 1,  4, 13, 15],\n",
       "       [ 2,  7, 11, 14]])"
      ]
     },
     "execution_count": 26,
     "metadata": {},
     "output_type": "execute_result"
    }
   ],
   "source": [
    "e = np.hstack((arr1,arr2))\n",
    "e"
   ]
  },
  {
   "cell_type": "code",
   "execution_count": 19,
   "id": "e554b3a5-15b8-4683-ab89-10d7fab8b370",
   "metadata": {},
   "outputs": [
    {
     "data": {
      "text/plain": [
       "array([[11, 12,  1,  2],\n",
       "       [13, 15,  1,  4],\n",
       "       [11, 14,  2,  7]])"
      ]
     },
     "execution_count": 19,
     "metadata": {},
     "output_type": "execute_result"
    }
   ],
   "source": [
    "f = np.hstack((arr2,arr1))\n",
    "f"
   ]
  },
  {
   "cell_type": "code",
   "execution_count": 24,
   "id": "73dd6236-edc0-49b9-804d-9feaa0dc8fb1",
   "metadata": {},
   "outputs": [],
   "source": [
    "arr3 = np.array([[1,6,7]])"
   ]
  },
  {
   "cell_type": "code",
   "execution_count": 30,
   "id": "6f1c9c31-0a78-4607-8879-61c9219fcfeb",
   "metadata": {},
   "outputs": [
    {
     "ename": "ValueError",
     "evalue": "all the input array dimensions for the concatenation axis must match exactly, but along dimension 0, the array at index 0 has size 3 and the array at index 1 has size 1",
     "output_type": "error",
     "traceback": [
      "\u001b[1;31m---------------------------------------------------------------------------\u001b[0m",
      "\u001b[1;31mValueError\u001b[0m                                Traceback (most recent call last)",
      "\u001b[1;32m<ipython-input-30-5625b0080425>\u001b[0m in \u001b[0;36m<module>\u001b[1;34m\u001b[0m\n\u001b[1;32m----> 1\u001b[1;33m \u001b[0marr_hstck\u001b[0m \u001b[1;33m=\u001b[0m \u001b[0mnp\u001b[0m\u001b[1;33m.\u001b[0m\u001b[0mhstack\u001b[0m\u001b[1;33m(\u001b[0m\u001b[1;33m(\u001b[0m\u001b[0marr2\u001b[0m\u001b[1;33m,\u001b[0m\u001b[0marr3\u001b[0m\u001b[1;33m)\u001b[0m\u001b[1;33m)\u001b[0m\u001b[1;33m\u001b[0m\u001b[1;33m\u001b[0m\u001b[0m\n\u001b[0m\u001b[0;32m      2\u001b[0m \u001b[0marr_hstck\u001b[0m \u001b[1;31m#<== list array 3 dan array 2 dimensinya tidak sama\u001b[0m\u001b[1;33m\u001b[0m\u001b[1;33m\u001b[0m\u001b[0m\n",
      "\u001b[1;32m<__array_function__ internals>\u001b[0m in \u001b[0;36mhstack\u001b[1;34m(*args, **kwargs)\u001b[0m\n",
      "\u001b[1;32m~\\Anaconda3\\lib\\site-packages\\numpy\\core\\shape_base.py\u001b[0m in \u001b[0;36mhstack\u001b[1;34m(tup)\u001b[0m\n\u001b[0;32m    344\u001b[0m         \u001b[1;32mreturn\u001b[0m \u001b[0m_nx\u001b[0m\u001b[1;33m.\u001b[0m\u001b[0mconcatenate\u001b[0m\u001b[1;33m(\u001b[0m\u001b[0marrs\u001b[0m\u001b[1;33m,\u001b[0m \u001b[1;36m0\u001b[0m\u001b[1;33m)\u001b[0m\u001b[1;33m\u001b[0m\u001b[1;33m\u001b[0m\u001b[0m\n\u001b[0;32m    345\u001b[0m     \u001b[1;32melse\u001b[0m\u001b[1;33m:\u001b[0m\u001b[1;33m\u001b[0m\u001b[1;33m\u001b[0m\u001b[0m\n\u001b[1;32m--> 346\u001b[1;33m         \u001b[1;32mreturn\u001b[0m \u001b[0m_nx\u001b[0m\u001b[1;33m.\u001b[0m\u001b[0mconcatenate\u001b[0m\u001b[1;33m(\u001b[0m\u001b[0marrs\u001b[0m\u001b[1;33m,\u001b[0m \u001b[1;36m1\u001b[0m\u001b[1;33m)\u001b[0m\u001b[1;33m\u001b[0m\u001b[1;33m\u001b[0m\u001b[0m\n\u001b[0m\u001b[0;32m    347\u001b[0m \u001b[1;33m\u001b[0m\u001b[0m\n\u001b[0;32m    348\u001b[0m \u001b[1;33m\u001b[0m\u001b[0m\n",
      "\u001b[1;32m<__array_function__ internals>\u001b[0m in \u001b[0;36mconcatenate\u001b[1;34m(*args, **kwargs)\u001b[0m\n",
      "\u001b[1;31mValueError\u001b[0m: all the input array dimensions for the concatenation axis must match exactly, but along dimension 0, the array at index 0 has size 3 and the array at index 1 has size 1"
     ]
    }
   ],
   "source": [
    "arr_hstck = np.hstack((arr2,arr3))\n",
    "arr_hstck #<== list array 3 dan array 2 dimensinya tidak sama"
   ]
  },
  {
   "cell_type": "code",
   "execution_count": 33,
   "id": "0d218b46-e23c-4f85-83bc-d252b1693d6d",
   "metadata": {},
   "outputs": [
    {
     "ename": "ValueError",
     "evalue": "all the input array dimensions for the concatenation axis must match exactly, but along dimension 1, the array at index 0 has size 2 and the array at index 1 has size 3",
     "output_type": "error",
     "traceback": [
      "\u001b[1;31m---------------------------------------------------------------------------\u001b[0m",
      "\u001b[1;31mValueError\u001b[0m                                Traceback (most recent call last)",
      "\u001b[1;32m<ipython-input-33-aceacd9ba1ad>\u001b[0m in \u001b[0;36m<module>\u001b[1;34m\u001b[0m\n\u001b[1;32m----> 1\u001b[1;33m \u001b[0marr_vstck\u001b[0m \u001b[1;33m=\u001b[0m \u001b[0mnp\u001b[0m\u001b[1;33m.\u001b[0m\u001b[0mvstack\u001b[0m\u001b[1;33m(\u001b[0m\u001b[1;33m(\u001b[0m\u001b[0marr1\u001b[0m\u001b[1;33m,\u001b[0m \u001b[0marr3\u001b[0m\u001b[1;33m)\u001b[0m\u001b[1;33m)\u001b[0m\u001b[1;33m\u001b[0m\u001b[1;33m\u001b[0m\u001b[0m\n\u001b[0m\u001b[0;32m      2\u001b[0m \u001b[0marr_vstck\u001b[0m \u001b[1;31m#<== list array 3 dan array 2 dimensinya tidak sama\u001b[0m\u001b[1;33m\u001b[0m\u001b[1;33m\u001b[0m\u001b[0m\n",
      "\u001b[1;32m<__array_function__ internals>\u001b[0m in \u001b[0;36mvstack\u001b[1;34m(*args, **kwargs)\u001b[0m\n",
      "\u001b[1;32m~\\Anaconda3\\lib\\site-packages\\numpy\\core\\shape_base.py\u001b[0m in \u001b[0;36mvstack\u001b[1;34m(tup)\u001b[0m\n\u001b[0;32m    281\u001b[0m     \u001b[1;32mif\u001b[0m \u001b[1;32mnot\u001b[0m \u001b[0misinstance\u001b[0m\u001b[1;33m(\u001b[0m\u001b[0marrs\u001b[0m\u001b[1;33m,\u001b[0m \u001b[0mlist\u001b[0m\u001b[1;33m)\u001b[0m\u001b[1;33m:\u001b[0m\u001b[1;33m\u001b[0m\u001b[1;33m\u001b[0m\u001b[0m\n\u001b[0;32m    282\u001b[0m         \u001b[0marrs\u001b[0m \u001b[1;33m=\u001b[0m \u001b[1;33m[\u001b[0m\u001b[0marrs\u001b[0m\u001b[1;33m]\u001b[0m\u001b[1;33m\u001b[0m\u001b[1;33m\u001b[0m\u001b[0m\n\u001b[1;32m--> 283\u001b[1;33m     \u001b[1;32mreturn\u001b[0m \u001b[0m_nx\u001b[0m\u001b[1;33m.\u001b[0m\u001b[0mconcatenate\u001b[0m\u001b[1;33m(\u001b[0m\u001b[0marrs\u001b[0m\u001b[1;33m,\u001b[0m \u001b[1;36m0\u001b[0m\u001b[1;33m)\u001b[0m\u001b[1;33m\u001b[0m\u001b[1;33m\u001b[0m\u001b[0m\n\u001b[0m\u001b[0;32m    284\u001b[0m \u001b[1;33m\u001b[0m\u001b[0m\n\u001b[0;32m    285\u001b[0m \u001b[1;33m\u001b[0m\u001b[0m\n",
      "\u001b[1;32m<__array_function__ internals>\u001b[0m in \u001b[0;36mconcatenate\u001b[1;34m(*args, **kwargs)\u001b[0m\n",
      "\u001b[1;31mValueError\u001b[0m: all the input array dimensions for the concatenation axis must match exactly, but along dimension 1, the array at index 0 has size 2 and the array at index 1 has size 3"
     ]
    }
   ],
   "source": [
    "arr_vstck = np.vstack((arr1, arr3))\n",
    "arr_vstck #<== list array 3 dan array 2 dimensinya tidak sama"
   ]
  },
  {
   "cell_type": "code",
   "execution_count": 43,
   "id": "e55aef0e-fc68-4e6b-811f-38ef7f78a551",
   "metadata": {},
   "outputs": [
    {
     "data": {
      "text/plain": [
       "16"
      ]
     },
     "execution_count": 43,
     "metadata": {},
     "output_type": "execute_result"
    }
   ],
   "source": [
    "arr4 = np.array([[1,2,3,4,5,6,7,8],[11,12,14,15,17,18,20,21]])\n",
    "arr4.size"
   ]
  },
  {
   "cell_type": "code",
   "execution_count": 45,
   "id": "2a55dfb6-d40c-4021-945b-2cfac3c0c561",
   "metadata": {},
   "outputs": [
    {
     "data": {
      "text/plain": [
       "[array([[ 1,  2],\n",
       "        [11, 12]]),\n",
       " array([[ 3,  4],\n",
       "        [14, 15]]),\n",
       " array([[ 5,  6],\n",
       "        [17, 18]]),\n",
       " array([[ 7,  8],\n",
       "        [20, 21]])]"
      ]
     },
     "execution_count": 45,
     "metadata": {},
     "output_type": "execute_result"
    }
   ],
   "source": [
    "hasil_split = np.hsplit(arr4,4) #ask kenapa kebanyakan selalu 2 dimensi sewaktu di split\n",
    "hasil_split"
   ]
  },
  {
   "cell_type": "code",
   "execution_count": 46,
   "id": "813a2b06-e23d-4c01-bc76-58e5eea7bded",
   "metadata": {},
   "outputs": [
    {
     "data": {
      "text/plain": [
       "array([[ 1,  2],\n",
       "       [11, 12]])"
      ]
     },
     "execution_count": 46,
     "metadata": {},
     "output_type": "execute_result"
    }
   ],
   "source": [
    "hasil_split[0]"
   ]
  },
  {
   "cell_type": "code",
   "execution_count": 47,
   "id": "0f47e434-ef7b-4cd0-8c98-4092262b0bb9",
   "metadata": {},
   "outputs": [
    {
     "data": {
      "text/plain": [
       "array([[ 5,  6],\n",
       "       [17, 18]])"
      ]
     },
     "execution_count": 47,
     "metadata": {},
     "output_type": "execute_result"
    }
   ],
   "source": [
    "hasil_split[-2]"
   ]
  },
  {
   "cell_type": "code",
   "execution_count": 48,
   "id": "789de910-1fd2-45e7-bada-a2551d9ed790",
   "metadata": {},
   "outputs": [
    {
     "data": {
      "text/plain": [
       "array([[ 1,  2,  3,  4,  5,  6,  7,  8],\n",
       "       [11, 12, 14, 15, 17, 18, 20, 21]])"
      ]
     },
     "execution_count": 48,
     "metadata": {},
     "output_type": "execute_result"
    }
   ],
   "source": [
    "arr4 #<== array 4 yg lama tidak berubah"
   ]
  },
  {
   "cell_type": "markdown",
   "id": "14df2867-1699-49c2-9d23-3e2991c6dfe5",
   "metadata": {},
   "source": [
    "hasil_split2 = np.hsplit(arr4,3)\n",
    "hasil_split2 #<== array tidak bisa dibagi menjadi bagian yang sama besar dimensinya"
   ]
  },
  {
   "cell_type": "markdown",
   "id": "a6747123-3bd1-48ad-902d-a14f38755e54",
   "metadata": {},
   "source": [
    "# view & copy"
   ]
  },
  {
   "cell_type": "code",
   "execution_count": 54,
   "id": "71c4c1cc-7857-4507-9d59-f9978d31cdef",
   "metadata": {},
   "outputs": [
    {
     "data": {
      "text/plain": [
       "array([[ 1,  2,  3,  4,  5,  6,  7,  8],\n",
       "       [11, 12, 14, 15, 17, 18, 20, 21]])"
      ]
     },
     "execution_count": 54,
     "metadata": {},
     "output_type": "execute_result"
    }
   ],
   "source": [
    "arr5 = arr4.view()\n",
    "arr5"
   ]
  },
  {
   "cell_type": "code",
   "execution_count": 56,
   "id": "de0c88e5-061a-494d-aaa9-388cba5b31b8",
   "metadata": {},
   "outputs": [
    {
     "data": {
      "text/plain": [
       "array([[1, 6, 7]])"
      ]
     },
     "execution_count": 56,
     "metadata": {},
     "output_type": "execute_result"
    }
   ],
   "source": [
    "arr6 = arr3.copy()\n",
    "arr6"
   ]
  },
  {
   "cell_type": "markdown",
   "id": "da04fc6b-8322-4020-ac5e-ffa45a68f76e",
   "metadata": {},
   "source": [
    "## array operation\n",
    "- addition, subtraction, multiplication, division\n",
    "- maximum, minimum, mean, sum, product, standard deviation\n",
    "\n",
    "\n",
    "syaratnya adalah dimensi dan size nya sama"
   ]
  },
  {
   "cell_type": "code",
   "execution_count": 57,
   "id": "cccbd853-9563-4ff1-8129-59560f64468c",
   "metadata": {},
   "outputs": [
    {
     "data": {
      "text/plain": [
       "array([[10, 11, 12, 13, 14, 15, 16],\n",
       "       [20, 21, 22, 23, 24, 25, 26]])"
      ]
     },
     "execution_count": 57,
     "metadata": {},
     "output_type": "execute_result"
    }
   ],
   "source": [
    "arr6 = np.array([[10,11,12,13,14,15,16],\n",
    "                [20,21,22,23,24,25,26]\n",
    "                ])\n",
    "arr6"
   ]
  },
  {
   "cell_type": "code",
   "execution_count": 58,
   "id": "59af5143-12ab-4332-8023-a193d475ec28",
   "metadata": {},
   "outputs": [
    {
     "data": {
      "text/plain": [
       "array([[13, 14, 15, 16, 17, 18, 19],\n",
       "       [23, 24, 25, 26, 27, 28, 29]])"
      ]
     },
     "execution_count": 58,
     "metadata": {},
     "output_type": "execute_result"
    }
   ],
   "source": [
    "arr6 + 3 #semua element ditambah 3"
   ]
  },
  {
   "cell_type": "code",
   "execution_count": 59,
   "id": "cc2e5f93-0370-451d-8721-6c809e0cc193",
   "metadata": {},
   "outputs": [
    {
     "data": {
      "text/plain": [
       "array([[20, 22, 24, 26, 28, 30, 32],\n",
       "       [40, 42, 44, 46, 48, 50, 52]])"
      ]
     },
     "execution_count": 59,
     "metadata": {},
     "output_type": "execute_result"
    }
   ],
   "source": [
    "arr6 * 2"
   ]
  },
  {
   "cell_type": "code",
   "execution_count": 60,
   "id": "9c5540f7-a03a-40b6-a841-dbab95fb30a0",
   "metadata": {},
   "outputs": [
    {
     "data": {
      "text/plain": [
       "array([[ 5. ,  5.5,  6. ,  6.5,  7. ,  7.5,  8. ],\n",
       "       [10. , 10.5, 11. , 11.5, 12. , 12.5, 13. ]])"
      ]
     },
     "execution_count": 60,
     "metadata": {},
     "output_type": "execute_result"
    }
   ],
   "source": [
    "arr6 / 2"
   ]
  },
  {
   "cell_type": "code",
   "execution_count": 62,
   "id": "825b6776-92fe-4041-9370-38a6d1826789",
   "metadata": {},
   "outputs": [
    {
     "data": {
      "text/plain": [
       "array([[ 5,  6,  7,  8,  9, 10, 11],\n",
       "       [15, 16, 17, 18, 19, 20, 21]])"
      ]
     },
     "execution_count": 62,
     "metadata": {},
     "output_type": "execute_result"
    }
   ],
   "source": [
    "arr6 - 5"
   ]
  },
  {
   "cell_type": "code",
   "execution_count": 63,
   "id": "d117eb43-fd4a-4554-9c8e-d4be4c39f65d",
   "metadata": {},
   "outputs": [
    {
     "data": {
      "text/plain": [
       "array([[10, 11, 12, 13, 14, 15, 16],\n",
       "       [20, 21, 22, 23, 24, 25, 26]])"
      ]
     },
     "execution_count": 63,
     "metadata": {},
     "output_type": "execute_result"
    }
   ],
   "source": [
    "arr6"
   ]
  },
  {
   "cell_type": "code",
   "execution_count": 64,
   "id": "070e1c7c-0614-49eb-9411-d12a1fc3e2b2",
   "metadata": {},
   "outputs": [
    {
     "data": {
      "text/plain": [
       "252"
      ]
     },
     "execution_count": 64,
     "metadata": {},
     "output_type": "execute_result"
    }
   ],
   "source": [
    "arr6.sum()"
   ]
  },
  {
   "cell_type": "code",
   "execution_count": 65,
   "id": "ec069f21-cb2a-45cb-9d1e-44fb9e52b823",
   "metadata": {},
   "outputs": [],
   "source": [
    "arr7 = np.array([[5,6,7,8],\n",
    "                [10,12,13,14]\n",
    "                ])"
   ]
  },
  {
   "cell_type": "code",
   "execution_count": 68,
   "id": "6394d117-d911-42dc-9570-99d154e594ba",
   "metadata": {},
   "outputs": [
    {
     "data": {
      "text/plain": [
       "array([15, 18, 20, 22])"
      ]
     },
     "execution_count": 68,
     "metadata": {},
     "output_type": "execute_result"
    }
   ],
   "source": [
    "arr7.sum(axis=0)"
   ]
  },
  {
   "cell_type": "code",
   "execution_count": 69,
   "id": "61edcab8-973c-421b-b426-71d21ce3dd1f",
   "metadata": {},
   "outputs": [
    {
     "data": {
      "text/plain": [
       "array([26, 49])"
      ]
     },
     "execution_count": 69,
     "metadata": {},
     "output_type": "execute_result"
    }
   ],
   "source": [
    "arr7.sum(axis=1)"
   ]
  },
  {
   "cell_type": "code",
   "execution_count": 71,
   "id": "b7c7763f-46cc-43aa-a722-3843eb17770b",
   "metadata": {},
   "outputs": [],
   "source": [
    "panjang = np.array([10,20,30,40,50,60])\n",
    "lebar = np.array([5,10,15,20,25,30])\n",
    "tinggi = np.array([10,20,15,30,45,60])"
   ]
  },
  {
   "cell_type": "code",
   "execution_count": 73,
   "id": "5d9c5484-33a3-4c3e-994e-5ac08ff5cc24",
   "metadata": {},
   "outputs": [
    {
     "data": {
      "text/plain": [
       "array([  50,  200,  450,  800, 1250, 1800])"
      ]
     },
     "execution_count": 73,
     "metadata": {},
     "output_type": "execute_result"
    }
   ],
   "source": [
    "Luas = panjang * lebar\n",
    "Luas"
   ]
  },
  {
   "cell_type": "code",
   "execution_count": 74,
   "id": "309f2d0e-139a-4fcc-ba92-2d588417bc5a",
   "metadata": {},
   "outputs": [
    {
     "data": {
      "text/plain": [
       "array([   500,   4000,   6750,  24000,  56250, 108000])"
      ]
     },
     "execution_count": 74,
     "metadata": {},
     "output_type": "execute_result"
    }
   ],
   "source": [
    "volume = Luas * tinggi\n",
    "volume"
   ]
  },
  {
   "cell_type": "code",
   "execution_count": 78,
   "id": "bee13b2c-e12e-47c0-b8ea-8a461a07072f",
   "metadata": {},
   "outputs": [],
   "source": [
    "A = np.array([[1,3,4,7,9,10],[2,3,6,8,9,11],\n",
    "              [1,4,6,10,12,14],[3,4,8,10,14,19]])"
   ]
  },
  {
   "cell_type": "code",
   "execution_count": 79,
   "id": "86443b7d-0a8e-41dc-a9ca-636ac2860209",
   "metadata": {},
   "outputs": [
    {
     "data": {
      "text/plain": [
       "178"
      ]
     },
     "execution_count": 79,
     "metadata": {},
     "output_type": "execute_result"
    }
   ],
   "source": [
    "A.sum()"
   ]
  },
  {
   "cell_type": "code",
   "execution_count": 94,
   "id": "f21a7c74-a051-444d-8e29-34d47f136bd0",
   "metadata": {},
   "outputs": [
    {
     "data": {
      "text/plain": [
       "array([ 7, 14, 24, 35, 44, 54])"
      ]
     },
     "execution_count": 94,
     "metadata": {},
     "output_type": "execute_result"
    }
   ],
   "source": [
    "A.sum((0)) # <== sama dengan axis=0"
   ]
  },
  {
   "cell_type": "code",
   "execution_count": 81,
   "id": "4400756d-e184-4635-944f-3e8e584d485b",
   "metadata": {},
   "outputs": [
    {
     "data": {
      "text/plain": [
       "array([ 7, 14, 24, 35, 44, 54])"
      ]
     },
     "execution_count": 81,
     "metadata": {},
     "output_type": "execute_result"
    }
   ],
   "source": [
    "A.sum(axis=0)"
   ]
  },
  {
   "cell_type": "code",
   "execution_count": 82,
   "id": "0af5b3f0-f592-4aa3-a781-0fda7bcba4b5",
   "metadata": {},
   "outputs": [
    {
     "data": {
      "text/plain": [
       "array([34, 39, 47, 58])"
      ]
     },
     "execution_count": 82,
     "metadata": {},
     "output_type": "execute_result"
    }
   ],
   "source": [
    "A.sum(axis=1)"
   ]
  },
  {
   "cell_type": "code",
   "execution_count": 96,
   "id": "7929a277-373a-4e5d-b0b5-b151959db3d8",
   "metadata": {},
   "outputs": [
    {
     "data": {
      "text/plain": [
       "array([34, 39, 47, 58])"
      ]
     },
     "execution_count": 96,
     "metadata": {},
     "output_type": "execute_result"
    }
   ],
   "source": [
    "A.sum((1)) # <== sama dengan axis=1"
   ]
  },
  {
   "cell_type": "code",
   "execution_count": 98,
   "id": "dff39d84-af62-430b-adc7-e04857b1a71b",
   "metadata": {},
   "outputs": [
    {
     "ename": "AxisError",
     "evalue": "axis 2 is out of bounds for array of dimension 2",
     "output_type": "error",
     "traceback": [
      "\u001b[1;31m---------------------------------------------------------------------------\u001b[0m",
      "\u001b[1;31mAxisError\u001b[0m                                 Traceback (most recent call last)",
      "\u001b[1;32m<ipython-input-98-6bd94683223b>\u001b[0m in \u001b[0;36m<module>\u001b[1;34m\u001b[0m\n\u001b[1;32m----> 1\u001b[1;33m \u001b[0mA\u001b[0m\u001b[1;33m.\u001b[0m\u001b[0msum\u001b[0m\u001b[1;33m(\u001b[0m\u001b[1;33m(\u001b[0m\u001b[1;36m2\u001b[0m\u001b[1;33m)\u001b[0m\u001b[1;33m)\u001b[0m \u001b[1;31m# <== karena bukan array > 2 dimensi\u001b[0m\u001b[1;33m\u001b[0m\u001b[1;33m\u001b[0m\u001b[0m\n\u001b[0m",
      "\u001b[1;32m~\\Anaconda3\\lib\\site-packages\\numpy\\core\\_methods.py\u001b[0m in \u001b[0;36m_sum\u001b[1;34m(a, axis, dtype, out, keepdims, initial, where)\u001b[0m\n\u001b[0;32m     45\u001b[0m def _sum(a, axis=None, dtype=None, out=None, keepdims=False,\n\u001b[0;32m     46\u001b[0m          initial=_NoValue, where=True):\n\u001b[1;32m---> 47\u001b[1;33m     \u001b[1;32mreturn\u001b[0m \u001b[0mumr_sum\u001b[0m\u001b[1;33m(\u001b[0m\u001b[0ma\u001b[0m\u001b[1;33m,\u001b[0m \u001b[0maxis\u001b[0m\u001b[1;33m,\u001b[0m \u001b[0mdtype\u001b[0m\u001b[1;33m,\u001b[0m \u001b[0mout\u001b[0m\u001b[1;33m,\u001b[0m \u001b[0mkeepdims\u001b[0m\u001b[1;33m,\u001b[0m \u001b[0minitial\u001b[0m\u001b[1;33m,\u001b[0m \u001b[0mwhere\u001b[0m\u001b[1;33m)\u001b[0m\u001b[1;33m\u001b[0m\u001b[1;33m\u001b[0m\u001b[0m\n\u001b[0m\u001b[0;32m     48\u001b[0m \u001b[1;33m\u001b[0m\u001b[0m\n\u001b[0;32m     49\u001b[0m def _prod(a, axis=None, dtype=None, out=None, keepdims=False,\n",
      "\u001b[1;31mAxisError\u001b[0m: axis 2 is out of bounds for array of dimension 2"
     ]
    }
   ],
   "source": [
    "A.sum((2)) # <== karena bukan array > 2 dimensi"
   ]
  },
  {
   "cell_type": "code",
   "execution_count": 99,
   "id": "b1bb8ed8-634a-4450-8518-19ef9519d4a9",
   "metadata": {},
   "outputs": [
    {
     "data": {
      "text/plain": [
       "1"
      ]
     },
     "execution_count": 99,
     "metadata": {},
     "output_type": "execute_result"
    }
   ],
   "source": [
    "A.min()"
   ]
  },
  {
   "cell_type": "code",
   "execution_count": 84,
   "id": "09c9da63-0e0c-4b7f-807d-93c2ff6d9346",
   "metadata": {},
   "outputs": [
    {
     "data": {
      "text/plain": [
       "array([1, 2, 1, 3])"
      ]
     },
     "execution_count": 84,
     "metadata": {},
     "output_type": "execute_result"
    }
   ],
   "source": [
    "A.min(axis=1)"
   ]
  },
  {
   "cell_type": "code",
   "execution_count": 85,
   "id": "7a8e0470-d0af-4055-a389-a1fdee117196",
   "metadata": {},
   "outputs": [
    {
     "data": {
      "text/plain": [
       "array([ 1,  3,  4,  7,  9, 10])"
      ]
     },
     "execution_count": 85,
     "metadata": {},
     "output_type": "execute_result"
    }
   ],
   "source": [
    "A.min(axis=0)"
   ]
  },
  {
   "cell_type": "code",
   "execution_count": 86,
   "id": "e1d20e8a-6c56-465f-a274-03bcfd16eb56",
   "metadata": {},
   "outputs": [
    {
     "data": {
      "text/plain": [
       "19"
      ]
     },
     "execution_count": 86,
     "metadata": {},
     "output_type": "execute_result"
    }
   ],
   "source": [
    "A.max()"
   ]
  },
  {
   "cell_type": "code",
   "execution_count": 88,
   "id": "c44d3420-c660-4031-bb47-58d4fb7828a4",
   "metadata": {},
   "outputs": [
    {
     "data": {
      "text/plain": [
       "array([ 1,  3,  4,  7,  9, 10])"
      ]
     },
     "execution_count": 88,
     "metadata": {},
     "output_type": "execute_result"
    }
   ],
   "source": [
    "A.min((0)) # <== sama dengan axis=0"
   ]
  },
  {
   "cell_type": "code",
   "execution_count": 100,
   "id": "f9cd6169-85a9-44d4-ac84-ace325fc2b69",
   "metadata": {},
   "outputs": [
    {
     "data": {
      "text/plain": [
       "array([ 1,  3,  4,  7,  9, 10])"
      ]
     },
     "execution_count": 100,
     "metadata": {},
     "output_type": "execute_result"
    }
   ],
   "source": [
    "A.min(axis=0)"
   ]
  },
  {
   "cell_type": "code",
   "execution_count": 101,
   "id": "a9febc73-8584-45ae-8380-ad25ccd44271",
   "metadata": {},
   "outputs": [
    {
     "data": {
      "text/plain": [
       "4.517712056143266"
      ]
     },
     "execution_count": 101,
     "metadata": {},
     "output_type": "execute_result"
    }
   ],
   "source": [
    "A.std()"
   ]
  },
  {
   "cell_type": "code",
   "execution_count": 102,
   "id": "ffca3d11-a6d4-4608-99cc-a96e79197f13",
   "metadata": {},
   "outputs": [
    {
     "data": {
      "text/plain": [
       "7.416666666666667"
      ]
     },
     "execution_count": 102,
     "metadata": {},
     "output_type": "execute_result"
    }
   ],
   "source": [
    "A.mean()"
   ]
  },
  {
   "cell_type": "code",
   "execution_count": 103,
   "id": "810cb0bf-362d-4d93-94a5-0dd27f4bd816",
   "metadata": {},
   "outputs": [
    {
     "data": {
      "text/plain": [
       "array([ 1.75,  3.5 ,  6.  ,  8.75, 11.  , 13.5 ])"
      ]
     },
     "execution_count": 103,
     "metadata": {},
     "output_type": "execute_result"
    }
   ],
   "source": [
    "A.mean(axis=0)"
   ]
  },
  {
   "cell_type": "code",
   "execution_count": 105,
   "id": "30d8ae01-a6fa-4ae2-846a-85e7e9a87cd2",
   "metadata": {},
   "outputs": [
    {
     "data": {
      "text/plain": [
       "array([5.66666667, 6.5       , 7.83333333, 9.66666667])"
      ]
     },
     "execution_count": 105,
     "metadata": {},
     "output_type": "execute_result"
    }
   ],
   "source": [
    "A.mean((1)) # <== sama dengan axis=1"
   ]
  },
  {
   "cell_type": "markdown",
   "id": "e37a739f-d25c-4fe6-9191-684b0ccb2b35",
   "metadata": {},
   "source": [
    "### MATRIX\n",
    "- dot <--- product / perkalian antar matrix\n",
    "- indexing\n",
    "- aggregation"
   ]
  },
  {
   "cell_type": "code",
   "execution_count": 111,
   "id": "7736648f-2637-4c5e-99d1-7f0dee36436b",
   "metadata": {},
   "outputs": [],
   "source": [
    "A = np.array([[1,3,4,7,9,10],[2,3,6,8,9,11],\n",
    "              [1,4,6,10,12,14],[3,4,8,10,14,19]])\n",
    "\n",
    "B = np.array ([[11,12,13,14],[20,21,22,24],\n",
    "              [20,21,22,24],[30,33,34,35],\n",
    "              [1,2,3,4],[8,9,10,11]])"
   ]
  },
  {
   "cell_type": "code",
   "execution_count": 107,
   "id": "5de3dcc2-4dc6-4836-92c3-e29f5678ba36",
   "metadata": {},
   "outputs": [
    {
     "name": "stdout",
     "output_type": "stream",
     "text": [
      "[[ 1  3  4  7  9 10]\n",
      " [ 2  3  6  8  9 11]\n",
      " [ 1  4  6 10 12 14]\n",
      " [ 3  4  8 10 14 19]]\n"
     ]
    }
   ],
   "source": [
    "print(A)"
   ]
  },
  {
   "cell_type": "code",
   "execution_count": 108,
   "id": "32f18b8d-b267-47d4-822e-7479126f375d",
   "metadata": {},
   "outputs": [
    {
     "name": "stdout",
     "output_type": "stream",
     "text": [
      "(4, 6)\n"
     ]
    }
   ],
   "source": [
    "print(A.shape)"
   ]
  },
  {
   "cell_type": "code",
   "execution_count": 112,
   "id": "47dd7a9b-2adf-4959-8c56-e2deab28d1a6",
   "metadata": {},
   "outputs": [
    {
     "name": "stdout",
     "output_type": "stream",
     "text": [
      "[[11 12 13 14]\n",
      " [20 21 22 24]\n",
      " [20 21 22 24]\n",
      " [30 33 34 35]\n",
      " [ 1  2  3  4]\n",
      " [ 8  9 10 11]]\n",
      "(6, 4)\n"
     ]
    }
   ],
   "source": [
    "print(B)\n",
    "print(B.shape)"
   ]
  },
  {
   "cell_type": "code",
   "execution_count": 113,
   "id": "e69051a4-233e-4a06-992b-fa52bcb3bbc5",
   "metadata": {},
   "outputs": [
    {
     "data": {
      "text/plain": [
       "array([[450, 498, 532, 573],\n",
       "       [539, 594, 633, 681],\n",
       "       [635, 702, 749, 806],\n",
       "       [739, 817, 875, 945]])"
      ]
     },
     "execution_count": 113,
     "metadata": {},
     "output_type": "execute_result"
    }
   ],
   "source": [
    "np.dot(A,B)"
   ]
  },
  {
   "cell_type": "code",
   "execution_count": 158,
   "id": "7e99047c-17b9-4bf7-babc-b0071b342f83",
   "metadata": {},
   "outputs": [],
   "source": [
    "C = np.array([[4,2],[1,2]])\n",
    "D = np.array([[3,1],[2,5]])"
   ]
  },
  {
   "cell_type": "code",
   "execution_count": 159,
   "id": "a7db97ab-c83c-4966-87fe-f8dde24a1b61",
   "metadata": {},
   "outputs": [
    {
     "name": "stdout",
     "output_type": "stream",
     "text": [
      "[[4 2]\n",
      " [1 2]]\n",
      "[[3 1]\n",
      " [2 5]]\n"
     ]
    }
   ],
   "source": [
    "print(C)\n",
    "print(D)"
   ]
  },
  {
   "cell_type": "code",
   "execution_count": 156,
   "id": "8f9e6763-ba82-4a33-9fde-08227a722dde",
   "metadata": {},
   "outputs": [
    {
     "name": "stdout",
     "output_type": "stream",
     "text": [
      "(2, 2)\n"
     ]
    }
   ],
   "source": [
    "print(C.shape)"
   ]
  },
  {
   "cell_type": "code",
   "execution_count": 157,
   "id": "86f6c6d5-51da-4820-8497-50fefd58f9ba",
   "metadata": {},
   "outputs": [
    {
     "name": "stdout",
     "output_type": "stream",
     "text": [
      "(2, 2)\n"
     ]
    }
   ],
   "source": [
    "print(D.shape)"
   ]
  },
  {
   "cell_type": "code",
   "execution_count": 174,
   "id": "e81c959c-3d82-45bd-87f8-0b1bc2eade31",
   "metadata": {},
   "outputs": [
    {
     "data": {
      "text/plain": [
       "array([[16, 14],\n",
       "       [ 7, 11]])"
      ]
     },
     "execution_count": 174,
     "metadata": {},
     "output_type": "execute_result"
    }
   ],
   "source": [
    "np.dot(C,D)\n",
    "\n",
    "# Cara :\n",
    "# sumproduct dari baris ke-1 matrix C dengan kolom ke-1 matrix D\n",
    "# sumproduct dari baris ke-2 matrix C dengan kolom ke-1 matrix D\n",
    "# sumproduct dari baris ke-1 matrix C dengan kolom ke-2 matrix D\n",
    "# sumproduct dari baris ke-2 matrix C dengan kolom ke-2 matrix D\n",
    "# visualisasi dot product bisa dilihat di website ini https://www.mathsisfun.com/algebra/matrix-multiplying.html"
   ]
  },
  {
   "cell_type": "code",
   "execution_count": 168,
   "id": "fd81a23a-ae49-49d7-b0fc-0b61d8f418a1",
   "metadata": {},
   "outputs": [
    {
     "data": {
      "text/plain": [
       "array([[1, 2, 3],\n",
       "       [4, 2, 5],\n",
       "       [4, 6, 8]])"
      ]
     },
     "execution_count": 168,
     "metadata": {},
     "output_type": "execute_result"
    }
   ],
   "source": [
    "E = np.array([[1,2,3],[4,2,5],[4,6,8]])\n",
    "E"
   ]
  },
  {
   "cell_type": "code",
   "execution_count": 167,
   "id": "068b1476-4cd2-48a4-8b26-bb368bb95fad",
   "metadata": {},
   "outputs": [
    {
     "data": {
      "text/plain": [
       "array([[ 1,  2,  4],\n",
       "       [ 4,  5,  2],\n",
       "       [ 6,  8, 10]])"
      ]
     },
     "execution_count": 167,
     "metadata": {},
     "output_type": "execute_result"
    }
   ],
   "source": [
    "F = np.array([[1,2,4],[4,5,2],[6,8,10]])\n",
    "F"
   ]
  },
  {
   "cell_type": "code",
   "execution_count": 171,
   "id": "b1ec2818-2d4d-469c-ae18-2463fc0bf7dc",
   "metadata": {},
   "outputs": [
    {
     "data": {
      "text/plain": [
       "(3, 3)"
      ]
     },
     "execution_count": 171,
     "metadata": {},
     "output_type": "execute_result"
    }
   ],
   "source": [
    "E.shape"
   ]
  },
  {
   "cell_type": "code",
   "execution_count": 172,
   "id": "d0696300-a130-4d1f-a9c4-8ca76ac10741",
   "metadata": {},
   "outputs": [
    {
     "data": {
      "text/plain": [
       "(3, 3)"
      ]
     },
     "execution_count": 172,
     "metadata": {},
     "output_type": "execute_result"
    }
   ],
   "source": [
    "F.shape"
   ]
  },
  {
   "cell_type": "code",
   "execution_count": 173,
   "id": "723450d2-a1cb-42ce-a7ca-8042a6e721c7",
   "metadata": {},
   "outputs": [
    {
     "data": {
      "text/plain": [
       "array([[ 27,  36,  38],\n",
       "       [ 42,  58,  70],\n",
       "       [ 76, 102, 108]])"
      ]
     },
     "execution_count": 173,
     "metadata": {},
     "output_type": "execute_result"
    }
   ],
   "source": [
    "np.dot(E,F)"
   ]
  },
  {
   "cell_type": "markdown",
   "id": "dd5152f3-ce0e-43d9-84f1-f4251c48c972",
   "metadata": {},
   "source": [
    "### Transpose & Reshape Matrix"
   ]
  },
  {
   "cell_type": "code",
   "execution_count": 178,
   "id": "573a1efe-71ae-40d8-96fb-cbe690225805",
   "metadata": {},
   "outputs": [
    {
     "data": {
      "text/plain": [
       "array([[0, 1, 2],\n",
       "       [3, 4, 5]])"
      ]
     },
     "execution_count": 178,
     "metadata": {},
     "output_type": "execute_result"
    }
   ],
   "source": [
    "A = np.array([[0,1,2],[3,4,5]])\n",
    "A"
   ]
  },
  {
   "cell_type": "code",
   "execution_count": 179,
   "id": "40a55e82-1357-44c7-a2ca-00b4c654dfa6",
   "metadata": {},
   "outputs": [
    {
     "data": {
      "text/plain": [
       "(2, 3)"
      ]
     },
     "execution_count": 179,
     "metadata": {},
     "output_type": "execute_result"
    }
   ],
   "source": [
    "A.shape"
   ]
  },
  {
   "cell_type": "code",
   "execution_count": 177,
   "id": "22e797c6-8402-43ce-892c-cf8e2d613f21",
   "metadata": {},
   "outputs": [
    {
     "data": {
      "text/plain": [
       "array([[0, 3],\n",
       "       [1, 4],\n",
       "       [2, 5]])"
      ]
     },
     "execution_count": 177,
     "metadata": {},
     "output_type": "execute_result"
    }
   ],
   "source": [
    "A.T"
   ]
  },
  {
   "cell_type": "code",
   "execution_count": 180,
   "id": "62585d48-ab98-467b-b713-b8ab1cb615fe",
   "metadata": {},
   "outputs": [
    {
     "data": {
      "text/plain": [
       "(3, 2)"
      ]
     },
     "execution_count": 180,
     "metadata": {},
     "output_type": "execute_result"
    }
   ],
   "source": [
    "A.T.shape"
   ]
  },
  {
   "cell_type": "code",
   "execution_count": 182,
   "id": "2be4bebe-0508-4b2a-902f-1247087c9ef3",
   "metadata": {},
   "outputs": [
    {
     "data": {
      "text/plain": [
       "array([[0, 1],\n",
       "       [2, 3],\n",
       "       [4, 5]])"
      ]
     },
     "execution_count": 182,
     "metadata": {},
     "output_type": "execute_result"
    }
   ],
   "source": [
    "A.reshape(3,2)"
   ]
  },
  {
   "cell_type": "markdown",
   "id": "a78add5a-8768-4bca-9147-ba707dbb8970",
   "metadata": {},
   "source": [
    "### Flatten N-Dimensional Array\n",
    "- .flatten() ==> bikin array baru, 'deep'\n",
    "- .ravel() ==> copy array induk, 'shallow'"
   ]
  },
  {
   "cell_type": "code",
   "execution_count": 183,
   "id": "887c4f45-dc34-431a-8872-b5bfc5aa979c",
   "metadata": {},
   "outputs": [
    {
     "data": {
      "text/plain": [
       "array([[0, 1, 2],\n",
       "       [3, 4, 5]])"
      ]
     },
     "execution_count": 183,
     "metadata": {},
     "output_type": "execute_result"
    }
   ],
   "source": [
    "A"
   ]
  },
  {
   "cell_type": "code",
   "execution_count": 184,
   "id": "07dc1293-473d-4200-bf17-95e400dce908",
   "metadata": {},
   "outputs": [
    {
     "data": {
      "text/plain": [
       "array([0, 1, 2, 3, 4, 5])"
      ]
     },
     "execution_count": 184,
     "metadata": {},
     "output_type": "execute_result"
    }
   ],
   "source": [
    "A.flatten()"
   ]
  },
  {
   "cell_type": "code",
   "execution_count": 185,
   "id": "474b59d3-bf12-437c-aa00-f4d8790cc773",
   "metadata": {},
   "outputs": [
    {
     "data": {
      "text/plain": [
       "array([0, 1, 2, 3, 4, 5])"
      ]
     },
     "execution_count": 185,
     "metadata": {},
     "output_type": "execute_result"
    }
   ],
   "source": [
    "A.ravel()"
   ]
  },
  {
   "cell_type": "code",
   "execution_count": 187,
   "id": "481d856a-e203-4cc4-9b6e-bc4200b3bbd0",
   "metadata": {},
   "outputs": [
    {
     "data": {
      "text/plain": [
       "array([[0, 1, 2, 3],\n",
       "       [3, 4, 5, 6],\n",
       "       [4, 5, 6, 7]])"
      ]
     },
     "execution_count": 187,
     "metadata": {},
     "output_type": "execute_result"
    }
   ],
   "source": [
    "B = np.array([[0,1,2,3],[3,4,5,6],[4,5,6,7]])\n",
    "B"
   ]
  },
  {
   "cell_type": "code",
   "execution_count": 188,
   "id": "a2ccde0c-ce81-4a75-9b97-0ba98422f64d",
   "metadata": {},
   "outputs": [
    {
     "data": {
      "text/plain": [
       "(3, 4)"
      ]
     },
     "execution_count": 188,
     "metadata": {},
     "output_type": "execute_result"
    }
   ],
   "source": [
    "B.shape"
   ]
  },
  {
   "cell_type": "code",
   "execution_count": 189,
   "id": "7d8f999a-ce94-4165-ab8e-06034450f4fa",
   "metadata": {},
   "outputs": [
    {
     "data": {
      "text/plain": [
       "array([0, 1, 2, 3, 3, 4, 5, 6, 4, 5, 6, 7])"
      ]
     },
     "execution_count": 189,
     "metadata": {},
     "output_type": "execute_result"
    }
   ],
   "source": [
    "B.flatten()"
   ]
  },
  {
   "cell_type": "code",
   "execution_count": 190,
   "id": "998f6438-8206-4590-8ce9-dcb34f5f1bd0",
   "metadata": {},
   "outputs": [
    {
     "data": {
      "text/plain": [
       "array([0, 1, 2, 3, 3, 4, 5, 6, 4, 5, 6, 7])"
      ]
     },
     "execution_count": 190,
     "metadata": {},
     "output_type": "execute_result"
    }
   ],
   "source": [
    "B.ravel()"
   ]
  },
  {
   "cell_type": "code",
   "execution_count": null,
   "id": "7c92f531-99f4-4123-a484-fadf57038f6d",
   "metadata": {},
   "outputs": [],
   "source": []
  }
 ],
 "metadata": {
  "kernelspec": {
   "display_name": "Python 3",
   "language": "python",
   "name": "python3"
  },
  "language_info": {
   "codemirror_mode": {
    "name": "ipython",
    "version": 3
   },
   "file_extension": ".py",
   "mimetype": "text/x-python",
   "name": "python",
   "nbconvert_exporter": "python",
   "pygments_lexer": "ipython3",
   "version": "3.8.8"
  }
 },
 "nbformat": 4,
 "nbformat_minor": 5
}
